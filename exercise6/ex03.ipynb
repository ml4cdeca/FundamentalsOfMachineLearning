{
 "cells": [
  {
   "cell_type": "code",
   "execution_count": 14,
   "metadata": {},
   "outputs": [],
   "source": [
    "import numpy as np\n",
    "import scipy.sparse as sp\n",
    "from sklearn.datasets import load_digits\n",
    "from sklearn import model_selection"
   ]
  },
  {
   "cell_type": "code",
   "execution_count": 89,
   "metadata": {},
   "outputs": [],
   "source": [
    "def omp_regression(X,y,T):\n",
    "    #Initialization\n",
    "    A = np.array([])\n",
    "    B = np.arange(len(X[0]))\n",
    "    r = y\n",
    "    solutions = []\n",
    "    #Iteration\n",
    "    for t in range (1, T + 1):\n",
    "        corr = np.abs(np.matmul(X.T, r))\n",
    "        j = np.argmax(corr)\n",
    "        print(j)\n",
    "        A = np.append(A, j)\n",
    "        B = np.delete(B, j)\n",
    "        X_t = np.delete(X, A, axis = 1)\n",
    "        beta = np.linalg.lstsq(X_t, y)[0]\n",
    "        r = y - np.matmul(X_t,beta)\n",
    "        #solutions.append(np.insert(beta,(np.sort(A) - np.arange(len(A))).astype(int),0))\n",
    "        beta[A.astype(int)] = 0\n",
    "        solutions.append(beta)\n",
    "    return np.array(solutions)"
   ]
  },
  {
   "cell_type": "code",
   "execution_count": 90,
   "metadata": {},
   "outputs": [
    {
     "name": "stdout",
     "output_type": "stream",
     "text": [
      "dict_keys(['data', 'target', 'target_names', 'images', 'DESCR'])\n"
     ]
    }
   ],
   "source": [
    "digits = load_digits ()\n",
    "print(digits.keys ()) #Python 3\n",
    "data = digits [\"data\"]\n",
    "images = digits [\"images\"]\n",
    "target = digits [\"target\"]\n",
    "target_names = digits [\"target_names\"]\n",
    "# filter out all 1's and 7's\n",
    "# split into train and test data\n",
    "X_all = data[(target==1)|(target==7)]\n",
    "y_all = target[(target==1)|(target==7)]\n",
    "y_all[y_all == 7] = -1\n",
    "X_train, X_test, y_train , y_test = model_selection.train_test_split(X_all,y_all,test_size = 0.4,random_state = 0)"
   ]
  },
  {
   "cell_type": "code",
   "execution_count": 91,
   "metadata": {},
   "outputs": [
    {
     "name": "stdout",
     "output_type": "stream",
     "text": [
      "19\n",
      "19\n",
      "19\n"
     ]
    },
    {
     "name": "stderr",
     "output_type": "stream",
     "text": [
      "C:\\Users\\user\\Anaconda3\\lib\\site-packages\\ipykernel_launcher.py:14: DeprecationWarning: using a non-integer array as obj in delete will result in an error in the future\n",
      "  \n",
      "C:\\Users\\user\\Anaconda3\\lib\\site-packages\\ipykernel_launcher.py:15: FutureWarning: `rcond` parameter will change to the default of machine precision times ``max(M, N)`` where M and N are the input matrix dimensions.\n",
      "To use the future default and silence this warning we advise to pass `rcond=None`, to keep using the old, explicitly pass `rcond=-1`.\n",
      "  from ipykernel import kernelapp as app\n"
     ]
    },
    {
     "data": {
      "text/plain": [
       "array([[ 4.13155473e-14,  5.40292464e-02,  1.07820988e-02,\n",
       "        -1.14504370e-02, -1.76061763e-02,  1.65009863e-02,\n",
       "        -2.91452008e-02,  6.32971107e-03, -7.63278329e-16,\n",
       "        -2.03448132e-02, -2.15971787e-02, -3.53307302e-04,\n",
       "        -8.60346790e-03, -2.41288747e-03,  4.28515169e-02,\n",
       "        -1.24957600e-01, -2.68882139e-16, -4.08413670e-04,\n",
       "         2.02143888e-02,  0.00000000e+00, -2.67521030e-03,\n",
       "        -3.17337010e-02,  8.44699358e-02,  1.63931368e-16,\n",
       "        -4.63545220e-03, -1.49285493e-02,  2.96768683e-02,\n",
       "        -2.93410593e-02, -1.74130922e-03, -2.66964909e-02,\n",
       "         8.15320034e-17,  2.51534904e-16,  1.04400314e-02,\n",
       "         1.35618176e-03, -3.12911154e-03, -1.40738732e-02,\n",
       "        -5.70747667e-03, -2.25462136e-02, -1.56125113e-17,\n",
       "        -1.80411242e-16, -3.56161125e-02,  1.03562008e-02,\n",
       "        -2.46092184e-02,  5.83224551e-03, -2.50122944e-02,\n",
       "         4.15145290e-02,  1.51788304e-16,  1.73472348e-17,\n",
       "         1.30532010e-02,  5.84624647e-03,  1.49883171e-02,\n",
       "         2.26317186e-03,  2.23716991e-02, -6.64250217e-03,\n",
       "        -1.04943714e-02,  0.00000000e+00, -8.47562904e-02,\n",
       "        -2.36206917e-02,  4.53545689e-04,  5.63379404e-02,\n",
       "        -2.93128841e-03,  4.40924265e-03, -1.12314095e-02],\n",
       "       [ 4.13155473e-14,  5.40292464e-02,  1.07820988e-02,\n",
       "        -1.14504370e-02, -1.76061763e-02,  1.65009863e-02,\n",
       "        -2.91452008e-02,  6.32971107e-03, -7.63278329e-16,\n",
       "        -2.03448132e-02, -2.15971787e-02, -3.53307302e-04,\n",
       "        -8.60346790e-03, -2.41288747e-03,  4.28515169e-02,\n",
       "        -1.24957600e-01, -2.68882139e-16, -4.08413670e-04,\n",
       "         2.02143888e-02,  0.00000000e+00, -2.67521030e-03,\n",
       "        -3.17337010e-02,  8.44699358e-02,  1.63931368e-16,\n",
       "        -4.63545220e-03, -1.49285493e-02,  2.96768683e-02,\n",
       "        -2.93410593e-02, -1.74130922e-03, -2.66964909e-02,\n",
       "         8.15320034e-17,  2.51534904e-16,  1.04400314e-02,\n",
       "         1.35618176e-03, -3.12911154e-03, -1.40738732e-02,\n",
       "        -5.70747667e-03, -2.25462136e-02, -1.56125113e-17,\n",
       "        -1.80411242e-16, -3.56161125e-02,  1.03562008e-02,\n",
       "        -2.46092184e-02,  5.83224551e-03, -2.50122944e-02,\n",
       "         4.15145290e-02,  1.51788304e-16,  1.73472348e-17,\n",
       "         1.30532010e-02,  5.84624647e-03,  1.49883171e-02,\n",
       "         2.26317186e-03,  2.23716991e-02, -6.64250217e-03,\n",
       "        -1.04943714e-02,  0.00000000e+00, -8.47562904e-02,\n",
       "        -2.36206917e-02,  4.53545689e-04,  5.63379404e-02,\n",
       "        -2.93128841e-03,  4.40924265e-03, -1.12314095e-02],\n",
       "       [ 4.13155473e-14,  5.40292464e-02,  1.07820988e-02,\n",
       "        -1.14504370e-02, -1.76061763e-02,  1.65009863e-02,\n",
       "        -2.91452008e-02,  6.32971107e-03, -7.63278329e-16,\n",
       "        -2.03448132e-02, -2.15971787e-02, -3.53307302e-04,\n",
       "        -8.60346790e-03, -2.41288747e-03,  4.28515169e-02,\n",
       "        -1.24957600e-01, -2.68882139e-16, -4.08413670e-04,\n",
       "         2.02143888e-02,  0.00000000e+00, -2.67521030e-03,\n",
       "        -3.17337010e-02,  8.44699358e-02,  1.63931368e-16,\n",
       "        -4.63545220e-03, -1.49285493e-02,  2.96768683e-02,\n",
       "        -2.93410593e-02, -1.74130922e-03, -2.66964909e-02,\n",
       "         8.15320034e-17,  2.51534904e-16,  1.04400314e-02,\n",
       "         1.35618176e-03, -3.12911154e-03, -1.40738732e-02,\n",
       "        -5.70747667e-03, -2.25462136e-02, -1.56125113e-17,\n",
       "        -1.80411242e-16, -3.56161125e-02,  1.03562008e-02,\n",
       "        -2.46092184e-02,  5.83224551e-03, -2.50122944e-02,\n",
       "         4.15145290e-02,  1.51788304e-16,  1.73472348e-17,\n",
       "         1.30532010e-02,  5.84624647e-03,  1.49883171e-02,\n",
       "         2.26317186e-03,  2.23716991e-02, -6.64250217e-03,\n",
       "        -1.04943714e-02,  0.00000000e+00, -8.47562904e-02,\n",
       "        -2.36206917e-02,  4.53545689e-04,  5.63379404e-02,\n",
       "        -2.93128841e-03,  4.40924265e-03, -1.12314095e-02]])"
      ]
     },
     "execution_count": 91,
     "metadata": {},
     "output_type": "execute_result"
    }
   ],
   "source": [
    "omp_regression(X_train,y_train,3)"
   ]
  },
  {
   "cell_type": "code",
   "execution_count": 37,
   "metadata": {},
   "outputs": [
    {
     "ename": "TypeError",
     "evalue": "slice indices must be integers or None or have an __index__ method",
     "output_type": "error",
     "traceback": [
      "\u001b[1;31m---------------------------------------------------------------------------\u001b[0m",
      "\u001b[1;31mTypeError\u001b[0m                                 Traceback (most recent call last)",
      "\u001b[1;32m<ipython-input-37-6080a6158a43>\u001b[0m in \u001b[0;36m<module>\u001b[1;34m()\u001b[0m\n\u001b[0;32m      1\u001b[0m \u001b[0mx\u001b[0m \u001b[1;33m=\u001b[0m \u001b[0mnp\u001b[0m\u001b[1;33m.\u001b[0m\u001b[0marange\u001b[0m\u001b[1;33m(\u001b[0m\u001b[1;36m6\u001b[0m\u001b[1;33m)\u001b[0m\u001b[1;33m\u001b[0m\u001b[0m\n\u001b[0;32m      2\u001b[0m \u001b[0my\u001b[0m \u001b[1;33m=\u001b[0m \u001b[0mnp\u001b[0m\u001b[1;33m.\u001b[0m\u001b[0marray\u001b[0m\u001b[1;33m(\u001b[0m\u001b[1;33m[\u001b[0m\u001b[1;36m2.\u001b[0m\u001b[1;33m]\u001b[0m\u001b[1;33m)\u001b[0m\u001b[1;33m\u001b[0m\u001b[0m\n\u001b[1;32m----> 3\u001b[1;33m \u001b[0mnp\u001b[0m\u001b[1;33m.\u001b[0m\u001b[0minsert\u001b[0m\u001b[1;33m(\u001b[0m\u001b[0mx\u001b[0m\u001b[1;33m,\u001b[0m\u001b[0mnp\u001b[0m\u001b[1;33m.\u001b[0m\u001b[0msort\u001b[0m\u001b[1;33m(\u001b[0m\u001b[0my\u001b[0m\u001b[1;33m)\u001b[0m\u001b[1;33m-\u001b[0m\u001b[0mnp\u001b[0m\u001b[1;33m.\u001b[0m\u001b[0marange\u001b[0m\u001b[1;33m(\u001b[0m\u001b[0mlen\u001b[0m\u001b[1;33m(\u001b[0m\u001b[0my\u001b[0m\u001b[1;33m)\u001b[0m\u001b[1;33m)\u001b[0m\u001b[1;33m,\u001b[0m\u001b[1;36m0\u001b[0m\u001b[1;33m)\u001b[0m\u001b[1;33m\u001b[0m\u001b[0m\n\u001b[0m",
      "\u001b[1;32m~\\Anaconda3\\lib\\site-packages\\numpy\\lib\\function_base.py\u001b[0m in \u001b[0;36minsert\u001b[1;34m(arr, obj, values, axis)\u001b[0m\n\u001b[0;32m   4431\u001b[0m         \u001b[0mnew\u001b[0m \u001b[1;33m=\u001b[0m \u001b[0mempty\u001b[0m\u001b[1;33m(\u001b[0m\u001b[0mnewshape\u001b[0m\u001b[1;33m,\u001b[0m \u001b[0marr\u001b[0m\u001b[1;33m.\u001b[0m\u001b[0mdtype\u001b[0m\u001b[1;33m,\u001b[0m \u001b[0marrorder\u001b[0m\u001b[1;33m)\u001b[0m\u001b[1;33m\u001b[0m\u001b[0m\n\u001b[0;32m   4432\u001b[0m         \u001b[0mslobj\u001b[0m\u001b[1;33m[\u001b[0m\u001b[0maxis\u001b[0m\u001b[1;33m]\u001b[0m \u001b[1;33m=\u001b[0m \u001b[0mslice\u001b[0m\u001b[1;33m(\u001b[0m\u001b[1;32mNone\u001b[0m\u001b[1;33m,\u001b[0m \u001b[0mindex\u001b[0m\u001b[1;33m)\u001b[0m\u001b[1;33m\u001b[0m\u001b[0m\n\u001b[1;32m-> 4433\u001b[1;33m         \u001b[0mnew\u001b[0m\u001b[1;33m[\u001b[0m\u001b[0mtuple\u001b[0m\u001b[1;33m(\u001b[0m\u001b[0mslobj\u001b[0m\u001b[1;33m)\u001b[0m\u001b[1;33m]\u001b[0m \u001b[1;33m=\u001b[0m \u001b[0marr\u001b[0m\u001b[1;33m[\u001b[0m\u001b[0mtuple\u001b[0m\u001b[1;33m(\u001b[0m\u001b[0mslobj\u001b[0m\u001b[1;33m)\u001b[0m\u001b[1;33m]\u001b[0m\u001b[1;33m\u001b[0m\u001b[0m\n\u001b[0m\u001b[0;32m   4434\u001b[0m         \u001b[0mslobj\u001b[0m\u001b[1;33m[\u001b[0m\u001b[0maxis\u001b[0m\u001b[1;33m]\u001b[0m \u001b[1;33m=\u001b[0m \u001b[0mslice\u001b[0m\u001b[1;33m(\u001b[0m\u001b[0mindex\u001b[0m\u001b[1;33m,\u001b[0m \u001b[0mindex\u001b[0m\u001b[1;33m+\u001b[0m\u001b[0mnumnew\u001b[0m\u001b[1;33m)\u001b[0m\u001b[1;33m\u001b[0m\u001b[0m\n\u001b[0;32m   4435\u001b[0m         \u001b[0mnew\u001b[0m\u001b[1;33m[\u001b[0m\u001b[0mtuple\u001b[0m\u001b[1;33m(\u001b[0m\u001b[0mslobj\u001b[0m\u001b[1;33m)\u001b[0m\u001b[1;33m]\u001b[0m \u001b[1;33m=\u001b[0m \u001b[0mvalues\u001b[0m\u001b[1;33m\u001b[0m\u001b[0m\n",
      "\u001b[1;31mTypeError\u001b[0m: slice indices must be integers or None or have an __index__ method"
     ]
    }
   ],
   "source": [
    "x = np.arange(6)\n",
    "y = np.array([2.])\n",
    "np.insert(x,np.sort(y)-np.arange(len(y)),0)"
   ]
  },
  {
   "cell_type": "code",
   "execution_count": null,
   "metadata": {},
   "outputs": [],
   "source": []
  }
 ],
 "metadata": {
  "kernelspec": {
   "display_name": "Python 3",
   "language": "python",
   "name": "python3"
  },
  "language_info": {
   "codemirror_mode": {
    "name": "ipython",
    "version": 3
   },
   "file_extension": ".py",
   "mimetype": "text/x-python",
   "name": "python",
   "nbconvert_exporter": "python",
   "pygments_lexer": "ipython3",
   "version": "3.7.0"
  }
 },
 "nbformat": 4,
 "nbformat_minor": 2
}
