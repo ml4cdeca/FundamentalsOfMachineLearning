{
 "cells": [
  {
   "cell_type": "markdown",
   "metadata": {},
   "source": [
    "# Exercise 06\n",
    "## 1 Bias and variance of ridge regression "
   ]
  },
  {
   "cell_type": "markdown",
   "metadata": {},
   "source": [
    "$$\\hat \\beta = \\text{argmin}_\\beta \\underbrace{||X\\beta -y||_2^2+\\tau||\\beta||_2^2}_{=:B}$$\n",
    "We will now take the derivative of $B$ with respect to $\\beta$ in order to find $\\hat \\beta$.\n",
    "$$0\\overset{!}{=}\\frac{\\partial B}{\\partial \\beta}=\n",
    "\\frac \\partial{\\partial \\beta} \\left( ||X\\beta-y||^2\\right)+\\frac \\partial{\\partial \\beta}\\left( \\tau ||\\beta||^2\\right)=\n",
    "$$"
   ]
  },
  {
   "cell_type": "markdown",
   "metadata": {},
   "source": [
    "## 2 Denoising of a CT image"
   ]
  },
  {
   "cell_type": "code",
   "execution_count": null,
   "metadata": {
    "collapsed": true
   },
   "outputs": [],
   "source": []
  }
 ],
 "metadata": {
  "kernelspec": {
   "display_name": "Python 3",
   "language": "python",
   "name": "python3"
  },
  "language_info": {
   "codemirror_mode": {
    "name": "ipython",
    "version": 3
   },
   "file_extension": ".py",
   "mimetype": "text/x-python",
   "name": "python",
   "nbconvert_exporter": "python",
   "pygments_lexer": "ipython3",
   "version": "3.6.0"
  }
 },
 "nbformat": 4,
 "nbformat_minor": 2
}
