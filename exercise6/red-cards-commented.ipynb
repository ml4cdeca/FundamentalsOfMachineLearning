{
 "cells": [
  {
   "cell_type": "markdown",
   "metadata": {},
   "source": [
    "# Exercise 4a\n",
    "## 3 Red Cards Study"
   ]
  },
  {
   "cell_type": "code",
   "execution_count": 1,
   "metadata": {
    "collapsed": true
   },
   "outputs": [],
   "source": [
    "import numpy as np\n",
    "import matplotlib.pyplot as plt\n",
    "%matplotlib inline\n",
    "import pandas as pd\n",
    "from sklearn.model_selection import train_test_split, cross_val_score"
   ]
  },
  {
   "cell_type": "markdown",
   "metadata": {},
   "source": [
    "### 3.1  Loading and Cleaning the Data"
   ]
  },
  {
   "cell_type": "code",
   "execution_count": 23,
   "metadata": {
    "collapsed": true
   },
   "outputs": [],
   "source": [
    "#load data with pandas\n",
    "dataDyad=pd.read_csv('data/CrowdstormingDataJuly1st.csv')"
   ]
  },
  {
   "cell_type": "code",
   "execution_count": 3,
   "metadata": {
    "collapsed": false
   },
   "outputs": [
    {
     "data": {
      "text/html": [
       "<div>\n",
       "<table border=\"1\" class=\"dataframe\">\n",
       "  <thead>\n",
       "    <tr style=\"text-align: right;\">\n",
       "      <th></th>\n",
       "      <th>1200</th>\n",
       "    </tr>\n",
       "  </thead>\n",
       "  <tbody>\n",
       "    <tr>\n",
       "      <th>playerShort</th>\n",
       "      <td>toni-kroos</td>\n",
       "    </tr>\n",
       "    <tr>\n",
       "      <th>player</th>\n",
       "      <td>Toni Kroos</td>\n",
       "    </tr>\n",
       "    <tr>\n",
       "      <th>club</th>\n",
       "      <td>Bayern München</td>\n",
       "    </tr>\n",
       "    <tr>\n",
       "      <th>leagueCountry</th>\n",
       "      <td>Germany</td>\n",
       "    </tr>\n",
       "    <tr>\n",
       "      <th>birthday</th>\n",
       "      <td>04.01.1990</td>\n",
       "    </tr>\n",
       "    <tr>\n",
       "      <th>height</th>\n",
       "      <td>182</td>\n",
       "    </tr>\n",
       "    <tr>\n",
       "      <th>weight</th>\n",
       "      <td>78</td>\n",
       "    </tr>\n",
       "    <tr>\n",
       "      <th>position</th>\n",
       "      <td>Attacking Midfielder</td>\n",
       "    </tr>\n",
       "    <tr>\n",
       "      <th>games</th>\n",
       "      <td>1</td>\n",
       "    </tr>\n",
       "    <tr>\n",
       "      <th>victories</th>\n",
       "      <td>1</td>\n",
       "    </tr>\n",
       "    <tr>\n",
       "      <th>ties</th>\n",
       "      <td>0</td>\n",
       "    </tr>\n",
       "    <tr>\n",
       "      <th>defeats</th>\n",
       "      <td>0</td>\n",
       "    </tr>\n",
       "    <tr>\n",
       "      <th>goals</th>\n",
       "      <td>0</td>\n",
       "    </tr>\n",
       "    <tr>\n",
       "      <th>yellowCards</th>\n",
       "      <td>0</td>\n",
       "    </tr>\n",
       "    <tr>\n",
       "      <th>yellowReds</th>\n",
       "      <td>0</td>\n",
       "    </tr>\n",
       "    <tr>\n",
       "      <th>redCards</th>\n",
       "      <td>0</td>\n",
       "    </tr>\n",
       "    <tr>\n",
       "      <th>photoID</th>\n",
       "      <td>84724.jpg</td>\n",
       "    </tr>\n",
       "    <tr>\n",
       "      <th>rater1</th>\n",
       "      <td>0</td>\n",
       "    </tr>\n",
       "    <tr>\n",
       "      <th>rater2</th>\n",
       "      <td>0</td>\n",
       "    </tr>\n",
       "    <tr>\n",
       "      <th>refNum</th>\n",
       "      <td>66</td>\n",
       "    </tr>\n",
       "    <tr>\n",
       "      <th>refCountry</th>\n",
       "      <td>4</td>\n",
       "    </tr>\n",
       "    <tr>\n",
       "      <th>Alpha_3</th>\n",
       "      <td>LUX</td>\n",
       "    </tr>\n",
       "    <tr>\n",
       "      <th>meanIAT</th>\n",
       "      <td>0.325185</td>\n",
       "    </tr>\n",
       "    <tr>\n",
       "      <th>nIAT</th>\n",
       "      <td>127</td>\n",
       "    </tr>\n",
       "    <tr>\n",
       "      <th>seIAT</th>\n",
       "      <td>0.00329681</td>\n",
       "    </tr>\n",
       "    <tr>\n",
       "      <th>meanExp</th>\n",
       "      <td>0.538462</td>\n",
       "    </tr>\n",
       "    <tr>\n",
       "      <th>nExp</th>\n",
       "      <td>130</td>\n",
       "    </tr>\n",
       "    <tr>\n",
       "      <th>seExp</th>\n",
       "      <td>0.0137522</td>\n",
       "    </tr>\n",
       "  </tbody>\n",
       "</table>\n",
       "</div>"
      ],
      "text/plain": [
       "                               1200\n",
       "playerShort              toni-kroos\n",
       "player                   Toni Kroos\n",
       "club                 Bayern München\n",
       "leagueCountry               Germany\n",
       "birthday                 04.01.1990\n",
       "height                          182\n",
       "weight                           78\n",
       "position       Attacking Midfielder\n",
       "games                             1\n",
       "victories                         1\n",
       "ties                              0\n",
       "defeats                           0\n",
       "goals                             0\n",
       "yellowCards                       0\n",
       "yellowReds                        0\n",
       "redCards                          0\n",
       "photoID                   84724.jpg\n",
       "rater1                            0\n",
       "rater2                            0\n",
       "refNum                           66\n",
       "refCountry                        4\n",
       "Alpha_3                         LUX\n",
       "meanIAT                    0.325185\n",
       "nIAT                            127\n",
       "seIAT                    0.00329681\n",
       "meanExp                    0.538462\n",
       "nExp                            130\n",
       "seExp                     0.0137522"
      ]
     },
     "execution_count": 3,
     "metadata": {},
     "output_type": "execute_result"
    }
   ],
   "source": [
    "#example\n",
    "dataDyad.ix[[1200]].T"
   ]
  },
  {
   "cell_type": "markdown",
   "metadata": {},
   "source": [
    "All features for Toni Kroos - ref 66 - dyad. The column <tt>games</tt> stands for the number of games in the player-referee dyad"
   ]
  },
  {
   "cell_type": "markdown",
   "metadata": {},
   "source": [
    "We don't need all the features for our purposes. We can drop the features like <tt>player</tt>, <tt>club</tt>, <tt>height</tt>, <tt>yellowCards</tt> and <tt>photoID</tt>. <tt>yellowReds</tt> also gets dropped since it is not the same as a red card.\n",
    "\n",
    "From <tt>Alpha_3</tt> to <tt>seExp</tt> the features are referee only. Since in the next step we will restructure the data set in a way that it is not dyad based anymore but playerbased. This step can be made because the question was to answer if \"players with dark skin [are more likely to get red cards] than [...] players with light skin\". Also in the next part we want to compute the fraction of games where one player gets a red card."
   ]
  },
  {
   "cell_type": "markdown",
   "metadata": {},
   "source": [
    "<span style =\"color:green;font-weight:bold \">In the solution the following features were dropped:</span >\n",
    "\n",
    "<span style =\"color:green;font-weight:bold \"><tt>'photoID', 'Alpha_3', 'yellowCards', 'meanIAT', 'nIAT', 'nIAT', 'seIAT', 'meanExp', 'nExp', 'seExp', 'refNum', 'refCountry'.</tt></span >\n",
    "\n",
    "<span style =\"color:green;font-weight:bold \">We also dropped the <tt>yellowReds</tt> because in our opinion this feature counts to how yellow cards are distributed but we are only interested in red cards.</span >\n",
    "\n",
    "<span style =\"color:green;font-weight:bold \">We also dropped the features <tt>victories, ties, defeats, goals</tt> which in retrospect was maybe not a very good idea as it may hold information to the player's degree of frustration. We could have summed those features just like we summed the <tt>games</tt> later on.</span >"
   ]
  },
  {
   "cell_type": "code",
   "execution_count": 4,
   "metadata": {
    "collapsed": true
   },
   "outputs": [],
   "source": [
    "dataDyad.drop(dataDyad.columns[[1,2,5,6,7,9,10,11,12,13,14,16,19,20,21,22,23,24,25,26,27]],1,inplace=True)"
   ]
  },
  {
   "cell_type": "code",
   "execution_count": 5,
   "metadata": {
    "collapsed": false
   },
   "outputs": [
    {
     "data": {
      "text/html": [
       "<div>\n",
       "<table border=\"1\" class=\"dataframe\">\n",
       "  <thead>\n",
       "    <tr style=\"text-align: right;\">\n",
       "      <th></th>\n",
       "      <th>1200</th>\n",
       "    </tr>\n",
       "  </thead>\n",
       "  <tbody>\n",
       "    <tr>\n",
       "      <th>playerShort</th>\n",
       "      <td>toni-kroos</td>\n",
       "    </tr>\n",
       "    <tr>\n",
       "      <th>leagueCountry</th>\n",
       "      <td>Germany</td>\n",
       "    </tr>\n",
       "    <tr>\n",
       "      <th>birthday</th>\n",
       "      <td>04.01.1990</td>\n",
       "    </tr>\n",
       "    <tr>\n",
       "      <th>games</th>\n",
       "      <td>1</td>\n",
       "    </tr>\n",
       "    <tr>\n",
       "      <th>redCards</th>\n",
       "      <td>0</td>\n",
       "    </tr>\n",
       "    <tr>\n",
       "      <th>rater1</th>\n",
       "      <td>0</td>\n",
       "    </tr>\n",
       "    <tr>\n",
       "      <th>rater2</th>\n",
       "      <td>0</td>\n",
       "    </tr>\n",
       "  </tbody>\n",
       "</table>\n",
       "</div>"
      ],
      "text/plain": [
       "                     1200\n",
       "playerShort    toni-kroos\n",
       "leagueCountry     Germany\n",
       "birthday       04.01.1990\n",
       "games                   1\n",
       "redCards                0\n",
       "rater1                  0\n",
       "rater2                  0"
      ]
     },
     "execution_count": 5,
     "metadata": {},
     "output_type": "execute_result"
    }
   ],
   "source": [
    "#now the data looks likt this:\n",
    "dataDyad.ix[[1200]].T"
   ]
  },
  {
   "cell_type": "code",
   "execution_count": 6,
   "metadata": {
    "collapsed": true
   },
   "outputs": [],
   "source": [
    "#combine all instances of one player into one entry. Add all cards and games in the process\n",
    "players=np.unique(dataDyad['playerShort']) #all the player names\n",
    "data = dataDyad.groupby(dataDyad['playerShort']).agg({'playerShort':'first','leagueCountry':'first', 'birthday':'first',\n",
    "                                                      'games': 'sum', 'redCards': 'sum','rater1':'first','rater2':'first'})"
   ]
  },
  {
   "cell_type": "code",
   "execution_count": 7,
   "metadata": {
    "collapsed": true
   },
   "outputs": [],
   "source": [
    "#transform birthday to age:\n",
    "#season: 2012-2013, so at the end it was 2013\n",
    "data['age'] = data['birthday'].apply(lambda x:2013- int(str(x)[-4:]))\n",
    "#we can now drop the birthday column\n",
    "data.drop('birthday',1,inplace=True)"
   ]
  },
  {
   "cell_type": "code",
   "execution_count": 8,
   "metadata": {
    "collapsed": false
   },
   "outputs": [
    {
     "data": {
      "text/html": [
       "<div>\n",
       "<table border=\"1\" class=\"dataframe\">\n",
       "  <thead>\n",
       "    <tr style=\"text-align: right;\">\n",
       "      <th>playerShort</th>\n",
       "      <th>aaron-hughes</th>\n",
       "      <th>aaron-hunt</th>\n",
       "      <th>aaron-lennon</th>\n",
       "      <th>aaron-ramsey</th>\n",
       "      <th>abdelhamid-el-kaoutari</th>\n",
       "      <th>abdon-prats</th>\n",
       "      <th>abdou-dampha</th>\n",
       "      <th>abdou-traore_2</th>\n",
       "      <th>abdoul-camara</th>\n",
       "      <th>abdoulaye-diallo_2</th>\n",
       "      <th>abdoulaye-diallo_3</th>\n",
       "      <th>abdoulaye-keita_2</th>\n",
       "      <th>abdoulaye-sane</th>\n",
       "      <th>abdoulwhaid-sissoko</th>\n",
       "      <th>abdul-rahman-baba</th>\n",
       "      <th>abdul-razak</th>\n",
       "      <th>abel-aguilar</th>\n",
       "      <th>abel-khaled</th>\n",
       "      <th>abelaziz-barrada</th>\n",
       "    </tr>\n",
       "  </thead>\n",
       "  <tbody>\n",
       "    <tr>\n",
       "      <th>rater1</th>\n",
       "      <td>0.25</td>\n",
       "      <td>0.00</td>\n",
       "      <td>0.25</td>\n",
       "      <td>0.0</td>\n",
       "      <td>0.25</td>\n",
       "      <td>NaN</td>\n",
       "      <td>NaN</td>\n",
       "      <td>0.75</td>\n",
       "      <td>NaN</td>\n",
       "      <td>0.75</td>\n",
       "      <td>NaN</td>\n",
       "      <td>0.75</td>\n",
       "      <td>NaN</td>\n",
       "      <td>1.0</td>\n",
       "      <td>0.75</td>\n",
       "      <td>1.0</td>\n",
       "      <td>0.50</td>\n",
       "      <td>NaN</td>\n",
       "      <td>0.0</td>\n",
       "    </tr>\n",
       "    <tr>\n",
       "      <th>rater2</th>\n",
       "      <td>0.00</td>\n",
       "      <td>0.25</td>\n",
       "      <td>0.25</td>\n",
       "      <td>0.0</td>\n",
       "      <td>0.25</td>\n",
       "      <td>NaN</td>\n",
       "      <td>NaN</td>\n",
       "      <td>0.75</td>\n",
       "      <td>NaN</td>\n",
       "      <td>1.00</td>\n",
       "      <td>NaN</td>\n",
       "      <td>1.00</td>\n",
       "      <td>NaN</td>\n",
       "      <td>1.0</td>\n",
       "      <td>1.00</td>\n",
       "      <td>1.0</td>\n",
       "      <td>0.25</td>\n",
       "      <td>NaN</td>\n",
       "      <td>0.0</td>\n",
       "    </tr>\n",
       "  </tbody>\n",
       "</table>\n",
       "</div>"
      ],
      "text/plain": [
       "playerShort  aaron-hughes  aaron-hunt  aaron-lennon  aaron-ramsey  \\\n",
       "rater1               0.25        0.00          0.25           0.0   \n",
       "rater2               0.00        0.25          0.25           0.0   \n",
       "\n",
       "playerShort  abdelhamid-el-kaoutari  abdon-prats  abdou-dampha  \\\n",
       "rater1                         0.25          NaN           NaN   \n",
       "rater2                         0.25          NaN           NaN   \n",
       "\n",
       "playerShort  abdou-traore_2  abdoul-camara  abdoulaye-diallo_2  \\\n",
       "rater1                 0.75            NaN                0.75   \n",
       "rater2                 0.75            NaN                1.00   \n",
       "\n",
       "playerShort  abdoulaye-diallo_3  abdoulaye-keita_2  abdoulaye-sane  \\\n",
       "rater1                      NaN               0.75             NaN   \n",
       "rater2                      NaN               1.00             NaN   \n",
       "\n",
       "playerShort  abdoulwhaid-sissoko  abdul-rahman-baba  abdul-razak  \\\n",
       "rater1                       1.0               0.75          1.0   \n",
       "rater2                       1.0               1.00          1.0   \n",
       "\n",
       "playerShort  abel-aguilar  abel-khaled  abelaziz-barrada  \n",
       "rater1               0.50          NaN               0.0  \n",
       "rater2               0.25          NaN               0.0  "
      ]
     },
     "execution_count": 8,
     "metadata": {},
     "output_type": "execute_result"
    }
   ],
   "source": [
    "data.ix[:19,['rater1','rater2']].T"
   ]
  },
  {
   "cell_type": "code",
   "execution_count": 9,
   "metadata": {
    "collapsed": false
   },
   "outputs": [
    {
     "data": {
      "text/plain": [
       "(0.06009463722397476, 0.011570022589537095)"
      ]
     },
     "execution_count": 9,
     "metadata": {},
     "output_type": "execute_result"
    }
   ],
   "source": [
    "np.mean(abs(data.ix[:,'rater1']-data.ix[:,'rater2'])),np.var(abs(data.ix[:,'rater1']-data.ix[:,'rater2']))"
   ]
  },
  {
   "cell_type": "markdown",
   "metadata": {},
   "source": [
    "I've looked at a small cut of the data set and the two raters do disagree occasionally by $0.25$. Bhe overall disagreement is relativley low with $0.060\\pm0.012$"
   ]
  },
  {
   "cell_type": "code",
   "execution_count": 10,
   "metadata": {
    "collapsed": false
   },
   "outputs": [
    {
     "data": {
      "text/plain": [
       "0.22795908426692646"
      ]
     },
     "execution_count": 10,
     "metadata": {},
     "output_type": "execute_result"
    }
   ],
   "source": [
    "np.count_nonzero(np.isnan(data.ix[:,'rater1']))/len(data.ix[:,'rater1'])"
   ]
  },
  {
   "cell_type": "markdown",
   "metadata": {},
   "source": [
    "$\\Rightarrow$ So around $22\\%$ of the instances don't have a picture attached to them. All those instances don't help our case so we will drop them."
   ]
  },
  {
   "cell_type": "code",
   "execution_count": 11,
   "metadata": {
    "collapsed": true
   },
   "outputs": [],
   "source": [
    "#drop dyads with no skin color rating\n",
    "data.drop(data.index[np.where(np.isnan(data['rater1']))],inplace=True)"
   ]
  },
  {
   "cell_type": "markdown",
   "metadata": {},
   "source": [
    "<span style =\"color:green;font-weight:bold \">This was also done in the solution.</span >"
   ]
  },
  {
   "cell_type": "code",
   "execution_count": 12,
   "metadata": {
    "collapsed": false
   },
   "outputs": [
    {
     "name": "stdout",
     "output_type": "stream",
     "text": [
      "['England' 'France' 'Germany' 'Spain']\n"
     ]
    }
   ],
   "source": [
    "leagues=np.unique(data.ix[:,'leagueCountry'])\n",
    "print(leagues)"
   ]
  },
  {
   "cell_type": "markdown",
   "metadata": {},
   "source": [
    "There are only the four leagues above in the data set. So a One-Hot could be the following:\n",
    "\n",
    "\n",
    "|                     | England | France | Germany | Spain |\n",
    "|---------------------|---------|--------|---------|-------|\n",
    "| player from England | 1       | 0      | 0       | 0     |\n",
    "| player from France  | 0       | 1      | 0       | 0     |\n",
    "| player from Germany | 0       | 0      | 1       | 0     |\n",
    "| player from Spain   | 0       | 0      | 0       | 1     |\n",
    "\n",
    "We add to each player these columns and fill it with respect to his league Country"
   ]
  },
  {
   "cell_type": "code",
   "execution_count": 13,
   "metadata": {
    "collapsed": true
   },
   "outputs": [],
   "source": [
    "#create column for each country, set 1 if player is playing in that league and 0 if not\n",
    "for country in leagues:\n",
    "    data[country]=data['leagueCountry'].apply(lambda x:int(country==x))\n",
    "#we can now drop the leagueCountry column\n",
    "data.drop('leagueCountry',1,inplace=True)"
   ]
  },
  {
   "cell_type": "markdown",
   "metadata": {},
   "source": [
    "<span style =\"color:green;font-weight:bold \">This was done differently in the solution but the result should be the same</span >\n"
   ]
  },
  {
   "cell_type": "code",
   "execution_count": 14,
   "metadata": {
    "collapsed": true
   },
   "outputs": [],
   "source": [
    "#calculate labels...\n",
    "labels=data['redCards']/data['games']\n",
    "#...and drop all card related columns\n",
    "data.drop(data.columns[:3],1,inplace=True)"
   ]
  },
  {
   "cell_type": "code",
   "execution_count": 15,
   "metadata": {
    "collapsed": true
   },
   "outputs": [],
   "source": [
    "#centralization of the data:\n",
    "data=data-np.mean(data)\n",
    "labels=np.array(labels-np.mean(labels))"
   ]
  },
  {
   "cell_type": "code",
   "execution_count": 16,
   "metadata": {
    "collapsed": false
   },
   "outputs": [
    {
     "data": {
      "text/html": [
       "<div>\n",
       "<table border=\"1\" class=\"dataframe\">\n",
       "  <thead>\n",
       "    <tr style=\"text-align: right;\">\n",
       "      <th></th>\n",
       "      <th>rater1</th>\n",
       "      <th>rater2</th>\n",
       "      <th>age</th>\n",
       "      <th>England</th>\n",
       "      <th>France</th>\n",
       "      <th>Germany</th>\n",
       "      <th>Spain</th>\n",
       "    </tr>\n",
       "    <tr>\n",
       "      <th>playerShort</th>\n",
       "      <th></th>\n",
       "      <th></th>\n",
       "      <th></th>\n",
       "      <th></th>\n",
       "      <th></th>\n",
       "      <th></th>\n",
       "      <th></th>\n",
       "    </tr>\n",
       "  </thead>\n",
       "  <tbody>\n",
       "    <tr>\n",
       "      <th>aaron-hughes</th>\n",
       "      <td>-0.018612</td>\n",
       "      <td>-0.31041</td>\n",
       "      <td>6.899685</td>\n",
       "      <td>0.756467</td>\n",
       "      <td>-0.177918</td>\n",
       "      <td>-0.302208</td>\n",
       "      <td>-0.276341</td>\n",
       "    </tr>\n",
       "    <tr>\n",
       "      <th>aaron-hunt</th>\n",
       "      <td>-0.268612</td>\n",
       "      <td>-0.06041</td>\n",
       "      <td>-0.100315</td>\n",
       "      <td>-0.243533</td>\n",
       "      <td>-0.177918</td>\n",
       "      <td>0.697792</td>\n",
       "      <td>-0.276341</td>\n",
       "    </tr>\n",
       "    <tr>\n",
       "      <th>aaron-lennon</th>\n",
       "      <td>-0.018612</td>\n",
       "      <td>-0.06041</td>\n",
       "      <td>-1.100315</td>\n",
       "      <td>0.756467</td>\n",
       "      <td>-0.177918</td>\n",
       "      <td>-0.302208</td>\n",
       "      <td>-0.276341</td>\n",
       "    </tr>\n",
       "    <tr>\n",
       "      <th>aaron-ramsey</th>\n",
       "      <td>-0.268612</td>\n",
       "      <td>-0.31041</td>\n",
       "      <td>-4.100315</td>\n",
       "      <td>0.756467</td>\n",
       "      <td>-0.177918</td>\n",
       "      <td>-0.302208</td>\n",
       "      <td>-0.276341</td>\n",
       "    </tr>\n",
       "    <tr>\n",
       "      <th>abdelhamid-el-kaoutari</th>\n",
       "      <td>-0.018612</td>\n",
       "      <td>-0.06041</td>\n",
       "      <td>-4.100315</td>\n",
       "      <td>-0.243533</td>\n",
       "      <td>0.822082</td>\n",
       "      <td>-0.302208</td>\n",
       "      <td>-0.276341</td>\n",
       "    </tr>\n",
       "  </tbody>\n",
       "</table>\n",
       "</div>"
      ],
      "text/plain": [
       "                          rater1   rater2       age   England    France  \\\n",
       "playerShort                                                               \n",
       "aaron-hughes           -0.018612 -0.31041  6.899685  0.756467 -0.177918   \n",
       "aaron-hunt             -0.268612 -0.06041 -0.100315 -0.243533 -0.177918   \n",
       "aaron-lennon           -0.018612 -0.06041 -1.100315  0.756467 -0.177918   \n",
       "aaron-ramsey           -0.268612 -0.31041 -4.100315  0.756467 -0.177918   \n",
       "abdelhamid-el-kaoutari -0.018612 -0.06041 -4.100315 -0.243533  0.822082   \n",
       "\n",
       "                         Germany     Spain  \n",
       "playerShort                                 \n",
       "aaron-hughes           -0.302208 -0.276341  \n",
       "aaron-hunt              0.697792 -0.276341  \n",
       "aaron-lennon           -0.302208 -0.276341  \n",
       "aaron-ramsey           -0.302208 -0.276341  \n",
       "abdelhamid-el-kaoutari -0.302208 -0.276341  "
      ]
     },
     "execution_count": 16,
     "metadata": {},
     "output_type": "execute_result"
    }
   ],
   "source": [
    "#that's how the data looks now\n",
    "data.head()"
   ]
  },
  {
   "cell_type": "markdown",
   "metadata": {},
   "source": [
    "### 3.2 Model Creation"
   ]
  },
  {
   "cell_type": "markdown",
   "metadata": {},
   "source": [
    "#### Linear regression\n",
    "$$\\sum_{j=1}^DX_{ij}\\beta_j=y_i,\\ (\\mathbb N \\ni i\\leq N)$$\n",
    "$$\\Rightarrow\\mathbf X\\mathbf \\beta=\\mathbf y,\\ (\\text{matrices})$$\n",
    "$$\\hat{\\mathbf {\\beta}}= \\left(\\mathbf{X^TX}\\right)^{-1}\\mathbf{X^T y}$$"
   ]
  },
  {
   "cell_type": "code",
   "execution_count": 17,
   "metadata": {
    "collapsed": true
   },
   "outputs": [],
   "source": [
    "class linearReg:       \n",
    "    def train(self,x,y):\n",
    "        '''\n",
    "        Takes centralized data and finds the best beta (Dx1) vector\n",
    "        x: (NxD) matrix with data\n",
    "        y: (Nx1) vector with labels\n",
    "        '''\n",
    "        #centralize data:\n",
    "        x=x-np.mean(x)\n",
    "        y=y-np.mean(y)\n",
    "        #calculate the moore penrose pseudo inverse:\n",
    "        xPlus=np.linalg.pinv(x)\n",
    "        self.beta=xPlus@y\n",
    "        \n",
    "    def predict(self,x):\n",
    "        return self.beta@x"
   ]
  },
  {
   "cell_type": "markdown",
   "metadata": {},
   "source": [
    "<span style =\"color:green;font-weight:bold \">We didn't use linear_model from sklearn but instead used the pseudo inverse</span >"
   ]
  },
  {
   "cell_type": "markdown",
   "metadata": {},
   "source": [
    "#### Regression tree"
   ]
  },
  {
   "cell_type": "code",
   "execution_count": 18,
   "metadata": {
    "collapsed": true
   },
   "outputs": [],
   "source": [
    "class Node:\n",
    "    pass\n",
    "\n",
    "class Tree:\n",
    "    def __init__(self):\n",
    "        self.root = Node()\n",
    "    \n",
    "    def find_leaf(self, x):\n",
    "        node = self.root\n",
    "        while hasattr(node, \"feature\"):\n",
    "            j = node.feature\n",
    "            if x[j] <= node.threshold:\n",
    "                node = node.left\n",
    "            else:\n",
    "                node = node.right\n",
    "        return node"
   ]
  },
  {
   "cell_type": "code",
   "execution_count": 19,
   "metadata": {
    "collapsed": true
   },
   "outputs": [],
   "source": [
    "#since our solution to the 4th exercise was not working we took the solution from moodle and adjusted it \n",
    "class RegressionTree(Tree):\n",
    "    def __init__(self):\n",
    "        super(RegressionTree, self).__init__()\n",
    "        \n",
    "    def train(self, data, labels, n_min=20):\n",
    "        '''\n",
    "        data: the feature matrix for all digits\n",
    "        labels: the corresponding ground-truth responses\n",
    "        n_min: termination criterion (don't split if a node contains fewer instances)\n",
    "        '''\n",
    "        N, D = data.shape\n",
    "        D_try = int(np.sqrt(D)) # how many features to consider \n",
    "\n",
    "        # initialize the root node\n",
    "        self.root.data = data\n",
    "        self.root.labels = labels\n",
    "        \n",
    "        #put root in stack\n",
    "        stack = [self.root]\n",
    "        while len(stack):\n",
    "            node = stack.pop()\n",
    "            n = node.data.shape[0] # number of instances in present node\n",
    "            if n >= n_min:\n",
    "                # Call 'make_regression_split_node()' with 'D_try' randomly selected \n",
    "                # feature indices. This turns 'node' into a split node\n",
    "                # and returns the two children, which must be placed on the 'stack'.\n",
    "                \n",
    "                left, right = make_regression_split_node(node, np.arange(D)) #give all features since we only have a few\n",
    "                                                       \n",
    "                # put children in stack\n",
    "                stack.append(left)\n",
    "                stack.append(right)\n",
    "            else:\n",
    "                # Call 'make_regression_leaf_node()' to turn 'node' into a leaf node.\n",
    "                make_regression_leaf_node(node)\n",
    "                \n",
    "    def predict(self, x):\n",
    "        leaf = self.find_leaf(x)\n",
    "        # compute p(y | x)\n",
    "        return leaf.response "
   ]
  },
  {
   "cell_type": "markdown",
   "metadata": {},
   "source": [
    "<span style =\"color:green;font-weight:bold \">We had to give all features instead of just $\\lfloor \\sqrt D \\rfloor$ random features because we dropped to many.</span >\n"
   ]
  },
  {
   "cell_type": "code",
   "execution_count": 20,
   "metadata": {
    "collapsed": true
   },
   "outputs": [],
   "source": [
    "def make_regression_split_node(node, feature_indices):\n",
    "    '''\n",
    "    node: the node to be split\n",
    "    feature_indices: a numpy array of length 'D_try', containing the feature \n",
    "                     indices to be considered in the present split\n",
    "    '''\n",
    "    n, D = node.data.shape\n",
    "\n",
    "    # find best feature j (among 'feature_indices') and best threshold t for the split\n",
    "    e_min = 1e100\n",
    "    j_min, t_min = 0, 0\n",
    "    for j in feature_indices:\n",
    "        # remove duplicate features\n",
    "        dj = np.sort(np.unique(node.data[:,j]))\n",
    "        # compute candidate thresholds in the middle between consecutive feature values\n",
    "        tj = 0.5 * (dj[1:] + dj[:-1]) \n",
    "        # each candidate threshold we need to compute squared error of the resulting children node\n",
    "        for t in tj:\n",
    "            left_indices = node.data[:,j] <= t\n",
    "            nl = np.sum(left_indices)\n",
    "            ll = node.labels[left_indices]\n",
    "            el = np.sum(np.square(ll-np.mean(ll)))\n",
    "            nr = n - nl\n",
    "            lr = node.labels[node.data[:,j] > t]\n",
    "            er = np.sum(np.square(lr-np.mean(lr)))\n",
    "            # choose the the best threshold that minimizes sum of the squared error.\n",
    "            if el + er < e_min:\n",
    "                e_min = el + er\n",
    "                j_min = j\n",
    "                t_min = t\n",
    "\n",
    "    \n",
    "    # create children\n",
    "    left = Node()\n",
    "    right = Node()\n",
    "    \n",
    "    # initialize 'left' and 'right' with the data subsets and labels\n",
    "    # according to the optimal split found above\n",
    "    left.data = node.data[node.data[:,j_min] <= t_min, :]\n",
    "    left.labels = node.labels[node.data[:,j_min] <= t_min]\n",
    "    right.data = node.data[node.data[:,j_min] > t_min, :]\n",
    "    right.labels = node.labels[node.data[:,j_min] > t_min]\n",
    "\n",
    "    # turn the current 'node' into a split node\n",
    "    # (store children and split condition)\n",
    "    node.left = left\n",
    "    node.right = right\n",
    "    node.feature = j_min\n",
    "    node.threshold = t_min\n",
    "\n",
    "    # return the children (to be placed on the stack)\n",
    "    return left, right    "
   ]
  },
  {
   "cell_type": "code",
   "execution_count": 21,
   "metadata": {
    "collapsed": true
   },
   "outputs": [],
   "source": [
    "def make_regression_leaf_node(node):\n",
    "    '''\n",
    "    node: the node to become a leaf\n",
    "    '''\n",
    "    node.N = node.data.shape[0]\n",
    "    node.response = np.sum(node.labels) / node.N"
   ]
  },
  {
   "cell_type": "markdown",
   "metadata": {},
   "source": [
    "<span style =\"color:green;font-weight:bold \"><tt>make_regression_split_node</tt> and <tt>make_regression_leaf_node</tt> are equivalent</span >"
   ]
  },
  {
   "cell_type": "code",
   "execution_count": 22,
   "metadata": {
    "collapsed": true
   },
   "outputs": [],
   "source": [
    "#forest\n",
    "class RegForest:\n",
    "    def __init__(self,n=10):\n",
    "        # create n instances of Regression tree \n",
    "        self.trees = [RegressionTree() for i in range(n)]\n",
    "    \n",
    "    def train(self, data, target, n_min=20):\n",
    "        # train all trees\n",
    "        for tree in self.trees:\n",
    "            tree.train(data, target, n_min)\n",
    "            \n",
    "    def predict(self, x):\n",
    "        # return the mean for the RegressionTree that maximizes p(x | y)\n",
    "        return np.mean([tree.predict(x) for tree in self.trees])"
   ]
  },
  {
   "cell_type": "code",
   "execution_count": 84,
   "metadata": {
    "collapsed": true
   },
   "outputs": [],
   "source": [
    "#crossvalidation\n",
    "def cross_validation(methode,X,Y,num_sample=10,out=False):\n",
    "    \"\"\"\n",
    "    Measure the correct accuracy with cross validation\n",
    "    methode: class Forest or linearReg or similar\n",
    "    \"\"\"\n",
    "    mean_rate = np.zeros(num_sample)\n",
    "    for i in range(num_sample):\n",
    "        x_train, x_test, y_train, y_test = train_test_split(X,Y, test_size=0.33, random_state=None)\n",
    "        f=methode()\n",
    "        f.train(x_train,y_train)\n",
    "        predicted_labels=[]\n",
    "        for j in range(len(x_test)):\n",
    "            predicted_labels.append(f.predict(x_test[j]))\n",
    "        mean_rate[i] = np.mean(np.square(predicted_labels - y_test))\n",
    "    mean,var=np.mean(mean_rate), np.std(mean_rate)\n",
    "    if out:\n",
    "        print(methode.__name__,\"Mean squared test error: %e +/- %e\"%(mean,var))\n",
    "    return mean\n"
   ]
  },
  {
   "cell_type": "code",
   "execution_count": 312,
   "metadata": {
    "collapsed": false
   },
   "outputs": [
    {
     "name": "stdout",
     "output_type": "stream",
     "text": [
      "linearReg Mean squared test error: 5.254971e-05 +/- 1.639992e-05\n"
     ]
    }
   ],
   "source": [
    "X=np.array(data)\n",
    "unscatterdMeanLin=cross_validation(linearReg,X,labels,out=True)"
   ]
  },
  {
   "cell_type": "code",
   "execution_count": 313,
   "metadata": {
    "collapsed": false
   },
   "outputs": [
    {
     "name": "stdout",
     "output_type": "stream",
     "text": [
      "RegForest Mean squared test error: 5.404153e-05 +/- 1.206830e-05\n"
     ]
    }
   ],
   "source": [
    "#test models:\n",
    "unscatterdMeanTree=cross_validation(RegForest,X,labels,out=True)"
   ]
  },
  {
   "cell_type": "markdown",
   "metadata": {},
   "source": [
    "The squared error for both models is similar."
   ]
  },
  {
   "cell_type": "markdown",
   "metadata": {},
   "source": [
    "### 3.3 Answering the Research Question"
   ]
  },
  {
   "cell_type": "code",
   "execution_count": 85,
   "metadata": {
    "collapsed": true
   },
   "outputs": [],
   "source": [
    "#permutation test\n",
    "def shuffleSkinColors(data):\n",
    "    newData=data.copy()\n",
    "    seed=np.random.randint(2e9)\n",
    "    np.random.seed(seed)\n",
    "    np.random.shuffle(newData['rater1'].values)\n",
    "    #change the 'rater2' values in the same way as the 'rater1' values\n",
    "    np.random.seed(seed)\n",
    "    np.random.shuffle(newData['rater2'].values)\n",
    "    return newData"
   ]
  },
  {
   "cell_type": "code",
   "execution_count": 314,
   "metadata": {
    "collapsed": false
   },
   "outputs": [
    {
     "name": "stdout",
     "output_type": "stream",
     "text": [
      "100.00 % done\r"
     ]
    }
   ],
   "source": [
    "count=0\n",
    "tree,lin=0,0\n",
    "for i in range(19):\n",
    "    #permute skin color features:\n",
    "    X=np.array(shuffleSkinColors(data))\n",
    "    meanLin=cross_validation(linearReg,X,labels)\n",
    "    meanTree=cross_validation(RegForest,X,labels,num_sample=10)\n",
    "    #if the error is larger than the one of the original dataset we add one to the count\n",
    "    if meanLin>unscatterdMeanLin and meanTree>unscatterdMeanTree:\n",
    "         count+=1\n",
    "    elif meanLin>unscatterdMeanLin:\n",
    "        tree+=1 #Regression Tree says error is smaller than before\n",
    "    elif meanTree>unscatterdMeanTree:\n",
    "        lin+=1 #Linear Regression says error is smaller than before\n",
    "    print('%.2f'%(100*(i+1)/19),'% done',end='\\r')"
   ]
  },
  {
   "cell_type": "code",
   "execution_count": 318,
   "metadata": {
    "collapsed": false
   },
   "outputs": [
    {
     "name": "stdout",
     "output_type": "stream",
     "text": [
      "No skin color bias (14/19 for color bias)\n",
      "0 times did the Regression Tree conclude the error is smaller than before and the Linear Regression disagrees\n",
      "5 times did the Linear Regression conclude the error is smaller than before and the Regression Tree disagrees\n",
      "0 times they both agreed that the errors became smaller\n"
     ]
    }
   ],
   "source": [
    "if count==19:\n",
    "    print('Skin color bias (19/19 for color bias)')\n",
    "else:\n",
    "    print('No skin color bias (%i/19 for color bias)'%count)\n",
    "print('%i times did the Regression Tree conclude the error is smaller than before and the Linear Regression disagrees'%tree)\n",
    "print('%i times did the Linear Regression conclude the error is smaller than before and the Regression Tree disagrees'%lin)\n",
    "print('%i times they both agreed that the errors became smaller'%(19-count-tree-lin))"
   ]
  },
  {
   "cell_type": "markdown",
   "metadata": {},
   "source": [
    "The result of the permutation test is that the skin color is _not_ dependent on whether a player receives a red card. In all the 5 instances that voted against a color bias the Regression Forest dissagreed with the Linear Regression method. Since the Linear Regression is a fairly simple model it could be at its limits. Another possibility is that the permutation did not change many skin color values because we only have 5 distinct skin color values, so the possibility that a player gets the same or a similar skin color is quite high, which if a bias existed could be detected by our models. "
   ]
  },
  {
   "cell_type": "markdown",
   "metadata": {},
   "source": [
    "### other data preperation"
   ]
  },
  {
   "cell_type": "code",
   "execution_count": 113,
   "metadata": {
    "collapsed": true
   },
   "outputs": [],
   "source": [
    "#load data again\n",
    "dataDyad=pd.read_csv('data/CrowdstormingDataJuly1st.csv')\n",
    "#drop other features than before: keep height and weight. They might influence the play and therefor the frequency of a red card\n",
    "#also don't drop the position\n",
    "dataDyad.drop(dataDyad.columns[[1,2,9,10,11,12,13,14,16,19,20,21,22,23,24,25,26,27]],1,inplace=True)"
   ]
  },
  {
   "cell_type": "code",
   "execution_count": 114,
   "metadata": {
    "collapsed": true
   },
   "outputs": [],
   "source": [
    "#combine again all instances of one player into one entry. Add all cards and games in the process\n",
    "players=np.unique(dataDyad['playerShort']) #all the player names\n",
    "data = dataDyad.groupby(dataDyad['playerShort']).agg({'playerShort':'first','leagueCountry':'first', 'birthday':'first',\n",
    "                                                      'height':'first','weight':'first','position':'first',\n",
    "                                                      'games': 'sum', 'redCards': 'sum','rater1':'first','rater2':'first'})"
   ]
  },
  {
   "cell_type": "code",
   "execution_count": 115,
   "metadata": {
    "collapsed": true
   },
   "outputs": [],
   "source": [
    "#transform birthday to age:\n",
    "#season: 2012-2013, so at the end it was 2013\n",
    "data['age'] = data['birthday'].apply(lambda x:2013- int(str(x)[-4:]))\n",
    "#we can now drop the birthday column\n",
    "data.drop('birthday',1,inplace=True)"
   ]
  },
  {
   "cell_type": "code",
   "execution_count": 116,
   "metadata": {
    "collapsed": true
   },
   "outputs": [],
   "source": [
    "#drop dyads with no skin color rating\n",
    "data.drop(data.index[np.where(np.isnan(data['rater1']))],inplace=True)\n",
    "#the new features height and weight also have nan entries\n",
    "data.drop(data.index[np.where(np.isnan(data['height']))],inplace=True)\n",
    "data.drop(data.index[np.where(np.isnan(data['weight']))],inplace=True)"
   ]
  },
  {
   "cell_type": "code",
   "execution_count": 117,
   "metadata": {
    "collapsed": true
   },
   "outputs": [],
   "source": [
    "#create column for each country, set 1 if player is playing in that league and 0 if not\n",
    "for country in leagues:\n",
    "    data[country]=data['leagueCountry'].apply(lambda x:int(country==x))\n",
    "#we can now drop the leagueCountry column\n",
    "data.drop('leagueCountry',1,inplace=True)"
   ]
  },
  {
   "cell_type": "code",
   "execution_count": 118,
   "metadata": {
    "collapsed": true
   },
   "outputs": [],
   "source": [
    "#introduce a one hot encoding for the position\n",
    "positions=np.array(dataDyad.ix[:,'position'])\n",
    "positions[pd.isnull(positions)]='None' #first get rid of the float\n",
    "positions=np.unique(positions) #now we have all of them\n",
    "\n",
    "#create column for each position, set 1 if player is playing in that position and 0 if not\n",
    "for pos in positions:\n",
    "    data[pos]=data['position'].apply(lambda x:int(pos==x))\n",
    "#we can now drop the positions column\n",
    "data.drop('position',1,inplace=True)"
   ]
  },
  {
   "cell_type": "code",
   "execution_count": 119,
   "metadata": {
    "collapsed": true
   },
   "outputs": [],
   "source": [
    "#calculate labels...\n",
    "labels=data['redCards']/data['games']\n",
    "#...and drop all card related columns\n",
    "data.drop(['playerShort','games','redCards'],1,inplace=True)"
   ]
  },
  {
   "cell_type": "code",
   "execution_count": 120,
   "metadata": {
    "collapsed": false
   },
   "outputs": [
    {
     "data": {
      "text/html": [
       "<div>\n",
       "<table border=\"1\" class=\"dataframe\">\n",
       "  <thead>\n",
       "    <tr style=\"text-align: right;\">\n",
       "      <th></th>\n",
       "      <th>height</th>\n",
       "      <th>weight</th>\n",
       "      <th>rater1</th>\n",
       "      <th>rater2</th>\n",
       "      <th>age</th>\n",
       "      <th>England</th>\n",
       "      <th>France</th>\n",
       "      <th>Germany</th>\n",
       "      <th>Spain</th>\n",
       "      <th>Attacking Midfielder</th>\n",
       "      <th>...</th>\n",
       "      <th>Center Midfielder</th>\n",
       "      <th>Defensive Midfielder</th>\n",
       "      <th>Goalkeeper</th>\n",
       "      <th>Left Fullback</th>\n",
       "      <th>Left Midfielder</th>\n",
       "      <th>Left Winger</th>\n",
       "      <th>None</th>\n",
       "      <th>Right Fullback</th>\n",
       "      <th>Right Midfielder</th>\n",
       "      <th>Right Winger</th>\n",
       "    </tr>\n",
       "    <tr>\n",
       "      <th>playerShort</th>\n",
       "      <th></th>\n",
       "      <th></th>\n",
       "      <th></th>\n",
       "      <th></th>\n",
       "      <th></th>\n",
       "      <th></th>\n",
       "      <th></th>\n",
       "      <th></th>\n",
       "      <th></th>\n",
       "      <th></th>\n",
       "      <th></th>\n",
       "      <th></th>\n",
       "      <th></th>\n",
       "      <th></th>\n",
       "      <th></th>\n",
       "      <th></th>\n",
       "      <th></th>\n",
       "      <th></th>\n",
       "      <th></th>\n",
       "      <th></th>\n",
       "      <th></th>\n",
       "    </tr>\n",
       "  </thead>\n",
       "  <tbody>\n",
       "    <tr>\n",
       "      <th>aaron-hughes</th>\n",
       "      <td>182.0</td>\n",
       "      <td>71.0</td>\n",
       "      <td>0.25</td>\n",
       "      <td>0.00</td>\n",
       "      <td>34</td>\n",
       "      <td>1</td>\n",
       "      <td>0</td>\n",
       "      <td>0</td>\n",
       "      <td>0</td>\n",
       "      <td>0</td>\n",
       "      <td>...</td>\n",
       "      <td>0</td>\n",
       "      <td>0</td>\n",
       "      <td>0</td>\n",
       "      <td>0</td>\n",
       "      <td>0</td>\n",
       "      <td>0</td>\n",
       "      <td>0</td>\n",
       "      <td>0</td>\n",
       "      <td>0</td>\n",
       "      <td>0</td>\n",
       "    </tr>\n",
       "    <tr>\n",
       "      <th>aaron-hunt</th>\n",
       "      <td>183.0</td>\n",
       "      <td>73.0</td>\n",
       "      <td>0.00</td>\n",
       "      <td>0.25</td>\n",
       "      <td>27</td>\n",
       "      <td>0</td>\n",
       "      <td>0</td>\n",
       "      <td>1</td>\n",
       "      <td>0</td>\n",
       "      <td>1</td>\n",
       "      <td>...</td>\n",
       "      <td>0</td>\n",
       "      <td>0</td>\n",
       "      <td>0</td>\n",
       "      <td>0</td>\n",
       "      <td>0</td>\n",
       "      <td>0</td>\n",
       "      <td>0</td>\n",
       "      <td>0</td>\n",
       "      <td>0</td>\n",
       "      <td>0</td>\n",
       "    </tr>\n",
       "    <tr>\n",
       "      <th>aaron-lennon</th>\n",
       "      <td>165.0</td>\n",
       "      <td>63.0</td>\n",
       "      <td>0.25</td>\n",
       "      <td>0.25</td>\n",
       "      <td>26</td>\n",
       "      <td>1</td>\n",
       "      <td>0</td>\n",
       "      <td>0</td>\n",
       "      <td>0</td>\n",
       "      <td>0</td>\n",
       "      <td>...</td>\n",
       "      <td>0</td>\n",
       "      <td>0</td>\n",
       "      <td>0</td>\n",
       "      <td>0</td>\n",
       "      <td>0</td>\n",
       "      <td>0</td>\n",
       "      <td>0</td>\n",
       "      <td>0</td>\n",
       "      <td>1</td>\n",
       "      <td>0</td>\n",
       "    </tr>\n",
       "    <tr>\n",
       "      <th>aaron-ramsey</th>\n",
       "      <td>178.0</td>\n",
       "      <td>76.0</td>\n",
       "      <td>0.00</td>\n",
       "      <td>0.00</td>\n",
       "      <td>23</td>\n",
       "      <td>1</td>\n",
       "      <td>0</td>\n",
       "      <td>0</td>\n",
       "      <td>0</td>\n",
       "      <td>0</td>\n",
       "      <td>...</td>\n",
       "      <td>1</td>\n",
       "      <td>0</td>\n",
       "      <td>0</td>\n",
       "      <td>0</td>\n",
       "      <td>0</td>\n",
       "      <td>0</td>\n",
       "      <td>0</td>\n",
       "      <td>0</td>\n",
       "      <td>0</td>\n",
       "      <td>0</td>\n",
       "    </tr>\n",
       "    <tr>\n",
       "      <th>abdelhamid-el-kaoutari</th>\n",
       "      <td>180.0</td>\n",
       "      <td>73.0</td>\n",
       "      <td>0.25</td>\n",
       "      <td>0.25</td>\n",
       "      <td>23</td>\n",
       "      <td>0</td>\n",
       "      <td>1</td>\n",
       "      <td>0</td>\n",
       "      <td>0</td>\n",
       "      <td>0</td>\n",
       "      <td>...</td>\n",
       "      <td>0</td>\n",
       "      <td>0</td>\n",
       "      <td>0</td>\n",
       "      <td>0</td>\n",
       "      <td>0</td>\n",
       "      <td>0</td>\n",
       "      <td>0</td>\n",
       "      <td>0</td>\n",
       "      <td>0</td>\n",
       "      <td>0</td>\n",
       "    </tr>\n",
       "  </tbody>\n",
       "</table>\n",
       "<p>5 rows × 22 columns</p>\n",
       "</div>"
      ],
      "text/plain": [
       "                        height  weight  rater1  rater2  age  England  France  \\\n",
       "playerShort                                                                    \n",
       "aaron-hughes             182.0    71.0    0.25    0.00   34        1       0   \n",
       "aaron-hunt               183.0    73.0    0.00    0.25   27        0       0   \n",
       "aaron-lennon             165.0    63.0    0.25    0.25   26        1       0   \n",
       "aaron-ramsey             178.0    76.0    0.00    0.00   23        1       0   \n",
       "abdelhamid-el-kaoutari   180.0    73.0    0.25    0.25   23        0       1   \n",
       "\n",
       "                        Germany  Spain  Attacking Midfielder      ...       \\\n",
       "playerShort                                                       ...        \n",
       "aaron-hughes                  0      0                     0      ...        \n",
       "aaron-hunt                    1      0                     1      ...        \n",
       "aaron-lennon                  0      0                     0      ...        \n",
       "aaron-ramsey                  0      0                     0      ...        \n",
       "abdelhamid-el-kaoutari        0      0                     0      ...        \n",
       "\n",
       "                        Center Midfielder  Defensive Midfielder  Goalkeeper  \\\n",
       "playerShort                                                                   \n",
       "aaron-hughes                            0                     0           0   \n",
       "aaron-hunt                              0                     0           0   \n",
       "aaron-lennon                            0                     0           0   \n",
       "aaron-ramsey                            1                     0           0   \n",
       "abdelhamid-el-kaoutari                  0                     0           0   \n",
       "\n",
       "                        Left Fullback  Left Midfielder  Left Winger  None  \\\n",
       "playerShort                                                                 \n",
       "aaron-hughes                        0                0            0     0   \n",
       "aaron-hunt                          0                0            0     0   \n",
       "aaron-lennon                        0                0            0     0   \n",
       "aaron-ramsey                        0                0            0     0   \n",
       "abdelhamid-el-kaoutari              0                0            0     0   \n",
       "\n",
       "                        Right Fullback  Right Midfielder  Right Winger  \n",
       "playerShort                                                             \n",
       "aaron-hughes                         0                 0             0  \n",
       "aaron-hunt                           0                 0             0  \n",
       "aaron-lennon                         0                 1             0  \n",
       "aaron-ramsey                         0                 0             0  \n",
       "abdelhamid-el-kaoutari               0                 0             0  \n",
       "\n",
       "[5 rows x 22 columns]"
      ]
     },
     "execution_count": 120,
     "metadata": {},
     "output_type": "execute_result"
    }
   ],
   "source": [
    "#that's how the data looks now\n",
    "data.head()"
   ]
  },
  {
   "cell_type": "code",
   "execution_count": 121,
   "metadata": {
    "collapsed": true
   },
   "outputs": [],
   "source": [
    "#centralization of the data:\n",
    "data=data-np.mean(data)\n",
    "X=np.array(data)\n",
    "labels=np.array(labels-np.mean(labels))"
   ]
  },
  {
   "cell_type": "markdown",
   "metadata": {},
   "source": [
    "#### Retry with new set of data"
   ]
  },
  {
   "cell_type": "code",
   "execution_count": 122,
   "metadata": {
    "collapsed": false
   },
   "outputs": [
    {
     "name": "stdout",
     "output_type": "stream",
     "text": [
      "linearReg Mean squared test error: 4.974823e-05 +/- 1.609284e-05\n"
     ]
    }
   ],
   "source": [
    "unscatterdMeanLinNew=cross_validation(linearReg,X,labels,out=True)"
   ]
  },
  {
   "cell_type": "code",
   "execution_count": 123,
   "metadata": {
    "collapsed": false
   },
   "outputs": [
    {
     "name": "stdout",
     "output_type": "stream",
     "text": [
      "RegForest Mean squared test error: 7.043198e-05 +/- 1.871536e-05\n"
     ]
    }
   ],
   "source": [
    "#test models:\n",
    "unscatterdMeanTreeNew=cross_validation(RegForest,X,labels,out=True)"
   ]
  },
  {
   "cell_type": "code",
   "execution_count": 124,
   "metadata": {
    "collapsed": false
   },
   "outputs": [
    {
     "name": "stdout",
     "output_type": "stream",
     "text": [
      "100.00 % done\r"
     ]
    }
   ],
   "source": [
    "count=0\n",
    "tree,lin=0,0\n",
    "for i in range(19):\n",
    "    #permute skin color features:\n",
    "    X=np.array(shuffleSkinColors(data))\n",
    "    meanLin=cross_validation(linearReg,X,labels)\n",
    "    meanTree=cross_validation(RegForest,X,labels,num_sample=10)\n",
    "    #if the error is larger than the one of the original dataset we add one to the count\n",
    "    if meanLin>unscatterdMeanLinNew and meanTree>unscatterdMeanTreeNew:\n",
    "         count+=1\n",
    "    elif meanLin>unscatterdMeanLinNew:\n",
    "        tree+=1 #Regression Tree says error is smaller than before\n",
    "    elif meanTree>unscatterdMeanTreeNew:\n",
    "        lin+=1 #Linear Regression says error is smaller than before\n",
    "    print('%.2f'%(100*(i+1)/19),'% done',end='\\r')"
   ]
  },
  {
   "cell_type": "code",
   "execution_count": 125,
   "metadata": {
    "collapsed": false
   },
   "outputs": [
    {
     "name": "stdout",
     "output_type": "stream",
     "text": [
      "No skin color bias (10/19 for color bias)\n",
      "4 times did the Regression Tree conclude the error is smaller than before and the Linear Regression disagrees\n",
      "4 times did the Linear Regression conclude the error is smaller than before and the Regression Tree disagrees\n",
      "1 times they both agreed that the errors became smaller\n"
     ]
    }
   ],
   "source": [
    "if count==19:\n",
    "    print('Skin color bias (19/19 for color bias)')\n",
    "else:\n",
    "    print('No skin color bias (%i/19 for color bias)'%count)\n",
    "print('%i times did the Regression Tree conclude the error is smaller than before and the Linear Regression disagrees'%tree)\n",
    "print('%i times did the Linear Regression conclude the error is smaller than before and the Regression Tree disagrees'%lin)\n",
    "print('%i times they both agreed that the errors became smaller'%(19-count-tree-lin))"
   ]
  },
  {
   "cell_type": "markdown",
   "metadata": {},
   "source": [
    "The grade of bias is lower than befor. That could be because we now included more features that influence the play style of a certain player. For example a more heavy player can foul another player more easily than a light player because of the momentum each player can transfer to the opponent. This is only a guess since I am no expert. It also could be that the lighter player needs to play more aggressivley to make an impact, leading to a higher rate of red cards. It carries information we didn't have befor so we don't need to rely on the skin color feature if not necessary.\n",
    "\n",
    "This dataset could not get an opposing result but it showed nonetheless that the data preperation is an important and influential step of statistical analysis."
   ]
  },
  {
   "cell_type": "code",
   "execution_count": null,
   "metadata": {
    "collapsed": true
   },
   "outputs": [],
   "source": []
  }
 ],
 "metadata": {
  "kernelspec": {
   "display_name": "Python 3",
   "language": "python",
   "name": "python3"
  },
  "language_info": {
   "codemirror_mode": {
    "name": "ipython",
    "version": 3
   },
   "file_extension": ".py",
   "mimetype": "text/x-python",
   "name": "python",
   "nbconvert_exporter": "python",
   "pygments_lexer": "ipython3",
   "version": "3.6.0"
  }
 },
 "nbformat": 4,
 "nbformat_minor": 2
}
