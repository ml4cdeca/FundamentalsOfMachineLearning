{
 "cells": [
  {
   "cell_type": "markdown",
   "metadata": {},
   "source": [
    "<div,align=right>Lukas Blecher, Christopher Lueken-Winkels</div>\n",
    "# Exercise 5\n"
   ]
  },
  {
   "cell_type": "code",
   "execution_count": 1,
   "metadata": {
    "collapsed": true
   },
   "outputs": [],
   "source": [
    "import numpy as np\n",
    "import scipy.sparse as sp\n",
    "import matplotlib.pyplot as plt\n",
    "%matplotlib inline"
   ]
  },
  {
   "cell_type": "markdown",
   "metadata": {},
   "source": [
    "## 1. Constructing the matrix X"
   ]
  },
  {
   "cell_type": "code",
   "execution_count": null,
   "metadata": {
    "collapsed": true
   },
   "outputs": [],
   "source": [
    "def construct_X(M, alphas, Np = None):\n",
    "    '''\n",
    "    M: resulting tomogram size D in one dimension (D=MxM) \n",
    "    alphas: list of No angles in degrees\n",
    "    Np: sensor resolution (optional)\n",
    "    returns X of shape (Np*No)xD\n",
    "    '''\n",
    "    \n",
    "    #in case Np is not given we will select one large enough to fit the diagonal of the image beta\n",
    "    if Np==None:\n",
    "        Np=np.ceil(np.sqrt(2)*M)\n",
    "        if Np%2==0: #Np is even\n",
    "            Np+=1\n",
    "    \n",
    "    N=len(alphas)*Np #respnse vector size\n",
    "    #now we start building the matrix X:\n",
    "    #first we initialize it\n",
    "    X=sp.coo_matrix((N,D)) \n",
    "    \n",
    "    \n",
    "    "
   ]
  },
  {
   "cell_type": "markdown",
   "metadata": {},
   "source": [
    "Given were two different sized datasets. The smaller one has the following properties: Image size 77 x 77, sensor size 109 and 90 projection angles.\n"
   ]
  },
  {
   "cell_type": "code",
   "execution_count": null,
   "metadata": {
    "collapsed": true
   },
   "outputs": [],
   "source": []
  }
 ],
 "metadata": {
  "kernelspec": {
   "display_name": "Python 3",
   "language": "python",
   "name": "python3"
  },
  "language_info": {
   "codemirror_mode": {
    "name": "ipython",
    "version": 3
   },
   "file_extension": ".py",
   "mimetype": "text/x-python",
   "name": "python",
   "nbconvert_exporter": "python",
   "pygments_lexer": "ipython3",
   "version": "3.6.0"
  }
 },
 "nbformat": 4,
 "nbformat_minor": 2
}
