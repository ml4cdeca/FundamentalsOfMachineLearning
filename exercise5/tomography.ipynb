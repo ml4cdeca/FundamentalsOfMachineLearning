{
 "cells": [
  {
   "cell_type": "markdown",
   "metadata": {},
   "source": [
    "<div,align=right>Lukas Blecher, Christopher Lueken-Winkels</div>\n",
    "# Exercise 5\n"
   ]
  },
  {
   "cell_type": "code",
   "execution_count": 1,
   "metadata": {
    "collapsed": true
   },
   "outputs": [],
   "source": [
    "import numpy as np\n",
    "import scipy.sparse as sp\n",
    "import matplotlib.pyplot as plt\n",
    "%matplotlib inline"
   ]
  },
  {
   "cell_type": "markdown",
   "metadata": {},
   "source": [
    "## 1. Constructing the matrix X"
   ]
  },
  {
   "cell_type": "code",
   "execution_count": 100,
   "metadata": {
    "collapsed": true
   },
   "outputs": [],
   "source": [
    "def construct_X(M, alphas, Np = None):\n",
    "    '''\n",
    "    M: resulting tomogram size D in one dimension (D=MxM) \n",
    "    alphas: list of No angles in degrees\n",
    "    Np: sensor resolution (optional)\n",
    "    returns X of shape (Np*No)xD\n",
    "    '''\n",
    "    #convert to numpy array and into radian\n",
    "    alphas=np.array(alphas)*np.pi/180\n",
    "    #in case Np is not given we will select one large enough to fit the diagonal of the image beta\n",
    "    if Np==None:\n",
    "        Np=np.ceil(np.sqrt(2)*M)\n",
    "        if Np%2==0: #Np is even\n",
    "            Np+=1\n",
    "    \n",
    "    N=len(alphas)*Np #response vector size\n",
    "    D=M*M\n",
    "    #create coordinate matrix C of the ceter of each pixel measured from the center of the image\n",
    "    \n",
    "    #\"x\" distance\n",
    "    C_0 = np.mod(np.arange(D),M) - (M - 1)/2\n",
    "    #\"y\" distance\n",
    "    C_1 = np.floor_divide(np.arange(D),M) - (M - 1)/2\n",
    "    #merge for C\n",
    "    C = np.array([C_0,C_1]).T\n",
    "    \n",
    "    #now we compute the euclidean norm of the coordinates\n",
    "    norm = np.sqrt(np.sum(np.square(C),axis = 1)) #array of length D\n",
    "    #compute a matrix of shape (No,D) with the sign indicating in which direction the distance should be travelled\n",
    "    prefactor = np.sign(np.sum(np.multiply(C[:,None],np.array([np.cos(alphas),np.sin(alphas)]).T),axis=2)).T\n",
    "    \n",
    "    #compute the translation along the sensor starting from the middle\n",
    "    np.warnings.filterwarnings('ignore') #we need to divide by zero but the translation is 0 anyways\n",
    "    gamma = np.arctan(C.T[1]/C.T[0])\n",
    "    translation = np.multiply(norm,np.cos(gamma-alphas[:,None])) #has shape (No,D)\n",
    "    translation[np.where(np.isnan(translation))]=0 #correct mistake from earlier\n",
    "    \n",
    "    #this is now projected on the senor using the position of the center as reference\n",
    "    sensorpos = (Np - 1)/ 2 + np.multiply(translation, prefactor)\n",
    "    \n",
    "    #first the indices of the smaller pixels then the ones of the larger ones\n",
    "    i_p = np.array([np.floor(sensorpos), np.ceil(sensorpos)]).flatten()\n",
    "    #[0]*D,[1]*D,...,[No-1]*D twice repeated\n",
    "    i_o = np.tile(np.outer(np.arange(len(alphas)),np.ones(D)).flatten(),2)\n",
    "    #combine them to our i_indices\n",
    "    i_indices =  i_p + Np * i_o\n",
    "    \n",
    "    #simply [0,1,...,No-1]*2D\n",
    "    j_indices = np.tile(np.tile(np.arange(D),len(alphas)),2)\n",
    "    \n",
    "    #compute the weights\n",
    "    weight_ceil = np.mod(sensorpos, 1).flatten()\n",
    "    weight_floor = 1 - weight_ceil\n",
    "    #and combine them in the correct order\n",
    "    weights = np.append(weight_floor,weight_ceil)\n",
    "    #now we return the matrix X:\n",
    "    return sp.coo_matrix((weights, (i_indices, j_indices)),shape = (N,D), dtype = np.float32)\n",
    "    \n",
    "    \n",
    "    "
   ]
  },
  {
   "cell_type": "markdown",
   "metadata": {},
   "source": [
    "Given were two different sized datasets. The smaller one has the following properties: Image size 77 x 77, sensor size 109 and 90 projection angles.\n"
   ]
  },
  {
   "cell_type": "markdown",
   "metadata": {},
   "source": [
    "Display the image $X$ "
   ]
  },
  {
   "cell_type": "code",
   "execution_count": 3,
   "metadata": {
    "collapsed": true
   },
   "outputs": [],
   "source": [
    "X=np.load('hs_tomography/X_example.npy')"
   ]
  },
  {
   "cell_type": "code",
   "execution_count": 106,
   "metadata": {
    "collapsed": false
   },
   "outputs": [
    {
     "data": {
      "text/plain": [
       "(-0.5, 99.5, 44.5, -0.5)"
      ]
     },
     "execution_count": 106,
     "metadata": {},
     "output_type": "execute_result"
    },
    {
     "data": {
      "image/png": "[encoded data removed]",
      "text/plain": [
       "<Figure size 432x288 with 1 Axes>"
      ]
     },
     "metadata": {},
     "output_type": "display_data"
    }
   ],
   "source": [
    "plt.gray()\n",
    "plt.imshow(construct_X(10,[-33,1,42],15).toarray())\n",
    "plt.axis('off')"
   ]
  },
  {
   "cell_type": "code",
   "execution_count": null,
   "metadata": {
    "collapsed": true
   },
   "outputs": [],
   "source": []
  }
 ],
 "metadata": {
  "kernelspec": {
   "display_name": "Python 3",
   "language": "python",
   "name": "python3"
  },
  "language_info": {
   "codemirror_mode": {
    "name": "ipython",
    "version": 3
   },
   "file_extension": ".py",
   "mimetype": "text/x-python",
   "name": "python",
   "nbconvert_exporter": "python",
   "pygments_lexer": "ipython3",
   "version": "3.6.0"
  }
 },
 "nbformat": 4,
 "nbformat_minor": 2
}
