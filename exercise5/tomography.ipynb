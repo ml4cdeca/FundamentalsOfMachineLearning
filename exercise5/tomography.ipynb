{
 "cells": [
  {
   "cell_type": "markdown",
   "metadata": {},
   "source": [
    "<div,align=right>Lukas Blecher, Christopher Lueken-Winkels</div>\n",
    "# Exercise 5\n"
   ]
  },
  {
   "cell_type": "code",
   "execution_count": 1,
   "metadata": {
    "collapsed": true
   },
   "outputs": [],
   "source": [
    "import numpy as np\n",
    "import scipy.sparse as sp\n",
    "import matplotlib.pyplot as plt\n",
    "%matplotlib inline"
   ]
  },
  {
   "cell_type": "markdown",
   "metadata": {},
   "source": [
    "## 1. Constructing the matrix X"
   ]
  },
  {
   "cell_type": "code",
   "execution_count": 34,
   "metadata": {
    "collapsed": true
   },
   "outputs": [],
   "source": [
    "def construct_X(M, alphas, Np = None):\n",
    "    '''\n",
    "    M: resulting tomogram size D in one dimension (D=MxM) \n",
    "    alphas: list of No angles in degrees\n",
    "    Np: sensor resolution (optional)\n",
    "    returns X of shape (Np*No)xD\n",
    "    '''\n",
    "    #convert to numpy array\n",
    "    alphas=np.array(alphas)\n",
    "    #in case Np is not given we will select one large enough to fit the diagonal of the image beta\n",
    "    if Np==None:\n",
    "        Np=np.ceil(np.sqrt(2)*M)\n",
    "        if Np%2==0: #Np is even\n",
    "            Np+=1\n",
    "    \n",
    "    N=len(alphas)*Np #response vector size\n",
    "    \n",
    "    #create koordinate matrix C of the ceter of each pixel measured from the center of the image\n",
    "    \n",
    "    #\"x\" distance\n",
    "    C_0 = np.mod(np.arange(M**2),M) - (M - 1)/2\n",
    "    #\"y\" distance\n",
    "    C_1 = np.floor_divide(np.arange(M**2),M) - (M - 1)/2\n",
    "    #merge for C\n",
    "    C = np.array([C_0,C_1]).T\n",
    "    \n",
    "    #now we compute the euclidean norm of the coordinates\n",
    "    norm = np.sqrt(np.sum(np.square(C),axis = 1))\n",
    "    #compute a matrix of shape (NoxD) with the sign indicating in which direction the distance should be travelled\n",
    "    prefactor = np.sign(np.sum(np.multiply(C[:,None],np.array([np.cos(alphas*np.pi/180),np.sin(alphas*np.pi/180)]).T),axis=2)).T\n",
    "    \n",
    "    #compute the translation along the sensor starting from the middle\n",
    "    translation = np.outer(np.sin(alphas), norm)\n",
    "    \n",
    "    #this is now projected on the senor using the position of the center as reference\n",
    "    sensorpos = (Np - 1)/ 2 + np.multiply(translation, prefactor)\n",
    "\n",
    "    i_p = np.array([np.floor(sensorpos), np.ceil(sensorpos)]).flatten()\n",
    "    \n",
    "    #i_o = np.array([np.outer(np.arange(M*M),np.ones(len(alphas))),np.outer(np.arange(M*M),np.ones(len(alphas)))]).flatten()\n",
    "    #i_o=np.array([np.arange(len(alphas)),np.arange(len(alphas))]).flatten()\n",
    "    i_o=np.array([np.outer(np.ones(M*M),np.arange(len(alphas))),np.outer(np.ones(M*M),np.arange(len(alphas)))]).flatten()\n",
    "    i_indices =  i_p + Np * i_o\n",
    "    \n",
    "    j_indices = np.array([np.outer(np.ones(len(alphas)),np.arange(M*M)),np.outer(np.ones(len(alphas)),np.arange(M*M))]).flatten()\n",
    "    \n",
    "    weight_ceil = np.mod(sensorpos, 1).flatten()\n",
    "    \n",
    "    weight_floor = (1 - weight_ceil)\n",
    "    \n",
    "    weights = np.append(weight_floor,weight_ceil)\n",
    "    print(np.max(i_p),np.max(i_indices),np.max(i_o),N)\n",
    "    #now we return the matrix X:\n",
    "    return sp.coo_matrix((weights, (i_indices, j_indices)),shape = (N,M*M), dtype = np.float32)\n",
    "    \n",
    "    \n",
    "    "
   ]
  },
  {
   "cell_type": "markdown",
   "metadata": {},
   "source": [
    "Given were two different sized datasets. The smaller one has the following properties: Image size 77 x 77, sensor size 109 and 90 projection angles.\n"
   ]
  },
  {
   "cell_type": "code",
   "execution_count": null,
   "metadata": {
    "collapsed": true
   },
   "outputs": [],
   "source": []
  },
  {
   "cell_type": "markdown",
   "metadata": {},
   "source": [
    "Display the image $X$ "
   ]
  },
  {
   "cell_type": "code",
   "execution_count": 3,
   "metadata": {
    "collapsed": true
   },
   "outputs": [],
   "source": [
    "X=np.load('hs_tomography/X_example.npy')"
   ]
  },
  {
   "cell_type": "code",
   "execution_count": 36,
   "metadata": {
    "collapsed": false
   },
   "outputs": [
    {
     "name": "stdout",
     "output_type": "stream",
     "text": [
      "14.0 43.0 2.0 45\n"
     ]
    },
    {
     "data": {
      "text/plain": [
       "(-0.5, 99.5, 44.5, -0.5)"
      ]
     },
     "execution_count": 36,
     "metadata": {},
     "output_type": "execute_result"
    },
    {
     "data": {
      "image/png": "[encoded data removed]",
      "text/plain": [
       "<Figure size 432x288 with 1 Axes>"
      ]
     },
     "metadata": {},
     "output_type": "display_data"
    }
   ],
   "source": [
    "plt.gray()\n",
    "plt.imshow(construct_X(10,[-33,1,42],15).toarray())\n",
    "plt.axis('off')"
   ]
  },
  {
   "cell_type": "code",
   "execution_count": null,
   "metadata": {
    "collapsed": true
   },
   "outputs": [],
   "source": []
  }
 ],
 "metadata": {
  "kernelspec": {
   "display_name": "Python 3",
   "language": "python",
   "name": "python3"
  },
  "language_info": {
   "codemirror_mode": {
    "name": "ipython",
    "version": 3
   },
   "file_extension": ".py",
   "mimetype": "text/x-python",
   "name": "python",
   "nbconvert_exporter": "python",
   "pygments_lexer": "ipython3",
   "version": "3.6.0"
  }
 },
 "nbformat": 4,
 "nbformat_minor": 2
}
