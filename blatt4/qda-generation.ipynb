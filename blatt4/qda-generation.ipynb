{
 "cells": [
  {
   "cell_type": "markdown",
   "metadata": {},
   "source": [
    "<div align=\"right\">\n",
    "  Christopher Lüken-Winkels, Lukas Blecher\n",
    "</div>\n",
    "# Exercise 3\n",
    "## 3 Data Generation with QDA"
   ]
  },
  {
   "cell_type": "code",
   "execution_count": 2,
   "metadata": {
    "collapsed": true
   },
   "outputs": [],
   "source": [
    "#import standard libraries\n",
    "import numpy as np\n",
    "import matplotlib.pyplot as plt\n",
    "%matplotlib inline\n",
    "from sklearn.datasets import load_digits\n",
    "from sklearn import model_selection\n",
    "#load digits\n",
    "digits = load_digits ()\n",
    "data = digits [\"data\"]\n",
    "images = digits [\"images\"]\n",
    "target = digits [\"target\"]\n",
    "target_names = digits [\"target_names\"]"
   ]
  },
  {
   "cell_type": "code",
   "execution_count": 7,
   "metadata": {
    "collapsed": true
   },
   "outputs": [],
   "source": [
    "def fit_qda(training_features, training_labels):\n",
    "    #list of features:\n",
    "    features=np.nonzero(np.bincount(training_labels))[0]\n",
    "    mu, covmat, p = [], [], []\n",
    "    for i in range(len(features)):\n",
    "        #only instances of the current class\n",
    "        X = training_features[training_labels == features[i]]\n",
    "        #compute mean\n",
    "        mu.append(np.mean(X, axis=0))\n",
    "        #compute the covariance using the numpy function\n",
    "        covmat.append(np.cov(X.T))\n",
    "        #add prior\n",
    "        p.append(len(X)/len(training_features))   \n",
    "    return np.array(mu), np.array(covmat), np.array(p)"
   ]
  },
  {
   "cell_type": "code",
   "execution_count": 8,
   "metadata": {
    "collapsed": false
   },
   "outputs": [],
   "source": [
    "#filter out all 0's and 5's and train with fit_qda\n",
    "subFeatures= data[(target==0)|(target==5)]\n",
    "subLabels = target[(target==0)|(target==5)]\n",
    "mu, covmat, p = fit_qda(subFeatures, subLabels)"
   ]
  },
  {
   "cell_type": "code",
   "execution_count": 17,
   "metadata": {
    "collapsed": false
   },
   "outputs": [
    {
     "name": "stderr",
     "output_type": "stream",
     "text": [
      "C:\\ProgramData\\Anaconda3\\lib\\site-packages\\ipykernel\\__main__.py:2: RuntimeWarning: covariance is not positive-semidefinite.\n",
      "  from ipykernel import kernelapp as app\n",
      "C:\\ProgramData\\Anaconda3\\lib\\site-packages\\ipykernel\\__main__.py:3: RuntimeWarning: covariance is not positive-semidefinite.\n",
      "  app.launch_new_instance()\n"
     ]
    }
   ],
   "source": [
    "#generate 8 new instances of 0's and 5's\n",
    "newZero=np.random.multivariate_normal(mu[0],covmat[0],size=8)\n",
    "newFive=np.random.multivariate_normal(mu[1],covmat[1],size=8)"
   ]
  },
  {
   "cell_type": "code",
   "execution_count": 24,
   "metadata": {
    "collapsed": false
   },
   "outputs": [],
   "source": [
    "def plotInstances(newSet):  \n",
    "    #plot all new instances\n",
    "    fig = plt.figure(figsize = (15,3))\n",
    "    plt.gray()\n",
    "    for i in range(len(newSet)):\n",
    "        plt.subplot(1,len(newSet),i+1); plt.axis('off')\n",
    "        plt.imshow(newSet[i].reshape((8,8)), interpolation = \"nearest\")\n",
    "    fig.tight_layout(); plt.show()"
   ]
  },
  {
   "cell_type": "code",
   "execution_count": 25,
   "metadata": {
    "collapsed": false
   },
   "outputs": [
    {
     "data": {
      "image/png": "[encoded data removed]",
      "text/plain": [
       "<Figure size 1080x216 with 8 Axes>"
      ]
     },
     "metadata": {},
     "output_type": "display_data"
    }
   ],
   "source": [
    "plotInstances(newZero)"
   ]
  },
  {
   "cell_type": "code",
   "execution_count": 26,
   "metadata": {
    "collapsed": false
   },
   "outputs": [
    {
     "data": {
      "image/png": "[encoded data removed]",
      "text/plain": [
       "<Figure size 1080x216 with 8 Axes>"
      ]
     },
     "metadata": {},
     "output_type": "display_data"
    }
   ],
   "source": [
    "plotInstances(newFive)"
   ]
  },
  {
   "cell_type": "code",
   "execution_count": null,
   "metadata": {
    "collapsed": true
   },
   "outputs": [],
   "source": []
  }
 ],
 "metadata": {
  "kernelspec": {
   "display_name": "Python 3",
   "language": "python",
   "name": "python3"
  },
  "language_info": {
   "codemirror_mode": {
    "name": "ipython",
    "version": 3
   },
   "file_extension": ".py",
   "mimetype": "text/x-python",
   "name": "python",
   "nbconvert_exporter": "python",
   "pygments_lexer": "ipython3",
   "version": "3.6.0"
  }
 },
 "nbformat": 4,
 "nbformat_minor": 2
}
