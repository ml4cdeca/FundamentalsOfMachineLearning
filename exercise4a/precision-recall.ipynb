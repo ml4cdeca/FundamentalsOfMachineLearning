{
 "cells": [
  {
   "cell_type": "code",
   "execution_count": 31,
   "metadata": {},
   "outputs": [],
   "source": [
    "import sklearn\n",
    "from sklearn.datasets import load_digits \n",
    "import numpy as np\n",
    "%matplotlib inline\n",
    "import matplotlib.pyplot as plt\n",
    "from numpy import random"
   ]
  },
  {
   "cell_type": "code",
   "execution_count": 66,
   "metadata": {},
   "outputs": [],
   "source": [
    "# load digits data set\n",
    "digits = load_digits()\n",
    "\n",
    "data = digits[\"data\"]\n",
    "images = digits[\"images\"]\n",
    "target = digits[\"target\"]\n",
    "target_names = digits[\"target_names\"]"
   ]
  },
  {
   "cell_type": "code",
   "execution_count": 4,
   "metadata": {},
   "outputs": [],
   "source": [
    "def euclidean_distance(A, B):\n",
    "    #returns matrix D_ij where i is the ith instance of matrix A and j is the jth instance of matrix B\n",
    "    #so D_ij is the euclidean distance between those two instances\n",
    "    return np.sqrt(np.sum(np.square(A[:,None]-B),axis=2))\n",
    "\n",
    "def sorted_euclidean_dist(A, B):\n",
    "    return np.argsort(euclidean_distance(A, B), axis = 1)"
   ]
  },
  {
   "cell_type": "code",
   "execution_count": 28,
   "metadata": {},
   "outputs": [],
   "source": [
    "def response_set_indices(i, m):\n",
    "    indices = np.argsort(euclidean_distance(data, data)[i])\n",
    "    return indices[:m]\n",
    "\n",
    "def response_set(i, m):\n",
    "    response_data = data[response_set_indices(i, m)]\n",
    "    return response_data[:m]\n",
    "\n",
    "def precision_recall(i, m):\n",
    "    response_indices = response_set_indices(i, m)\n",
    "    TP_im = np.count_nonzero(target[i] == target[response_indices])\n",
    "    FP_im = np.count_nonzero(target[i] != target[response_indices])\n",
    "    return TP_im/(TP_im + FP_im), TP_im/np.count_nonzero(target[i] == target)\n",
    "\n",
    "\n",
    "#def percision_martix():\n",
    "    "
   ]
  },
  {
   "cell_type": "code",
   "execution_count": 77,
   "metadata": {},
   "outputs": [
    {
     "data": {
      "text/plain": [
       "(1797, 1797)"
      ]
     },
     "execution_count": 77,
     "metadata": {},
     "output_type": "execute_result"
    }
   ],
   "source": [
    "TP = np.dot(np.equal((target + np.zeros(len(target)**2).reshape(len(target),len(target))).T,target[sorted_euclidean_dist(data,data)]),np.triu([1]*len(target)))\n",
    "TP.shape"
   ]
  },
  {
   "cell_type": "code",
   "execution_count": 79,
   "metadata": {},
   "outputs": [
    {
     "data": {
      "text/plain": [
       "(1797, 1797)"
      ]
     },
     "execution_count": 79,
     "metadata": {},
     "output_type": "execute_result"
    }
   ],
   "source": [
    "FP = np.dot(np.not_equal((target + np.zeros(len(target)**2).reshape(len(target),len(target))).T,target[sorted_euclidean_dist(data,data)]),np.triu([1]*len(target)))\n",
    "FP.shape"
   ]
  },
  {
   "cell_type": "code",
   "execution_count": 78,
   "metadata": {},
   "outputs": [
    {
     "name": "stdout",
     "output_type": "stream",
     "text": [
      "[[  1   2   3 ... 178 178 178]\n",
      " [  1   2   3 ... 182 182 182]\n",
      " [  1   2   3 ... 177 177 177]\n",
      " ...\n",
      " [  1   2   3 ... 174 174 174]\n",
      " [  1   2   3 ... 180 180 180]\n",
      " [  1   2   3 ... 174 174 174]]\n"
     ]
    }
   ],
   "source": [
    "print(TP)"
   ]
  },
  {
   "cell_type": "code",
   "execution_count": 80,
   "metadata": {},
   "outputs": [
    {
     "name": "stdout",
     "output_type": "stream",
     "text": [
      "[[   0    0    0 ... 1617 1618 1619]\n",
      " [   0    0    0 ... 1613 1614 1615]\n",
      " [   0    0    0 ... 1618 1619 1620]\n",
      " ...\n",
      " [   0    0    0 ... 1621 1622 1623]\n",
      " [   0    0    0 ... 1615 1616 1617]\n",
      " [   0    0    0 ... 1621 1622 1623]]\n"
     ]
    }
   ],
   "source": [
    "print(FP)"
   ]
  },
  {
   "cell_type": "code",
   "execution_count": null,
   "metadata": {},
   "outputs": [],
   "source": []
  }
 ],
 "metadata": {
  "kernelspec": {
   "display_name": "Python 3",
   "language": "python",
   "name": "python3"
  },
  "language_info": {
   "codemirror_mode": {
    "name": "ipython",
    "version": 3
   },
   "file_extension": ".py",
   "mimetype": "text/x-python",
   "name": "python",
   "nbconvert_exporter": "python",
   "pygments_lexer": "ipython3",
   "version": "3.7.0"
  }
 },
 "nbformat": 4,
 "nbformat_minor": 2
}
