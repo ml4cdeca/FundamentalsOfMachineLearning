{
 "cells": [
  {
   "cell_type": "markdown",
   "metadata": {},
   "source": [
    "<div align=\"right\">\n",
    "  Christopher Lüken-Winkels, Lukas Blecher\n",
    "</div>\n",
    "# Exercise 1b\n",
    "## 2 Asymptotic error of the nearest neighbor classifier for the toy example from exercise 1"
   ]
  },
  {
   "cell_type": "markdown",
   "metadata": {},
   "source": [
    "$$\\begin{align}\n",
    "p_∞(error|X) = 1 -\\sum_{k=1} p^∗ (Y = k | X)^2 &&&& \\text{(1)}\\\\\n",
    "p^*(Y=1|X)=X&&&& \\text{(2)}\\\\\n",
    "p^*(Y=0|X)=1-X&&&& \\text{(3)}\\\\\n",
    "p(X)=1&&&& \\text{(4)}\n",
    "\\end{align}$$\n",
    "Now solve the following integral: $$p_\\infty(\\text{error})=\\int p_\\infty(\\text{error}|X)p(X)dX \\stackrel{\\text{(1)}}{=}\\int \\left( \\sum_{k=1} p^*(Y=k|X)^2 \\right)p(X)dX \\stackrel{\\text{(2),(3),(4)}}{=}\\int \\left( 1-X^2-X^2+2X-1\\right)dX= \\int_0^1 \\left(2X-2X^2\\right)dX=\\left(X^2-\\frac23X^3\\right) \\biggr\\rvert^1_0=1-\\frac23=\\frac13$$\n",
    "In exersize 1 we already approximated an error of about 33% for training sets of size 100, which confirms the theoretical solution."
   ]
  },
  {
   "cell_type": "markdown",
   "metadata": {},
   "source": [
    "<span style =\" color : green ;font-weight : bold \">The derivation and calculation is the same.</span>"
   ]
  },
  {
   "cell_type": "markdown",
   "metadata": {},
   "source": [
    "## 3 Nearest Neighbor Classification on Real Data\n",
    "### 3.1 Exploring the Data"
   ]
  },
  {
   "cell_type": "code",
   "execution_count": 79,
   "metadata": {
    "collapsed": false
   },
   "outputs": [
    {
     "name": "stdout",
     "output_type": "stream",
     "text": [
      "dict_keys(['data', 'target', 'target_names', 'images', 'DESCR'])\n",
      "float64\n"
     ]
    }
   ],
   "source": [
    "from sklearn.datasets import load_digits\n",
    "import matplotlib.pyplot as plt\n",
    "import numpy as np\n",
    "import itertools\n",
    "digits = load_digits ()\n",
    "print ( digits.keys () )\n",
    "data = digits [\"data\"]\n",
    "images = digits [\"images\"]\n",
    "target = digits [\"target\"]\n",
    "target_names = digits [\"target_names\"]\n",
    "print ( data.dtype )\n",
    "#get an image of a random \"3\":\n",
    "threes=images[target==3] #could also use data[index].reshape((8,8)) \n",
    "img=threes[np.random.randint(len(threes))]"
   ]
  },
  {
   "cell_type": "code",
   "execution_count": 80,
   "metadata": {
    "collapsed": false
   },
   "outputs": [
    {
     "data": {
      "image/png": "[encoded data removed]",
      "text/plain": [
       "<Figure size 432x288 with 1 Axes>"
      ]
     },
     "metadata": {},
     "output_type": "display_data"
    }
   ],
   "source": [
    "assert 2 == len( img.shape )\n",
    "plt.figure ()\n",
    "plt.gray ()\n",
    "plt.imshow (img , interpolation =\"bicubic\") # also try interpolation =\" bicubic \"\n",
    "plt.title('3')\n",
    "plt.show ()"
   ]
  },
  {
   "cell_type": "markdown",
   "metadata": {},
   "source": [
    "<span style =\" color : green ;font-weight : bold \">We tried out both interpolation modes but stuck with \"bicubic\". Also wie selected a random three out of the data set.</span>"
   ]
  },
  {
   "cell_type": "code",
   "execution_count": 81,
   "metadata": {
    "collapsed": true
   },
   "outputs": [],
   "source": [
    "from sklearn import model_selection\n",
    "X_all = data[7:] #needs to be divisible by 10 for later to work\n",
    "y_all = target[7:]\n",
    "X_train , X_test , y_train , y_test =\\\n",
    "model_selection.train_test_split ( digits.data , digits.target ,test_size = 0.4 , random_state = 0)"
   ]
  },
  {
   "cell_type": "markdown",
   "metadata": {},
   "source": [
    "### 3.2 Distance function computation using loops\n",
    "$$\\text{dist:}\\ {\\rm I\\!R}^{N \\times D} \\times {\\rm I\\!R}^{M \\times D} \\rightarrow {\\rm I\\!R}^{N \\times M}$$ with $$N \\text{: Length of training set}\\\\M \\text{: Lenght of test set}\\\\D \\text{: Number of pixels} = 64$$"
   ]
  },
  {
   "cell_type": "code",
   "execution_count": 82,
   "metadata": {
    "collapsed": true
   },
   "outputs": [],
   "source": [
    "def dist_loop(training, test):\n",
    "    d=[] #save distances in this matrix\n",
    "    #now: fill matrix line by line\n",
    "    for i in range(len(training)):\n",
    "        line=[] \n",
    "        #fill line for line with the distances\n",
    "        for j in range(len(test)):\n",
    "            line.append(np.sqrt(np.sum(np.square(test[j]-training[i]))))\n",
    "        d.append(line)\n",
    "    return np.array(d)"
   ]
  },
  {
   "cell_type": "markdown",
   "metadata": {},
   "source": [
    "<span style =\" color : green ;font-weight : bold \">We used a python list instead of a pre-initialized numpy vector of the size $N\\times M$. But besides that the complexity should be about the same. </span>"
   ]
  },
  {
   "cell_type": "markdown",
   "metadata": {},
   "source": [
    "### 3.3 Distance function computation using vectorization"
   ]
  },
  {
   "cell_type": "code",
   "execution_count": 83,
   "metadata": {
    "collapsed": true
   },
   "outputs": [],
   "source": [
    "def dist_vec(training, test):\n",
    "    #adding a new dimension to sum over (pixels) and calculate the difference to the test set in each instance\n",
    "    return np.sqrt(np.sum(np.square(training[:,None]-test),axis=2))"
   ]
  },
  {
   "cell_type": "markdown",
   "metadata": {},
   "source": [
    "<span style =\" color : green ;font-weight : bold \">We found a similar way to compute the distance matrix. Instead of using $\\texttt{numpy.expand_dims}$ we used an equivalent of $\\texttt{numpy.newaxis}=\\texttt{None}$. In the documentation you can also find \"y = np.expand_dims(x, axis=1)  # Equivalent to x[:,np.newaxis]\". So we did exactly the same.</span>"
   ]
  },
  {
   "cell_type": "code",
   "execution_count": 84,
   "metadata": {
    "collapsed": false
   },
   "outputs": [
    {
     "name": "stdout",
     "output_type": "stream",
     "text": [
      "1 loop, best of 3: 10.4 s per loop\n"
     ]
    }
   ],
   "source": [
    "%timeit dist_loop(X_test,X_train)"
   ]
  },
  {
   "cell_type": "code",
   "execution_count": 85,
   "metadata": {
    "collapsed": false
   },
   "outputs": [
    {
     "name": "stdout",
     "output_type": "stream",
     "text": [
      "1 loop, best of 3: 773 ms per loop\n"
     ]
    }
   ],
   "source": [
    "%timeit dist_vec(X_test,X_train)"
   ]
  },
  {
   "cell_type": "code",
   "execution_count": 86,
   "metadata": {
    "collapsed": false
   },
   "outputs": [
    {
     "data": {
      "text/plain": [
       "True"
      ]
     },
     "execution_count": 86,
     "metadata": {},
     "output_type": "execute_result"
    }
   ],
   "source": [
    "#check if both function even do the same\n",
    "np.array_equal(dist_vec(X_test,X_train),dist_loop(X_test,X_train))"
   ]
  },
  {
   "cell_type": "markdown",
   "metadata": {},
   "source": [
    "As we can see the vectorized solution is way faster than the looped version and gives the same result."
   ]
  },
  {
   "cell_type": "markdown",
   "metadata": {},
   "source": [
    "<span style =\" color : green ;font-weight : bold \">Our both functions give the same result. The solution used the same numpy function as us but the result there was $\\texttt{False}$. That's the only difference.</span >"
   ]
  },
  {
   "cell_type": "markdown",
   "metadata": {},
   "source": [
    "### 3.4 Implement the k-nearest neighbor classifier"
   ]
  },
  {
   "cell_type": "code",
   "execution_count": 87,
   "metadata": {
    "collapsed": true
   },
   "outputs": [],
   "source": [
    "#define the subset of X_train\n",
    "subX_train=X_train[(y_train==3) | (y_train==9)] #only 3's and 9's are in the subsets\n",
    "subX_test=X_test[(y_test==3) | (y_test==9)]\n",
    "subY_train=y_train[(y_train==3) | (y_train==9)]\n",
    "subY_test=y_test[(y_test==3) | (y_test==9)]"
   ]
  },
  {
   "cell_type": "code",
   "execution_count": 88,
   "metadata": {
    "collapsed": true
   },
   "outputs": [],
   "source": [
    "#nearest neighbor classifier\n",
    "def NN(k,training,test,trainingLabel,testLabel):\n",
    "    #calculate the distance matrix\n",
    "    distance=dist_vec(training,test)\n",
    "    guess=[]\n",
    "    for i in range(len(test)):\n",
    "        #get indices of smallest k distances of each column\n",
    "        sorting=np.argsort(distance,axis=0).T[i][:k]\n",
    "        #take the mean of all neighbors and see what integer is the most likley\n",
    "        guess.append(round(np.mean(trainingLabel[sorting])))\n",
    "    error=1-np.count_nonzero(np.equal(guess,testLabel))/len(testLabel)\n",
    "    return error,np.array(guess)"
   ]
  },
  {
   "cell_type": "markdown",
   "metadata": {},
   "source": [
    "<span style =\" color : green ;font-weight :bold \">We made an error here. Instead of determing the highest contributer we took all the contributers and took the mean as best guess. But clearly this is wrong. Besides that we did almost the same calculations as in the solution. We returned the error and it's std instead of the guesses.</span >"
   ]
  },
  {
   "cell_type": "markdown",
   "metadata": {
    "collapsed": true
   },
   "source": [
    "try for $k \\in [ 1, 3, 5, 9, 17,33]$"
   ]
  },
  {
   "cell_type": "code",
   "execution_count": 89,
   "metadata": {
    "collapsed": false
   },
   "outputs": [
    {
     "name": "stdout",
     "output_type": "stream",
     "text": [
      "0.178240740741 0.147350282063\n"
     ]
    }
   ],
   "source": [
    "err=[]\n",
    "for k in [1,3,5,9,17,33]:\n",
    "    errK,result=NN(k,subX_train,subX_test,subY_train,subY_test)\n",
    "    err.append(errK)\n",
    "print(np.mean(err),np.std(err))"
   ]
  },
  {
   "cell_type": "markdown",
   "metadata": {},
   "source": [
    "So in average we get an error rate for $(17.8\\pm 14.7)$%"
   ]
  },
  {
   "cell_type": "code",
   "execution_count": 90,
   "metadata": {
    "collapsed": false
   },
   "outputs": [
    {
     "data": {
      "image/png": "[encoded data removed]",
      "text/plain": [
       "<Figure size 432x288 with 1 Axes>"
      ]
     },
     "metadata": {},
     "output_type": "display_data"
    }
   ],
   "source": [
    "plt.plot([1,3,5,9,17,33],err,'.',label='error rate')\n",
    "plt.xlabel('k')\n",
    "plt.ylabel('error')\n",
    "plt.title('error as function of k')\n",
    "plt.show()"
   ]
  },
  {
   "cell_type": "markdown",
   "metadata": {},
   "source": [
    "We can see that the error is growing with $k$.\n"
   ]
  },
  {
   "cell_type": "markdown",
   "metadata": {},
   "source": [
    "<span style =\" color : green ;font-weight : bold \">The plot looks very similar to the one in the solution only the y-scale is different. Instead of 1.2% we got a maximum error of ~40%. This can be traced to our implementation of the NN classifier. Also we did not print out a confusion matrix.</span >"
   ]
  },
  {
   "cell_type": "markdown",
   "metadata": {},
   "source": [
    "### 4 Cross-validation"
   ]
  },
  {
   "cell_type": "code",
   "execution_count": 91,
   "metadata": {
    "collapsed": true
   },
   "outputs": [],
   "source": [
    "from numpy import random as rnd\n",
    "\n",
    "def split_folds(data, target, L):   \n",
    "    #shuffle target and data in unison\n",
    "    permutation = rnd.permutation(len(data))\n",
    "    data,target = data[permutation],target[permutation]\n",
    "    return np.array(np.array_split(data,L)),np.array(np.array_split(target,L))"
   ]
  },
  {
   "cell_type": "markdown",
   "metadata": {},
   "source": [
    "<span style =\" color : green ;font-weight : bold \">We wrote the function $\\texttt{splif_folds(data,target,L)}$ as it was asked. It works exaclty like the splitting part in the solutions function $\\texttt{cross_validate}$. </span >"
   ]
  },
  {
   "cell_type": "code",
   "execution_count": 92,
   "metadata": {
    "collapsed": true
   },
   "outputs": [],
   "source": [
    "def cross_val(data,target,L,k):   #only works if len(data)%L == 0\n",
    "    if len(data)%L!=0:\n",
    "        raise ValueError('Only works with denominators of the data length')\n",
    "    #start list for error values\n",
    "    Err = []\n",
    "    #split data\n",
    "    X_folds,Y_folds = split_folds(data,target,L)\n",
    "    #use each fold as test data once and the remaining folds as training set\n",
    "    for i in range(L):\n",
    "        X_test,Y_test = X_folds[i],Y_folds[i]\n",
    "        X_train,Y_train = np.delete(X_folds,i,axis=0),np.delete(Y_folds,i,axis=0).flatten() #training set without test set\n",
    "        X_train=np.array(list(itertools.chain(*X_train))) #combine packs to one big pack\n",
    "        err,guess = NN(k, X_train, X_test, Y_train, Y_test)\n",
    "        Err.append(err)\n",
    "    return np.mean(Err),np.std(Err)"
   ]
  },
  {
   "cell_type": "markdown",
   "metadata": {},
   "source": [
    "<span style =\" color : green ;font-weight : bold \">The task-position did not ask for an option to set the shuffling False. That's why we didn't compare the results of shuffled and unshuffled datasets. Also we seperated the sklearn kNN and our implementation. I belive the key calculations are the same e.g. we did return an error but not in percent.</span >"
   ]
  },
  {
   "cell_type": "markdown",
   "metadata": {},
   "source": [
    "<span style =\" color : green ;font-weight : bold \">We put our X_train data together in an other way, not quite as elegant as in the solution but it worked for us. Also our data set needed to be compatible with the choosen L. We couldn't figure out why but also the sklearn's algorithm didn't work for another L.</span >"
   ]
  },
  {
   "cell_type": "code",
   "execution_count": 97,
   "metadata": {
    "collapsed": false
   },
   "outputs": [
    {
     "data": {
      "text/plain": [
       "(0.083333333333333343, 0.049690399499995319)"
      ]
     },
     "execution_count": 97,
     "metadata": {},
     "output_type": "execute_result"
    }
   ],
   "source": [
    "subX_all = X_all[(y_all==3) | (y_all==9)][2:] #only 3's and 9's are in the subsets\n",
    "suby_all = y_all[(y_all==3) | (y_all==9)][2:] #remove 2 so that len(subX_all)%10=0\n",
    "cross_val(subX_all,suby_all,10,8)"
   ]
  },
  {
   "cell_type": "markdown",
   "metadata": {},
   "source": [
    "<span style =\" color : green ;font-weight : bold \">Non-loop approach to filter out all 3's and 9's from the training set. But other method used.</span >"
   ]
  },
  {
   "cell_type": "markdown",
   "metadata": {},
   "source": [
    "So in average we get an error rate for $(0.8\\pm 0.5)$%"
   ]
  },
  {
   "cell_type": "markdown",
   "metadata": {},
   "source": [
    "Now we implement the pre-defined solution"
   ]
  },
  {
   "cell_type": "code",
   "execution_count": 94,
   "metadata": {
    "collapsed": true
   },
   "outputs": [],
   "source": [
    "from sklearn.neighbors import KNeighborsClassifier\n",
    "def skNN(k,training,trainingLabel,test,testLabel):\n",
    "    classifier= KNeighborsClassifier(n_neighbors=k)\n",
    "    classifier.fit(training,trainingLabel) #train with the same data as in 3.4\n",
    "    skGuess=classifier.predict(test)\n",
    "    Error=1-np.count_nonzero(np.equal(skGuess,testLabel))/len(testLabel)\n",
    "    return Error"
   ]
  },
  {
   "cell_type": "code",
   "execution_count": 95,
   "metadata": {
    "collapsed": true
   },
   "outputs": [],
   "source": [
    "def skcross_val(data,target,L,k):   #only works if len(data)%L == 0\n",
    "    if len(data)%L!=0:\n",
    "        raise ValueError('Only works with denominators of the data length')\n",
    "    #start list for error values\n",
    "    Err = []\n",
    "    #split data\n",
    "    X_folds,Y_folds = split_folds(data,target,L)\n",
    "    #use each fold as test data once and the remaining folds as training set\n",
    "    for i in range(L):\n",
    "        X_test,Y_test = X_folds[i],Y_folds[i]\n",
    "        X_train,Y_train = np.delete(X_folds,i,axis=0),np.delete(Y_folds,i,axis=0).flatten() #training set without test set\n",
    "        X_train=np.array(list(itertools.chain(*X_train))) #combine packs to one big pack\n",
    "        err = skNN(k,X_train, Y_train, X_test, Y_test)\n",
    "        Err.append(err)\n",
    "    return np.mean(Err),np.std(Err)"
   ]
  },
  {
   "cell_type": "code",
   "execution_count": 102,
   "metadata": {
    "collapsed": false
   },
   "outputs": [
    {
     "data": {
      "text/plain": [
       "(0.011111111111111117, 0.013608276348795441)"
      ]
     },
     "execution_count": 102,
     "metadata": {},
     "output_type": "execute_result"
    }
   ],
   "source": [
    "skcross_val(subX_all,suby_all,10,5)"
   ]
  },
  {
   "cell_type": "markdown",
   "metadata": {},
   "source": [
    "As we can see the sklearn algorithm handles the problem better than our implementation with an average error rate of $(1.1\\pm 1.3)$%"
   ]
  },
  {
   "cell_type": "code",
   "execution_count": 76,
   "metadata": {
    "collapsed": false
   },
   "outputs": [],
   "source": [
    "#calculate the error and std for L=2,5,10 and for k=1,5 for both algorithms \n",
    "Error,delError=[],[]\n",
    "for algorithm in [cross_val,skcross_val]:\n",
    "    for k in [1,5]:\n",
    "        error,delErr=[],[]\n",
    "        for L in [2,5,10]:\n",
    "            e,d=algorithm(X_all,y_all,L,k)\n",
    "            error.append(e)\n",
    "            delErr.append(d)\n",
    "        Error.append(error)\n",
    "        delError.append(delErr)"
   ]
  },
  {
   "cell_type": "markdown",
   "metadata": {},
   "source": [
    "Now plot the error"
   ]
  },
  {
   "cell_type": "code",
   "execution_count": 78,
   "metadata": {
    "collapsed": false
   },
   "outputs": [
    {
     "data": {
      "image/png": "[encoded data removed]",
      "text/plain": [
       "<Figure size 432x288 with 1 Axes>"
      ]
     },
     "metadata": {},
     "output_type": "display_data"
    }
   ],
   "source": [
    "for i in range(4):\n",
    "    plt.errorbar([2,5,10],Error[i],yerr=delError[i],capsize=2,label='%s for $k$=%i'%(['ours','sklearn'][i//2],[1,5][i%2]))\n",
    "plt.title(\"Comparison of the algorithm's performance\")\n",
    "plt.xlabel('L')\n",
    "plt.ylabel('error')\n",
    "plt.legend()\n",
    "plt.show()"
   ]
  },
  {
   "cell_type": "markdown",
   "metadata": {},
   "source": [
    "The errors are decreasing with L and increasing with k. Our implementation is not as good as the $\\texttt{sklearn}$'s implementation."
   ]
  },
  {
   "cell_type": "markdown",
   "metadata": {
    "collapsed": true
   },
   "source": [
    "<span style =\" color : green ;font-weight : bold \">Our classifier did not return the same results as sklearn. We already elaborated why this is. </span >"
   ]
  },
  {
   "cell_type": "code",
   "execution_count": null,
   "metadata": {
    "collapsed": true
   },
   "outputs": [],
   "source": []
  }
 ],
 "metadata": {
  "kernelspec": {
   "display_name": "Python 3",
   "language": "python",
   "name": "python3"
  },
  "language_info": {
   "codemirror_mode": {
    "name": "ipython",
    "version": 3
   },
   "file_extension": ".py",
   "mimetype": "text/x-python",
   "name": "python",
   "nbconvert_exporter": "python",
   "pygments_lexer": "ipython3",
   "version": "3.6.0"
  }
 },
 "nbformat": 4,
 "nbformat_minor": 2
}
