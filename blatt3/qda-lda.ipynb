{
 "cells": [
  {
   "cell_type": "markdown",
   "metadata": {},
   "source": [
    "<div align=\"right\">\n",
    "  Christopher Lüken-Winkels, Lukas Blecher\n",
    "</div>\n",
    "# Exercise 2\n",
    "## 2 Data Preparation"
   ]
  },
  {
   "cell_type": "code",
   "execution_count": 6,
   "metadata": {
    "collapsed": true
   },
   "outputs": [],
   "source": [
    "#import standard libraries\n",
    "import numpy as np\n",
    "import matplotlib.pyplot as plt\n",
    "%matplotlib inline\n",
    "from sklearn.datasets import load_digits\n",
    "from sklearn import model_selection"
   ]
  },
  {
   "cell_type": "code",
   "execution_count": 7,
   "metadata": {
    "collapsed": false
   },
   "outputs": [
    {
     "name": "stdout",
     "output_type": "stream",
     "text": [
      "dict_keys(['data', 'target', 'target_names', 'images', 'DESCR'])\n"
     ]
    }
   ],
   "source": [
    "digits = load_digits ()\n",
    "print(digits.keys ()) #Python 3\n",
    "data = digits [\"data\"]\n",
    "images = digits [\"images\"]\n",
    "target = digits [\"target\"]\n",
    "target_names = digits [\"target_names\"]"
   ]
  },
  {
   "cell_type": "code",
   "execution_count": 8,
   "metadata": {
    "collapsed": false
   },
   "outputs": [],
   "source": [
    "# filter out all 1's and 7's\n",
    "# split into train and test data\n",
    "X_all = data[np.logical_or(target==1,target==7)]\n",
    "y_all = target[np.logical_or(target==1,target==7)]\n",
    "X_train, X_test, y_train , y_test = model_selection.train_test_split(digits.data,digits.target,test_size = 0.4,random_state = 0)"
   ]
  },
  {
   "cell_type": "code",
   "execution_count": 10,
   "metadata": {
    "collapsed": false
   },
   "outputs": [
    {
     "data": {
      "text/plain": [
       "1.4993045897079276"
      ]
     },
     "execution_count": 10,
     "metadata": {},
     "output_type": "execute_result"
    }
   ],
   "source": [
    "#verify 3/2 split:\n",
    "len(X_train)/len(X_test)"
   ]
  },
  {
   "cell_type": "markdown",
   "metadata": {},
   "source": [
    "### 2.1 Dimension Reduction"
   ]
  },
  {
   "cell_type": "code",
   "execution_count": 33,
   "metadata": {
    "collapsed": false
   },
   "outputs": [
    {
     "data": {
      "image/png": "[encoded data removed]",
      "text/plain": [
       "<Figure size 720x216 with 4 Axes>"
      ]
     },
     "metadata": {},
     "output_type": "display_data"
    }
   ],
   "source": [
    "#first look at average of all ones and sevens to identify hot pixels\n",
    "ones,sevens=images[target==1],images[target==7]\n",
    "fig = plt.figure(figsize = (10,3))\n",
    "plt.gray()\n",
    "plt.subplot('141'); plt.axis('off')\n",
    "plt.imshow(np.mean(ones,axis=0), interpolation = \"nearest\")\n",
    "plt.title('ones')\n",
    "plt.subplot('142'); plt.axis('off')\n",
    "plt.imshow(np.mean(sevens,axis=0), interpolation = \"nearest\")\n",
    "plt.title('sevens')\n",
    "plt.subplot('143'); plt.axis('off')\n",
    "plt.imshow(abs(np.mean(ones,axis=0)-np.mean(sevens,axis=0)), interpolation = \"nearest\")\n",
    "plt.title('difference')\n",
    "plt.subplot('144'); plt.axis('off')\n",
    "f=np.zeros((8,8))\n",
    "f[2,3]=1\n",
    "f[7,4]=f[7,5]=f[6,4]=f[6,5]=.25\n",
    "plt.imshow(f, interpolation = \"nearest\")\n",
    "plt.title('features')\n",
    "fig.tight_layout(); plt.show()"
   ]
  },
  {
   "cell_type": "markdown",
   "metadata": {},
   "source": [
    "In the difference plot we can se one very bright pixel in particular. It would be smart to take that pixel value as our first feature. For the second feature we can take an also quite bright pixel region in the lower part of the picture. The average of the four brighter pixel might be a good feature"
   ]
  },
  {
   "cell_type": "code",
   "execution_count": 34,
   "metadata": {
    "collapsed": true
   },
   "outputs": [],
   "source": [
    "#reduce dimension function\n",
    "def reduce_dim(x):\n",
    "    red=np.zeros((x.shape[0], 2), dtype = np.float64)\n",
    "    #iterate over the instances\n",
    "    for i in range(x.shape[0]):\n",
    "        red[i,0]=x[i,2*8+3]\n",
    "        red[i,1]=(x[i,7*8+4]+x[i,7*8+5]+x[i,6*8+4]+x[i,6*8+5])/4\n",
    "    return red"
   ]
  },
  {
   "cell_type": "markdown",
   "metadata": {},
   "source": [
    "### 2.2 Scatterplot"
   ]
  },
  {
   "cell_type": "code",
   "execution_count": 49,
   "metadata": {
    "collapsed": false
   },
   "outputs": [
    {
     "data": {
      "image/png": "[encoded data removed]",
      "text/plain": [
       "<Figure size 432x288 with 1 Axes>"
      ]
     },
     "metadata": {},
     "output_type": "display_data"
    }
   ],
   "source": [
    "plt.scatter(*reduce_dim(X_train[y_train==1]).T,label='one')\n",
    "plt.scatter(*reduce_dim(X_train[y_train==7]).T,label='seven')\n",
    "plt.title('Visualisation of feature space')\n",
    "plt.xlabel('feature 1: pixel (2,3)')\n",
    "plt.ylabel('feature 2: pixel (7:8,4:5)')\n",
    "plt.legend()\n",
    "plt.show()"
   ]
  },
  {
   "cell_type": "markdown",
   "metadata": {},
   "source": [
    "## 3 Neares Mean\n",
    "### 3.1 Implement the nearest mean classifier"
   ]
  },
  {
   "cell_type": "code",
   "execution_count": null,
   "metadata": {
    "collapsed": true
   },
   "outputs": [],
   "source": []
  }
 ],
 "metadata": {
  "kernelspec": {
   "display_name": "Python 3",
   "language": "python",
   "name": "python3"
  },
  "language_info": {
   "codemirror_mode": {
    "name": "ipython",
    "version": 3
   },
   "file_extension": ".py",
   "mimetype": "text/x-python",
   "name": "python",
   "nbconvert_exporter": "python",
   "pygments_lexer": "ipython3",
   "version": "3.6.0"
  }
 },
 "nbformat": 4,
 "nbformat_minor": 2
}
