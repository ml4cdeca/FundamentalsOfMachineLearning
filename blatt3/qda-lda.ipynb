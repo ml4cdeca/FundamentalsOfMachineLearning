{
 "cells": [
  {
   "cell_type": "markdown",
   "metadata": {},
   "source": [
    "<div align=\"right\">\n",
    "  Christopher Lüken-Winkels, Lukas Blecher\n",
    "</div>\n",
    "# Exercise 2\n",
    "## 2 Data Preparation"
   ]
  },
  {
   "cell_type": "code",
   "execution_count": 20,
   "metadata": {
    "collapsed": true
   },
   "outputs": [],
   "source": [
    "#import standard libraries\n",
    "import numpy as np\n",
    "import matplotlib.pyplot as plt\n",
    "%matplotlib inline\n",
    "from sklearn.datasets import load_digits\n",
    "from sklearn import model_selection"
   ]
  },
  {
   "cell_type": "code",
   "execution_count": 2,
   "metadata": {
    "collapsed": false
   },
   "outputs": [
    {
     "name": "stdout",
     "output_type": "stream",
     "text": [
      "dict_keys(['data', 'target', 'target_names', 'images', 'DESCR'])\n"
     ]
    }
   ],
   "source": [
    "digits = load_digits ()\n",
    "print(digits.keys ()) #Python 3\n",
    "data = digits [\"data\"]\n",
    "images = digits [\"images\"]\n",
    "target = digits [\"target\"]\n",
    "target_names = digits [\"target_names\"]"
   ]
  },
  {
   "cell_type": "code",
   "execution_count": 3,
   "metadata": {
    "collapsed": false
   },
   "outputs": [],
   "source": [
    "# filter out all 1's and 7's\n",
    "# split into train and test data\n",
    "X_all = data[(target==1)|(target==7)]\n",
    "y_all = target[(target==1)|(target==7)]\n",
    "X_train, X_test, y_train , y_test = model_selection.train_test_split(X_all,y_all,test_size = 0.4,random_state = 0)"
   ]
  },
  {
   "cell_type": "code",
   "execution_count": 4,
   "metadata": {
    "collapsed": false
   },
   "outputs": [
    {
     "data": {
      "text/plain": [
       "1.4896551724137932"
      ]
     },
     "execution_count": 4,
     "metadata": {},
     "output_type": "execute_result"
    }
   ],
   "source": [
    "#verify 3/2 split:\n",
    "len(X_train)/len(X_test)"
   ]
  },
  {
   "cell_type": "markdown",
   "metadata": {},
   "source": [
    "### 2.1 Dimension Reduction"
   ]
  },
  {
   "cell_type": "code",
   "execution_count": 5,
   "metadata": {
    "collapsed": false
   },
   "outputs": [
    {
     "data": {
      "image/png": "[encoded data removed]",
      "text/plain": [
       "<Figure size 720x216 with 4 Axes>"
      ]
     },
     "metadata": {},
     "output_type": "display_data"
    }
   ],
   "source": [
    "#first look at average of all ones and sevens to identify hot pixels\n",
    "ones,sevens=images[target==1],images[target==7]\n",
    "fig = plt.figure(figsize = (10,3))\n",
    "plt.gray()\n",
    "plt.subplot('141'); plt.axis('off')\n",
    "plt.imshow(np.mean(ones,axis=0), interpolation = \"nearest\")\n",
    "plt.title('ones')\n",
    "plt.subplot('142'); plt.axis('off')\n",
    "plt.imshow(np.mean(sevens,axis=0), interpolation = \"nearest\")\n",
    "plt.title('sevens')\n",
    "plt.subplot('143'); plt.axis('off')\n",
    "plt.imshow(abs(np.mean(ones,axis=0)-np.mean(sevens,axis=0)), interpolation = \"nearest\")\n",
    "plt.title('difference')\n",
    "plt.subplot('144'); plt.axis('off')\n",
    "f=np.zeros((8,8))\n",
    "f[2,3]=1\n",
    "f[7,4]=f[7,5]=f[6,4]=f[6,5]=.25\n",
    "plt.imshow(f, interpolation = \"nearest\")\n",
    "plt.title('features')\n",
    "fig.tight_layout(); plt.show()"
   ]
  },
  {
   "cell_type": "markdown",
   "metadata": {},
   "source": [
    "In the difference plot we can se one very bright pixel in particular. It would be smart to take that pixel value as our first feature. For the second feature we can take an also quite bright pixel region in the lower part of the picture. The average of the four brighter pixel might be a good feature"
   ]
  },
  {
   "cell_type": "code",
   "execution_count": 6,
   "metadata": {
    "collapsed": true
   },
   "outputs": [],
   "source": [
    "#reduce dimension function\n",
    "def reduce_dim(x):\n",
    "    red=np.zeros((x.shape[0], 2), dtype = np.float64)\n",
    "    #iterate over the instances\n",
    "    for i in range(x.shape[0]):\n",
    "        red[i,0]=x[i,2*8+3]\n",
    "        red[i,1]=(x[i,7*8+4]+x[i,7*8+5]+x[i,6*8+4]+x[i,6*8+5])/4\n",
    "    return red"
   ]
  },
  {
   "cell_type": "markdown",
   "metadata": {},
   "source": [
    "### 2.2 Scatterplot"
   ]
  },
  {
   "cell_type": "code",
   "execution_count": 7,
   "metadata": {
    "collapsed": false
   },
   "outputs": [
    {
     "data": {
      "image/png": "[encoded data removed]",
      "text/plain": [
       "<Figure size 432x288 with 1 Axes>"
      ]
     },
     "metadata": {},
     "output_type": "display_data"
    }
   ],
   "source": [
    "plt.scatter(*reduce_dim(X_train[y_train==1]).T,label='one')\n",
    "plt.scatter(*reduce_dim(X_train[y_train==7]).T,label='seven')\n",
    "plt.title('Visualisation of feature space')\n",
    "plt.xlabel('feature 1: pixel (2,3)')\n",
    "plt.ylabel('feature 2:  $\\\\frac{1}{4} \\Sigma$ pixel (7:8,4:5)')\n",
    "plt.legend()\n",
    "plt.show()"
   ]
  },
  {
   "cell_type": "markdown",
   "metadata": {},
   "source": [
    "## 3 Neares Mean\n",
    "### 3.1 Implement the nearest mean classifier"
   ]
  },
  {
   "cell_type": "code",
   "execution_count": 93,
   "metadata": {
    "collapsed": true
   },
   "outputs": [],
   "source": [
    "def nearest_mean(training_features,training_labels,test_features):\n",
    "    #list of features:\n",
    "    features=np.nonzero(np.bincount(training_labels))[0] #is always [1,7] in our example\n",
    "    #compute per-class centroids\n",
    "    mu=[]\n",
    "    #not a bad loop: only 2 iterations. \n",
    "    for i in range(len(features)):\n",
    "        mu.append(np.mean(training_features[training_labels==features[i]],axis=0))\n",
    "    mu=np.array(mu)\n",
    "    #now classify the test_features:\n",
    "    #calculate the distance matrix\n",
    "    dist=np.sqrt(np.sum(np.square(test_features[:,None]-mu),axis=2))\n",
    "    #decide which class each element most likley represents\n",
    "    classes=np.argmin(dist,axis=1)\n",
    "    #convert from indices of features to the features and return result\n",
    "    return np.array(list(map(features.__getitem__,classes)))"
   ]
  },
  {
   "cell_type": "code",
   "execution_count": 97,
   "metadata": {
    "collapsed": false
   },
   "outputs": [
    {
     "name": "stdout",
     "output_type": "stream",
     "text": [
      "Error: 0.0 %\n"
     ]
    }
   ],
   "source": [
    "training_features,test_features=reduce_dim(X_train),reduce_dim(X_test)\n",
    "guessed_test_labels=nearest_mean(training_features,y_train,test_features)\n",
    "print('Error:',100*(1-np.count_nonzero(guessed_test_labels==y_test)/len(y_test)),'%')"
   ]
  },
  {
   "cell_type": "markdown",
   "metadata": {},
   "source": [
    "### 3.2 Visualize the decision regions"
   ]
  },
  {
   "cell_type": "code",
   "execution_count": 10,
   "metadata": {
    "collapsed": false
   },
   "outputs": [],
   "source": [
    "#both features are normalized to 16\n",
    "x,y=np.linspace(-1,17,200),np.linspace(-1,17,200)\n",
    "X,Y=np.meshgrid(x,y)"
   ]
  },
  {
   "cell_type": "code",
   "execution_count": 11,
   "metadata": {
    "collapsed": true
   },
   "outputs": [],
   "source": [
    "#find means:\n",
    "mu=[np.mean(reduce_dim(X_train[y_train==1]),axis=0),np.mean(reduce_dim(X_train[y_train==7]),axis=0)]"
   ]
  },
  {
   "cell_type": "code",
   "execution_count": 12,
   "metadata": {
    "collapsed": true
   },
   "outputs": [],
   "source": [
    "#our classifier is just a nearest neighbor classifier with the only two objects beeing the two means. \n",
    "#So our decision region will just be a line through the middle of the two means\n",
    "def decision_line(x,y,mu): #returns -1 for (x,y) if under and 1 if (x,y) is over the line\n",
    "    mean=np.mean(mu,axis=0)\n",
    "    #y=mx+c\n",
    "    m=-mean[0]/mean[1]\n",
    "    c=mean[1]-m*mean[0]\n",
    "    diff=y-(m*x+c)\n",
    "    return diff/abs(diff)"
   ]
  },
  {
   "cell_type": "code",
   "execution_count": 95,
   "metadata": {
    "collapsed": false
   },
   "outputs": [
    {
     "data": {
      "image/png": "[encoded data removed]",
      "text/plain": [
       "<Figure size 432x288 with 1 Axes>"
      ]
     },
     "metadata": {},
     "output_type": "display_data"
    }
   ],
   "source": [
    "plt.contourf(X, Y, decision_line(X,Y,mu),1,alpha=.3,cmap=plt.cm.RdBu)\n",
    "#plt.colorbar()\n",
    "plt.scatter(*reduce_dim(X_train[y_train==1]).T,label='one')\n",
    "plt.scatter(*reduce_dim(X_train[y_train==7]).T,label='seven')\n",
    "plt.title('Visualisation of decision regions')\n",
    "plt.xlabel('feature 1: pixel (2,3)')\n",
    "plt.ylabel('feature 2:  $\\\\frac{1}{4} \\Sigma$ pixel (7:8,4:5)')\n",
    "plt.plot(*mu[0],'*',color='black',label='mean')\n",
    "plt.plot(*mu[1],'*',color='black')\n",
    "plt.ylim(-0.5,16.5)\n",
    "plt.xlim(-0.5,16.5)\n",
    "plt.legend(framealpha=.5)\n",
    "plt.show()"
   ]
  },
  {
   "cell_type": "markdown",
   "metadata": {},
   "source": [
    "## 4 QDA\n",
    "### Implement QDA Training"
   ]
  },
  {
   "cell_type": "code",
   "execution_count": 121,
   "metadata": {
    "collapsed": false
   },
   "outputs": [
    {
     "data": {
      "text/plain": [
       "array([[0, 1],\n",
       "       [2, 3],\n",
       "       [4, 5],\n",
       "       [6, 7]])"
      ]
     },
     "execution_count": 121,
     "metadata": {},
     "output_type": "execute_result"
    }
   ],
   "source": [
    "x=np.array(range(8)).reshape(4,2)\n",
    "x"
   ]
  },
  {
   "cell_type": "code",
   "execution_count": 138,
   "metadata": {
    "collapsed": false
   },
   "outputs": [
    {
     "name": "stdout",
     "output_type": "stream",
     "text": [
      "[[56 68]\n",
      " [68 84]]\n"
     ]
    }
   ],
   "source": [
    "#print(np.multiply.outer(x,x.T))\n",
    "print(np.sum(np.einsum('ij,ik->ijk',x,x),axis=0))"
   ]
  },
  {
   "cell_type": "code",
   "execution_count": 154,
   "metadata": {
    "collapsed": true
   },
   "outputs": [],
   "source": [
    "def fit_qda(training_features, training_labels):\n",
    "    #list of features:\n",
    "    features=np.nonzero(np.bincount(training_labels))[0] #is always [1,7] in our example\n",
    "    #compute per-class centroids\n",
    "    mu=[]\n",
    "    #not a bad loop: only 2 iterations. \n",
    "    for i in range(len(features)):\n",
    "        mu.append(np.mean(training_features[training_labels==features[i]],axis=0))\n",
    "    mu=np.array(mu)\n",
    "    covmat = []\n",
    "    for i in range(len(mu)):\n",
    "        X = training_features[training_labels==features[i]]\n",
    "        X_center = X - mu[i]\n",
    "        covmat.append(np.sum(np.einsum('ij,ik->ijk',X_center,X_center),axis=0)/len(X_center))\n",
    "    covmat = np.array(covmat)\n",
    "    #priors are equally distributed since no class is special\n",
    "    p = np.ones(len(features))/len(features)\n",
    "    return mu,covmat,p"
   ]
  },
  {
   "cell_type": "code",
   "execution_count": 155,
   "metadata": {
    "collapsed": false
   },
   "outputs": [],
   "source": [
    "mu,covmat,p=fit_qda(training_features,y_train)"
   ]
  },
  {
   "cell_type": "code",
   "execution_count": 248,
   "metadata": {
    "collapsed": false
   },
   "outputs": [],
   "source": [
    "def predict_qda(mu, covmat, p, test_features):\n",
    "    b = np.log(2 * np.pi * np.linalg.det(covmat)) - np.log(p)\n",
    "    Y = []\n",
    "    #We tried very hard to not use python loops but in the end none of the options were successful\n",
    "    for i in range(len(test_features)):\n",
    "        y = []\n",
    "        for k in range(len(mu)):\n",
    "            x = test_features[i] - mu[k]\n",
    "            y.append(np.matmul(np.matmul(x,np.linalg.inv(covmat[k])),x.T) + b[k])\n",
    "        Y.append(np.argmin(y))\n",
    "    return Y"
   ]
  },
  {
   "cell_type": "code",
   "execution_count": null,
   "metadata": {
    "collapsed": true
   },
   "outputs": [],
   "source": []
  }
 ],
 "metadata": {
  "kernelspec": {
   "display_name": "Python 3",
   "language": "python",
   "name": "python3"
  },
  "language_info": {
   "codemirror_mode": {
    "name": "ipython",
    "version": 3
   },
   "file_extension": ".py",
   "mimetype": "text/x-python",
   "name": "python",
   "nbconvert_exporter": "python",
   "pygments_lexer": "ipython3",
   "version": "3.6.0"
  }
 },
 "nbformat": 4,
 "nbformat_minor": 2
}
