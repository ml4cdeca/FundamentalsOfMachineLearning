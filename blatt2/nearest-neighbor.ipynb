{
 "cells": [
  {
   "cell_type": "markdown",
   "metadata": {},
   "source": [
    "<div align=\"right\">\n",
    "  Christopher Lüken-Winkels, Lukas Blecher\n",
    "</div>\n",
    "# Exercise 1b\n",
    "## 3 Nearest Neighbor Classification on Real Data\n",
    "### 3.1 Exploring the Data"
   ]
  },
  {
   "cell_type": "code",
   "execution_count": 66,
   "metadata": {},
   "outputs": [
    {
     "name": "stdout",
     "output_type": "stream",
     "text": [
      "dict_keys(['data', 'target', 'target_names', 'images', 'DESCR'])\n",
      "float64\n"
     ]
    }
   ],
   "source": [
    "from sklearn.datasets import load_digits\n",
    "import matplotlib.pyplot as plt\n",
    "import numpy as np\n",
    "import itertools\n",
    "digits = load_digits ()\n",
    "print ( digits.keys () )\n",
    "data = digits [\"data\"]\n",
    "images = digits [\"images\"]\n",
    "target = digits [\"target\"]\n",
    "target_names = digits [\"target_names\"]\n",
    "print ( data.dtype )\n",
    "#get an image of a random \"3\":\n",
    "threes=images[target==3] #could also use data[index].reshape((8,8)) \n",
    "img=threes[np.random.randint(len(threes))]"
   ]
  },
  {
   "cell_type": "code",
   "execution_count": 67,
   "metadata": {},
   "outputs": [
    {
     "data": {
      "image/png": "[encoded data removed]",
      "text/plain": [
       "<matplotlib.figure.Figure at 0x9920cf8>"
      ]
     },
     "metadata": {},
     "output_type": "display_data"
    }
   ],
   "source": [
    "assert 2 == len( img.shape )\n",
    "plt.figure ()\n",
    "plt.gray ()\n",
    "plt.imshow (img , interpolation =\"bicubic\") # also try interpolation =\" bicubic \"\n",
    "plt.title('3')\n",
    "plt.show ()"
   ]
  },
  {
   "cell_type": "code",
   "execution_count": 2,
   "metadata": {
    "collapsed": true
   },
   "outputs": [],
   "source": [
    "from sklearn import model_selection\n",
    "X_all = data\n",
    "y_all = target\n",
    "X_train , X_test , y_train , y_test =\\\n",
    "model_selection.train_test_split ( digits.data , digits.target ,test_size = 0.4 , random_state = 0)"
   ]
  },
  {
   "cell_type": "markdown",
   "metadata": {},
   "source": [
    "### 3.2 Distance function computation using loops\n",
    "$$\\text{dist:}\\ {\\rm I\\!R}^{N \\times D} \\times {\\rm I\\!R}^{M \\times D} \\rightarrow {\\rm I\\!R}^{N \\times M}$$ with $$N \\text{: Length of training set}\\\\M \\text{: Lenght of test set}\\\\D \\text{: Number of pixels} = 64$$"
   ]
  },
  {
   "cell_type": "code",
   "execution_count": 68,
   "metadata": {
    "collapsed": true
   },
   "outputs": [],
   "source": [
    "def dist_loop(training, test):\n",
    "    d=[] #save distances in this matrix\n",
    "    #now: fill matrix line by line\n",
    "    for i in range(len(training)):\n",
    "        line=[] \n",
    "        #fill line for line with the distances\n",
    "        for j in range(len(test)):\n",
    "            line.append(np.sqrt(np.sum(np.square(test[j]-training[i]))))\n",
    "        d.append(line)\n",
    "    return np.array(d)"
   ]
  },
  {
   "cell_type": "markdown",
   "metadata": {},
   "source": [
    "### 3.3 Distance function computation using vectorization"
   ]
  },
  {
   "cell_type": "code",
   "execution_count": 69,
   "metadata": {},
   "outputs": [],
   "source": [
    "def dist_vec(training, test):\n",
    "    #adding a new dimension to sum over (pixels) and calculate the difference to the test set in each instance\n",
    "    return np.sqrt(np.sum(np.square(training[:,None]-test),axis=2))"
   ]
  },
  {
   "cell_type": "code",
   "execution_count": 12,
   "metadata": {},
   "outputs": [
    {
     "name": "stdout",
     "output_type": "stream",
     "text": [
      "4.13 s ± 30.8 ms per loop (mean ± std. dev. of 7 runs, 1 loop each)\n"
     ]
    }
   ],
   "source": [
    "%timeit dist_loop(X_test,X_train)"
   ]
  },
  {
   "cell_type": "code",
   "execution_count": 13,
   "metadata": {},
   "outputs": [
    {
     "name": "stdout",
     "output_type": "stream",
     "text": [
      "392 ms ± 6.24 ms per loop (mean ± std. dev. of 7 runs, 1 loop each)\n"
     ]
    }
   ],
   "source": [
    "%timeit dist_vec(X_test,X_train)"
   ]
  },
  {
   "cell_type": "code",
   "execution_count": 14,
   "metadata": {},
   "outputs": [
    {
     "data": {
      "text/plain": [
       "True"
      ]
     },
     "execution_count": 14,
     "metadata": {},
     "output_type": "execute_result"
    }
   ],
   "source": [
    "#check if both function even do the same\n",
    "np.array_equal(dist_vec(X_test,X_train),dist_loop(X_test,X_train))"
   ]
  },
  {
   "cell_type": "markdown",
   "metadata": {},
   "source": [
    "As we can see the vectorized solution is way faster than the looped version and gives the same result."
   ]
  },
  {
   "cell_type": "markdown",
   "metadata": {},
   "source": [
    "### 3.4 Implement the k-nearest neighbor classifier"
   ]
  },
  {
   "cell_type": "code",
   "execution_count": 70,
   "metadata": {},
   "outputs": [],
   "source": [
    "#define the subset of X_train\n",
    "subX_train=X_train[(y_train==3) | (y_train==9)] #only 3's and 9's are in the subsets\n",
    "subX_test=X_test[(y_test==3) | (y_test==9)]\n",
    "subY_train=y_train[(y_train==3) | (y_train==9)]\n",
    "subY_test=y_test[(y_test==3) | (y_test==9)]"
   ]
  },
  {
   "cell_type": "code",
   "execution_count": 71,
   "metadata": {
    "collapsed": true
   },
   "outputs": [],
   "source": [
    "#nearest neighbor classifier\n",
    "def NN(k,training,test,trainingLabel,testLabel):\n",
    "    #calculate the distance matrix\n",
    "    distance=dist_vec(training,test)\n",
    "    guess=[]\n",
    "    for i in range(len(test)):\n",
    "        #get indices of smallest k distances of each column\n",
    "        sorting=np.argsort(distance,axis=0).T[i][:k]\n",
    "        #for only 3's and 9's we can look at the mean and check whether it is below or above (3+9)/2=6\n",
    "        guess.append(3 if np.mean(trainingLabel[sorting])<6 else 9)\n",
    "    error=1-np.count_nonzero(np.equal(guess,testLabel))/len(testLabel)\n",
    "    return error,np.array(guess)"
   ]
  },
  {
   "cell_type": "markdown",
   "metadata": {
    "collapsed": true
   },
   "source": [
    "try for $k \\in [ 1, 3, 5, 9, 17,33]$"
   ]
  },
  {
   "cell_type": "code",
   "execution_count": 72,
   "metadata": {
    "collapsed": true
   },
   "outputs": [],
   "source": [
    "err=[]\n",
    "for k in [1,3,5,9,17,33]:\n",
    "    errK,result=NN(k,subX_train,subX_test,subY_train,subY_test)\n",
    "    err.append(errK)"
   ]
  },
  {
   "cell_type": "code",
   "execution_count": 73,
   "metadata": {},
   "outputs": [
    {
     "data": {
      "image/png": "[encoded data removed]",
      "text/plain": [
       "<matplotlib.figure.Figure at 0xb32beb8>"
      ]
     },
     "metadata": {},
     "output_type": "display_data"
    }
   ],
   "source": [
    "plt.plot([1,3,5,9,17,33],err,'.',label='error rate')\n",
    "plt.xlabel('k')\n",
    "plt.ylabel('error')\n",
    "plt.title('error as function of k')\n",
    "plt.show()"
   ]
  },
  {
   "cell_type": "markdown",
   "metadata": {},
   "source": [
    "It performs very well. Only 1 to 3 wrong classifications for all $k$'s"
   ]
  },
  {
   "cell_type": "markdown",
   "metadata": {},
   "source": [
    "### 4 Cross-validation"
   ]
  },
  {
   "cell_type": "code",
   "execution_count": 74,
   "metadata": {
    "collapsed": true
   },
   "outputs": [],
   "source": [
    "from numpy import random as rnd\n",
    "\n",
    "def split_folds(data, target, L):   \n",
    "    #shuffle target and data in unison\n",
    "    permutation = rnd.permutation(len(data))\n",
    "    data,target = data[permutation],target[permutation]\n",
    "    return np.array_split(data,L),np.array_split(target,L)"
   ]
  },
  {
   "cell_type": "code",
   "execution_count": 114,
   "metadata": {
    "collapsed": true
   },
   "outputs": [],
   "source": [
    "def cross_val(data,target,L,k):   #CAREFUL: only works if len(data)%L == 0 (to be improved)\n",
    "    #start list for error values\n",
    "    Err = []\n",
    "    #split data\n",
    "    X_folds,Y_folds = split_folds(data,target,L)\n",
    "    print(Y_folds.shape)\n",
    "    #use each fold as test data once and the remaining folds as training set\n",
    "    for i in range(L):\n",
    "        X_test,Y_test = X_folds[i],Y_folds[i]\n",
    "        X_train,Y_train = np.delete(X_folds,i,axis=0),np.delete(Y_folds,i) #training set without test set\n",
    "        X_train=np.array(list(itertools.chain(*X_train)))\n",
    "        err,guess = NN(k, X_train, X_test, Y_train, Y_test)\n",
    "        Err.append(err)\n",
    "    return np.mean(Err)"
   ]
  },
  {
   "cell_type": "code",
   "execution_count": 115,
   "metadata": {},
   "outputs": [
    {
     "ename": "AttributeError",
     "evalue": "'list' object has no attribute 'shape'",
     "output_type": "error",
     "traceback": [
      "\u001b[1;31m---------------------------------------------------------------------------\u001b[0m",
      "\u001b[1;31mAttributeError\u001b[0m                            Traceback (most recent call last)",
      "\u001b[1;32m<ipython-input-115-66868f0c6897>\u001b[0m in \u001b[0;36m<module>\u001b[1;34m()\u001b[0m\n\u001b[0;32m      1\u001b[0m \u001b[0msubX_all\u001b[0m \u001b[1;33m=\u001b[0m \u001b[0mX_all\u001b[0m\u001b[1;33m[\u001b[0m\u001b[1;33m(\u001b[0m\u001b[0my_all\u001b[0m\u001b[1;33m==\u001b[0m\u001b[1;36m3\u001b[0m\u001b[1;33m)\u001b[0m \u001b[1;33m|\u001b[0m \u001b[1;33m(\u001b[0m\u001b[0my_all\u001b[0m\u001b[1;33m==\u001b[0m\u001b[1;36m9\u001b[0m\u001b[1;33m)\u001b[0m\u001b[1;33m]\u001b[0m \u001b[1;31m#only 3's and 9's are in the subsets\u001b[0m\u001b[1;33m\u001b[0m\u001b[0m\n\u001b[0;32m      2\u001b[0m \u001b[0msuby_all\u001b[0m \u001b[1;33m=\u001b[0m \u001b[0my_all\u001b[0m\u001b[1;33m[\u001b[0m\u001b[1;33m(\u001b[0m\u001b[0my_all\u001b[0m\u001b[1;33m==\u001b[0m\u001b[1;36m3\u001b[0m\u001b[1;33m)\u001b[0m \u001b[1;33m|\u001b[0m \u001b[1;33m(\u001b[0m\u001b[0my_all\u001b[0m\u001b[1;33m==\u001b[0m\u001b[1;36m9\u001b[0m\u001b[1;33m)\u001b[0m\u001b[1;33m]\u001b[0m\u001b[1;33m\u001b[0m\u001b[0m\n\u001b[1;32m----> 3\u001b[1;33m \u001b[0mcross_val\u001b[0m\u001b[1;33m(\u001b[0m\u001b[0msubX_all\u001b[0m\u001b[1;33m,\u001b[0m\u001b[0msuby_all\u001b[0m\u001b[1;33m,\u001b[0m\u001b[1;36m11\u001b[0m\u001b[1;33m,\u001b[0m\u001b[1;36m5\u001b[0m\u001b[1;33m)\u001b[0m\u001b[1;33m\u001b[0m\u001b[0m\n\u001b[0m",
      "\u001b[1;32m<ipython-input-114-a2de80188b8e>\u001b[0m in \u001b[0;36mcross_val\u001b[1;34m(data, target, L, k)\u001b[0m\n\u001b[0;32m      4\u001b[0m     \u001b[1;31m#split data\u001b[0m\u001b[1;33m\u001b[0m\u001b[1;33m\u001b[0m\u001b[0m\n\u001b[0;32m      5\u001b[0m     \u001b[0mX_folds\u001b[0m\u001b[1;33m,\u001b[0m\u001b[0mY_folds\u001b[0m \u001b[1;33m=\u001b[0m \u001b[0msplit_folds\u001b[0m\u001b[1;33m(\u001b[0m\u001b[0mdata\u001b[0m\u001b[1;33m,\u001b[0m\u001b[0mtarget\u001b[0m\u001b[1;33m,\u001b[0m\u001b[0mL\u001b[0m\u001b[1;33m)\u001b[0m\u001b[1;33m\u001b[0m\u001b[0m\n\u001b[1;32m----> 6\u001b[1;33m     \u001b[0mprint\u001b[0m\u001b[1;33m(\u001b[0m\u001b[0mY_folds\u001b[0m\u001b[1;33m.\u001b[0m\u001b[0mshape\u001b[0m\u001b[1;33m)\u001b[0m\u001b[1;33m\u001b[0m\u001b[0m\n\u001b[0m\u001b[0;32m      7\u001b[0m     \u001b[1;31m#use each fold as test data once and the remaining folds as training set\u001b[0m\u001b[1;33m\u001b[0m\u001b[1;33m\u001b[0m\u001b[0m\n\u001b[0;32m      8\u001b[0m     \u001b[1;32mfor\u001b[0m \u001b[0mi\u001b[0m \u001b[1;32min\u001b[0m \u001b[0mrange\u001b[0m\u001b[1;33m(\u001b[0m\u001b[0mL\u001b[0m\u001b[1;33m)\u001b[0m\u001b[1;33m:\u001b[0m\u001b[1;33m\u001b[0m\u001b[0m\n",
      "\u001b[1;31mAttributeError\u001b[0m: 'list' object has no attribute 'shape'"
     ]
    }
   ],
   "source": [
    "subX_all = X_all[(y_all==3) | (y_all==9)] #only 3's and 9's are in the subsets\n",
    "suby_all = y_all[(y_all==3) | (y_all==9)]\n",
    "cross_val(subX_all,suby_all,11,5)"
   ]
  },
  {
   "cell_type": "code",
   "execution_count": 206,
   "metadata": {},
   "outputs": [
    {
     "name": "stdout",
     "output_type": "stream",
     "text": [
      "(4,) (4,) (73, 64) (73,)\n",
      "(219, 64) (219,) (144, 64) (144,)\n"
     ]
    }
   ],
   "source": [
    "X_folds,Y_folds = split_folds(subX_all,suby_all,5)\n",
    "xt,yt=X_folds[0],Y_folds[0]\n",
    "xtr,ytr=np.delete(X_folds,0,axis=0),np.delete(Y_folds,0)\n",
    "#xtr=np.reshape(xtr,(xtr.shape[0]*xtr.shape[1],xtr.shape[2]))\n",
    "print(xtr.shape,ytr.shape,xt.shape,yt.shape)\n",
    "print(subX_train.shape,subY_train.shape,subX_test.shape,subY_test.shape)"
   ]
  },
  {
   "cell_type": "code",
   "execution_count": 34,
   "metadata": {},
   "outputs": [
    {
     "name": "stdout",
     "output_type": "stream",
     "text": [
      "[[15 16 17]\n",
      " [ 6  7  8]] \n",
      " [5 2] \n",
      "\n",
      " [[ 9 10 11]\n",
      " [ 3  4  5]\n",
      " [24 25 26]\n",
      " [21 22 23]\n",
      " [12 13 14]\n",
      " [27 28 29]\n",
      " [18 19 20]\n",
      " [ 0  1  2]] \n",
      "\n",
      " [2 3 1 8 7 4 9 6 0]\n"
     ]
    }
   ],
   "source": [
    "a=np.array(range(30)).reshape((10,3))\n",
    "b=np.array(range(10))\n",
    "X_folds,Y_folds = split_folds(a,b,5)\n",
    "xt,yt=X_folds[0],Y_folds[0]\n",
    "xtr,ytr=np.delete(X_folds,0,axis=0),np.delete(Y_folds,0)\n",
    "xtr=np.array(list(itertools.chain(*xtr)))\n",
    "print(xt,'\\n',yt,'\\n\\n',xtr,'\\n\\n',ytr)"
   ]
  },
  {
   "cell_type": "code",
   "execution_count": 87,
   "metadata": {},
   "outputs": [
    {
     "data": {
      "text/plain": [
       "(1797, 64)"
      ]
     },
     "execution_count": 87,
     "metadata": {},
     "output_type": "execute_result"
    }
   ],
   "source": [
    "data.shape"
   ]
  }
 ],
 "metadata": {
  "kernelspec": {
   "display_name": "Python 3",
   "language": "python",
   "name": "python3"
  },
  "language_info": {
   "codemirror_mode": {
    "name": "ipython",
    "version": 3
   },
   "file_extension": ".py",
   "mimetype": "text/x-python",
   "name": "python",
   "nbconvert_exporter": "python",
   "pygments_lexer": "ipython3",
   "version": "3.6.3"
  }
 },
 "nbformat": 4,
 "nbformat_minor": 2
}
