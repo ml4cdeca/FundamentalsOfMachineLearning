{
 "cells": [
  {
   "cell_type": "markdown",
   "metadata": {},
   "source": [
    "<div align=\"right\">\n",
    "  Christopher Lüken-Winkels, Lukas Blecher\n",
    "</div>\n",
    "# Exercise 1\n",
    "\n",
    "## 1. Monte-Carlo Simulation\n",
    "$X \\in \\left[ 0,1\\right], Y \\in \\{0,1\\}$\n",
    "$$p(Y = 0) = p(Y = 1) = \\frac12$$with the density functions$$ f(X = x|Y = 0) = 2 − 2x\\\\ f(X = x|Y = 1) = 2x$$\n",
    "Now we derive the CDF for both cases. In general the definition is $$F_X(x)=\\int^x_{-\\infty} f_X(t)dt$$\n",
    "Since $X\\in \\left[0,1\\right]$ we integrate form $0$. The results are:\n",
    "$$F_0=\\int_0^x (2y-y^2) dy =2x-x^2 \\\\ F_1(x)=\\int_0^x 2y dy=x^2$$\n",
    "\n",
    "Now we inverted the CDF:\n",
    "$$F_0^{-1}(y)=1-\\sqrt{1-y}\\\\ F_1^{-1}(y)=\\sqrt y$$\n",
    "In the first case we got two different solutions but the $+$-solution is greater than $1$ for almost all x."
   ]
  },
  {
   "cell_type": "code",
   "execution_count": 70,
   "metadata": {
    "collapsed": true
   },
   "outputs": [],
   "source": [
    "import numpy as np\n",
    "import matplotlib.pyplot as plt\n",
    "from numpy import random as rd\n",
    "from scipy.optimize import curve_fit\n",
    "%matplotlib inline"
   ]
  },
  {
   "cell_type": "code",
   "execution_count": 27,
   "metadata": {
    "collapsed": true
   },
   "outputs": [],
   "source": [
    "#define cumulative distribution function for f(X=x|Y=0)=2−2x (F0) and f(X=x|Y=1)=2x (F1)\n",
    "def F0(x):\n",
    "    return 2*x - x**2\n",
    "def F1(x):\n",
    "    return x**2\n",
    "\n",
    "#define inverse functions of F0 (invF0) and F1 (invF1)\n",
    "def invF0(y):\n",
    "    return 1 - np.sqrt(1 - y)\n",
    "def invF1(y):\n",
    "    return np.sqrt(y)\n",
    "\n",
    "#define function that returns vectors containing the X-values and corresponding Y-labels for N data instances\n",
    "def create_data(N):\n",
    "    Z = rd.random(N)\n",
    "    X0 = invF0(Z[:int(N/2)])          #first half of set with Y=0\n",
    "    X1 = invF1(Z[int(N/2):])          #second half of set with Y=1\n",
    "    Y0 = np.zeros(len(X0))\n",
    "    Y1 = np.ones(len(X1))\n",
    "    return np.concatenate((X0,X1),axis=None),np.concatenate((Y0,Y1),axis=None)\n",
    "\n",
    "#define function to show histogramm of X with Y=0 (second arg = 0) or Y=1 (second arg = 1)\n",
    "def test(N,k):    \n",
    "    X,Y = create_data(N)\n",
    "    if k == 0:\n",
    "        plt.hist(X[:int(len(X)/2)],bins = 100) \n",
    "    if k == 1:\n",
    "        plt.hist(X[int(len(X)/2):],bins = 100)\n",
    "    plt.show()\n",
    "    "
   ]
  },
  {
   "cell_type": "code",
   "execution_count": 28,
   "metadata": {
    "collapsed": false
   },
   "outputs": [
    {
     "data": {
      "image/png": "[encoded data removed]",
      "text/plain": [
       "<matplotlib.figure.Figure at 0xaa664e0>"
      ]
     },
     "metadata": {},
     "output_type": "display_data"
    },
    {
     "data": {
      "image/png": "[encoded data removed]",
      "text/plain": [
       "<matplotlib.figure.Figure at 0xab09278>"
      ]
     },
     "metadata": {},
     "output_type": "display_data"
    }
   ],
   "source": [
    "test(10000,0)\n",
    "test(10000,1)"
   ]
  },
  {
   "cell_type": "code",
   "execution_count": 89,
   "metadata": {
    "collapsed": true
   },
   "outputs": [],
   "source": [
    "#set threshold to x_t\n",
    "x_t = 0.5\n",
    "\n",
    "def checkRule(rule):\n",
    "    if not rule in [0,1,2,3]:\n",
    "        raise ValueError('choose 0 (rule A), 1 (rule B), and so on for first arg')\n",
    "#define rules of the classifier: Rule A (threshold classifier)[0], Rule B (threshold anti-classifier)[1]\n",
    "#Rule C (guressing) and Rule D (contant)\n",
    "def Y_hat(rule,x,x_t):    \n",
    "    checkRule(rule)  \n",
    "    return {0:0 if x < x_t else 1,\n",
    "            1:1 if x < x_t else 0,\n",
    "            2:round(rd.random()),\n",
    "            3:1}[rule]\n",
    "    \n",
    "#define functionn to decide Y values for and array of X values\n",
    "def decide(rule,X,x_t):\n",
    "    Y_decision = []\n",
    "    for x in X:\n",
    "        Y_decision.append(Y_hat(rule,x,x_t))\n",
    "    return np.array(Y_decision)\n",
    "\n",
    "#define function to evaluate mean of abs(Y_hat-Y_star)\n",
    "def error(rule,N,x_t):\n",
    "    X,Y_star = create_data(N)\n",
    "    Y = decide(rule,X,x_t)\n",
    "    del_Y = abs(Y_star - Y)\n",
    "    return np.mean(del_Y)\n",
    "\n",
    "#evaluate error for x_t element of environment(0.5)\n",
    "def minerror(N):\n",
    "    X_t = np.linspace(0.4,0.6,100)\n",
    "    Error = []\n",
    "    for x_t in X_t:\n",
    "        Error.append(error(0,N,x_t))\n",
    "    Error = np.array(Error)\n",
    "    \n",
    "    return X_t,Error\n",
    "\n",
    "#calculate error for x_t in {0.2,0.5,0.6}\n",
    "def errorArray(rule,N,X_t):\n",
    "    Err = []\n",
    "    for x_t in X_t:\n",
    "        Err.append(error(rule,N,x_t))\n",
    "    return Err"
   ]
  },
  {
   "cell_type": "code",
   "execution_count": 90,
   "metadata": {
    "collapsed": false
   },
   "outputs": [],
   "source": [
    "#analytical solution\n",
    "def theoError(rule,x):\n",
    "    checkRule(rule)\n",
    "    return {0:.25+(x-.5)**2,\n",
    "            1:.75-(x-.5)**2,\n",
    "            2:.5,\n",
    "            3:.5}[rule]\n",
    "#evaluate error for x_t element of environment(0.5)\n",
    "def minerror(N):\n",
    "    X_t = np.linspace(0.4,0.6,100)\n",
    "    Error = []\n",
    "    for x_t in X_t:\n",
    "        Error.append(error(0,N,x_t))\n",
    "    Error = np.array(Error)\n",
    "    return X_t,Error\n",
    "#gerneral parabola\n",
    "def parabola(x,u,a,c):\n",
    "    return a*(x-u)**2+c"
   ]
  },
  {
   "cell_type": "code",
   "execution_count": 85,

   "metadata": {
    "collapsed": true
   },
   "outputs": [],
   "source": [
    "x,err=minerror(100000)"
   ]
  },
  {
   "cell_type": "code",
   "execution_count": 91,
   "metadata": {
    "collapsed": false
   },
   "outputs": [
    {
     "data": {
      "image/png": "[encoded data removed]",
      "text/plain": [
       "<Figure size 432x288 with 1 Axes>"
      ]
     },
     "metadata": {},
     "output_type": "display_data"
    }
   ],
   "source": [
    "popt,pcov=curve_fit(parabola,x,err)\n",
    "plt.title('Comparing numerical with analytical solutions')\n",
    "plt.plot(x,err,'.',label='numerical')\n",
    "plt.plot(x,parabola(x,*popt),label='parabola fit')\n",
    "plt.plot(x,theoError(0,x),label='analytical')\n",
    "plt.xlabel('$x_t$')\n",
    "plt.ylabel('error')\n",
    "plt.legend()\n",
    "plt.show()"

   ]
  },
  {
   "cell_type": "code",
   "execution_count": null,
   "metadata": {
    "collapsed": true
   },
   "outputs": [],
   "source": []
  }
 ],
 "metadata": {
  "kernelspec": {
   "display_name": "Python 3",
   "language": "python",
   "name": "python3"
  },
  "language_info": {
   "codemirror_mode": {
    "name": "ipython",
    "version": 3
   },
   "file_extension": ".py",
   "mimetype": "text/x-python",
   "name": "python",
   "nbconvert_exporter": "python",
   "pygments_lexer": "ipython3",
   "version": "3.6.0"
  }
 },
 "nbformat": 4,
 "nbformat_minor": 2
}
