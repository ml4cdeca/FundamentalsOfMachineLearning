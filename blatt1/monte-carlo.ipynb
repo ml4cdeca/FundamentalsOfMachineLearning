{
 "cells": [
  {
   "cell_type": "markdown",
   "metadata": {},
   "source": [
    "<div align=\"right\">\n",
    "  Christopher Lüken-Winkels, Lukas Blecher\n",
    "</div>\n",
    "# Exercise 1\n",
    "\n",
    "## 1. Monte-Carlo Simulation\n",
    "$X \\in \\left[ 0,1\\right], Y \\in \\{0,1\\}$\n",
    "$$p(Y = 0) = p(Y = 1) = \\frac12$$with the density functions$$ f(X = x|Y = 0) = 2 − 2x\\\\ f(X = x|Y = 1) = 2x$$\n",
    "Now we derive the CDF for both cases. In general the definition is $$F_X(x)=\\int^x_{-\\infty} f_X(t)dt$$\n",
    "Since $X\\in \\left[0,1\\right]$ we integrate form $0$. The results are:\n",
    "$$F_0=\\int_0^x (2y-y^2) dy =2x-x^2 \\\\ F_1(x)=\\int_0^x 2y dy=x^2$$\n",
    "\n",
    "Now we inverted the CDF:\n",
    "$$F_0^{-1}(y)=1-\\sqrt{1-y}\\\\ F_1^{-1}(y)=\\sqrt y$$\n",
    "In the first case we got two different solutions but the $+$-solution is greater than $1$ for almost all x."
   ]
  },
  {
   "cell_type": "markdown",
   "metadata": {},
   "source": [
    "### 1.1 Data Creation and Visualization"
   ]
  },
  {
   "cell_type": "code",
   "execution_count": 229,
   "metadata": {
    "collapsed": true
   },
   "outputs": [],
   "source": [
    "import numpy as np\n",
    "import matplotlib.pyplot as plt\n",
    "from numpy import random as rd\n",
    "from scipy.optimize import curve_fit\n",
    "from string import ascii_uppercase as ALPH\n",
    "%matplotlib inline"
   ]
  },
  {
   "cell_type": "code",
   "execution_count": 230,
   "metadata": {
    "collapsed": true
   },
   "outputs": [],
   "source": [
    "#define cumulative distribution function for f(X=x|Y=0)=2−2x (F0) and f(X=x|Y=1)=2x (F1)\n",
    "def F0(x):\n",
    "    return 2*x - x**2\n",
    "def F1(x):\n",
    "    return x**2\n",
    "\n",
    "#define inverse functions of F0 (invF0) and F1 (invF1)\n",
    "def invF0(y):\n",
    "    return 1 - np.sqrt(1 - y)\n",
    "def invF1(y):\n",
    "    return np.sqrt(y)\n",
    "\n",
    "#define function that returns vectors containing the X-values and corresponding Y-labels for N data instances\n",
    "def create_data(N):\n",
    "    Z1,Z2 = rd.random(N),rd.random(N)\n",
    "    X,Y = invF0(Z2),[]\n",
    "    for i in range(len(Z1)):\n",
    "        Y.append(0 if Z1[i]<.5 else 1)\n",
    "    return X,np.array(Y)\n",
    "\n",
    "def create_data2(N):\n",
    "    Z = rd.random(N)\n",
    "    X0 = invF0(Z[:int(N/2)])          #first half of set with Y=0\n",
    "    X1 = invF1(Z[int(N/2):])          #second half of set with Y=1\n",
    "    Y0 = np.zeros(len(X0))\n",
    "    Y1 = np.ones(len(X1))\n",
    "    return np.concatenate((X0,X1),axis=None),np.concatenate((Y0,Y1),axis=None)\n",
    "\n",
    "#define function to show histogramm of X with Y=0 (second arg = 0) or Y=1 (second arg = 1)\n",
    "def test(N,k):\n",
    "    if not k in [0,1]:\n",
    "        raise ValueError('k can only be 0 or 1.')\n",
    "    X,Y = create_data2(N)\n",
    "    plt.title('Distribution of $F_{%i}(x)=$%s'%(k,['$2-2x$','$2x$'][k]))\n",
    "    if k == 0:\n",
    "        plt.hist(X[:int(len(X)/2)],bins = 100)\n",
    "    if k == 1:\n",
    "        plt.hist(X[int(len(X)/2):],bins = 100)\n",
    "    plt.show()"
   ]
  },
  {
   "cell_type": "code",
   "execution_count": 231,
   "metadata": {
    "scrolled": false
   },
   "outputs": [
    {
     "data": {
      "image/png": "[encoded data removed]",
      "text/plain": [
       "<matplotlib.figure.Figure at 0xb59db70>"
      ]
     },
     "metadata": {},
     "output_type": "display_data"
    },
    {
     "data": {
      "image/png": "[encoded data removed]",
      "text/plain": [
       "<matplotlib.figure.Figure at 0xb59da58>"
      ]
     },
     "metadata": {},
     "output_type": "display_data"
    }
   ],
   "source": [
    "test(10000,0)\n",
    "test(10000,1)"
   ]
  },
  {
   "cell_type": "markdown",
   "metadata": {},
   "source": [
    "### 1.2 Classifcation by Thresholding"
   ]
  },
  {
   "cell_type": "code",
   "execution_count": 232,
   "metadata": {
    "collapsed": true
   },
   "outputs": [],
   "source": [
    "#set threshold to x_t\n",
    "x_t = 0.5\n",
    "\n",
    "def checkRule(rule):\n",
    "    if not rule in [0,1,2,3]:\n",
    "        raise ValueError('choose 0 (rule A), 1 (rule B), and so on for first arg')\n",
    "#define rules of the classifier: Rule A (threshold classifier)[0], Rule B (threshold anti-classifier)[1]\n",
    "#Rule C (guressing) and Rule D (contant)\n",
    "def Y_hat(rule,x,x_t):    \n",
    "    checkRule(rule)  \n",
    "    return {0:0 if x < x_t else 1,\n",
    "            1:1 if x < x_t else 0,\n",
    "            2:round(rd.random()),\n",
    "            3:1}[rule]\n",
    "    \n",
    "#define functionn to decide Y values for and array of X values\n",
    "def decide(rule,X,x_t):\n",
    "    Y_decision = []\n",
    "    for x in X:\n",
    "        Y_decision.append(Y_hat(rule,x,x_t))\n",
    "    return np.array(Y_decision)\n",
    "\n",
    "#define function to evaluate mean of abs(Y_hat-Y_star)\n",
    "def error(rule,N,x_t):\n",
    "    X,Y_star = create_data(N)\n",
    "    Y = decide(rule,X,x_t)\n",
    "    del_Y = abs(Y_star - Y)\n",
    "    return np.mean(del_Y)\n",
    "\n",
    "#evaluate error for x_t element of environment(0.5)\n",
    "def minerror(N):\n",
    "    X_t = np.linspace(0.4,0.6,100)\n",
    "    Error = []\n",
    "    for x_t in X_t:\n",
    "        Error.append(error(0,N,x_t))\n",
    "    Error = np.array(Error)\n",
    "    \n",
    "    return X_t,Error\n",
    "\n",
    "#calculate error for x_t in {0.2,0.5,0.6}\n",
    "def errorArray(rule,N,X_t):\n",
    "    Err = []\n",
    "    for x_t in X_t:\n",
    "        Err.append(error(rule,N,x_t))\n",
    "    return Err\n",
    "\n",
    "#analytical solution\n",
    "def theoError(rule,x_t):\n",
    "    checkRule(rule)\n",
    "    return {0:.25+(x_t-.5)**2, #Rule A\n",
    "            1:.75-(x_t-.5)**2, #Rule B\n",
    "            2:.5,              #Rule C\n",
    "            3:.5}[rule]        #Rule D\n",
    "\n",
    "#evaluate error for x_t element of environment(0.5)\n",
    "def minerror(N):\n",
    "    X_t = np.linspace(0.4,0.6,100)\n",
    "    Error = []\n",
    "    for x_t in X_t:\n",
    "        Error.append(error(0,N,x_t))\n",
    "    Error = np.array(Error)\n",
    "    return X_t,Error\n",
    "\n",
    "#gerneral parabola\n",
    "def parabola(x,u,a,c):\n",
    "    return a*(x-u)**2+c"
   ]
  },
  {
   "cell_type": "code",
   "execution_count": 233,
   "metadata": {},
   "outputs": [
    {
     "data": {
      "text/plain": [
       "array([ 0.1609,  0.2535,  0.2361])"
      ]
     },
     "execution_count": 233,
     "metadata": {},
     "output_type": "execute_result"
    }
   ],
   "source": [
    "X_t = np.array([0.2,0.5,0.6])\n",
    "errorArray(0,10000,X_t) - theoError(0,X_t)"
   ]
  },
  {
   "cell_type": "markdown",
   "metadata": {},
   "source": [
    "low values in the difference of numerical and theoretical solution indicate a correct theoratical error analysis"
   ]
  },
  {
   "cell_type": "code",
   "execution_count": 234,
   "metadata": {
    "collapsed": true
   },
   "outputs": [],
   "source": [
    "x,err=minerror(100000)"
   ]
  },
  {
   "cell_type": "code",
   "execution_count": 235,
   "metadata": {},
   "outputs": [
    {
     "data": {
      "image/png": "[encoded data removed]",
      "text/plain": [
       "<matplotlib.figure.Figure at 0xac5e6d8>"
      ]
     },
     "metadata": {},
     "output_type": "display_data"
    },
    {
     "name": "stdout",
     "output_type": "stream",
     "text": [
      "0.500739\n"
     ]
    }
   ],
   "source": [
    "popt,pcov=curve_fit(parabola,x,err)\n",
    "plt.title('Comparing numerical with analytical solutions')\n",
    "plt.plot(x,err,'.',label='numerical')\n",
    "plt.plot(x,parabola(x,*popt),label='parabola fit')\n",
    "plt.plot(x,theoError(0,x),label='analytical')\n",
    "plt.xlabel('$x_t$')\n",
    "plt.ylabel('error')\n",
    "plt.legend()\n",
    "plt.show()\n",
    "print(error(0,1000000,0.5)) #not the value of the plot"
   ]
  },
  {
   "cell_type": "markdown",
   "metadata": {
    "collapsed": true
   },
   "source": [
    "as one can see the minimum error rate is located at about x_t = 0.5 with an error propability of about 25% as expected"
   ]
  },
  {
   "cell_type": "code",
   "execution_count": 236,
   "metadata": {
    "collapsed": true
   },
   "outputs": [],
   "source": [
    "#define function to evaluate mean and std for a set (size 10) of errors with same rule, N and x_t\n",
    "def errorMeanStd(rule,N,x_t):\n",
    "    Err = []\n",
    "    for i in range (10):\n",
    "        Err.append(error(rule,N,x_t))\n",
    "    return np.mean(Err),np.std(Err)"
   ]
  },
  {
   "cell_type": "code",
   "execution_count": 237,
   "metadata": {
    "collapsed": true
   },
   "outputs": [],
   "source": [
    "#calculate mean and std for every combination of rule,N and x_t\n",
    "#solution represented in form: [[x_t,rule,N,mean,std,theoretical value],[x_t,...],[...],...]\n",
    "def showMeanStd(rules,Nlist,X_t):\n",
    "    solution = []\n",
    "    for x_t in X_t:\n",
    "        for rule in rules:\n",
    "            for N in Nlist:\n",
    "                solution.append([x_t,rule,N,*errorMeanStd(rule,N,x_t),theoError(rule,x_t)])\n",
    "    return solution"
   ]
  },
  {
   "cell_type": "code",
   "execution_count": 238,
   "metadata": {},
   "outputs": [
    {
     "name": "stdout",
     "output_type": "stream",
     "text": [
      "x_t,rule,N,mean,std,theo\n",
      "0.2, 0, 10, 0.490, 0.212, 0.340\n",
      "0.2, 0, 100, 0.488, 0.058, 0.340\n",
      "0.2, 0, 1000, 0.502, 0.012, 0.340\n",
      "0.2, 0, 10000, 0.497, 0.004, 0.340\n",
      "0.2, 1, 10, 0.560, 0.185, 0.660\n",
      "0.2, 1, 100, 0.510, 0.060, 0.660\n",
      "0.2, 1, 1000, 0.499, 0.017, 0.660\n",
      "0.2, 1, 10000, 0.501, 0.006, 0.660\n",
      "0.2, 2, 10, 0.550, 0.102, 0.500\n",
      "0.2, 2, 100, 0.505, 0.038, 0.500\n",
      "0.2, 2, 1000, 0.494, 0.017, 0.500\n",
      "0.2, 2, 10000, 0.499, 0.004, 0.500\n",
      "0.2, 3, 10, 0.540, 0.150, 0.500\n",
      "0.2, 3, 100, 0.466, 0.044, 0.500\n",
      "0.2, 3, 1000, 0.499, 0.017, 0.500\n",
      "0.2, 3, 10000, 0.498, 0.007, 0.500\n",
      "0.5, 0, 10, 0.490, 0.192, 0.250\n",
      "0.5, 0, 100, 0.504, 0.051, 0.250\n",
      "0.5, 0, 1000, 0.498, 0.013, 0.250\n",
      "0.5, 0, 10000, 0.500, 0.004, 0.250\n",
      "0.5, 1, 10, 0.560, 0.143, 0.750\n",
      "0.5, 1, 100, 0.503, 0.044, 0.750\n",
      "0.5, 1, 1000, 0.495, 0.015, 0.750\n",
      "0.5, 1, 10000, 0.503, 0.004, 0.750\n",
      "0.5, 2, 10, 0.490, 0.114, 0.500\n",
      "0.5, 2, 100, 0.499, 0.054, 0.500\n",
      "0.5, 2, 1000, 0.499, 0.011, 0.500\n",
      "0.5, 2, 10000, 0.498, 0.003, 0.500\n",
      "0.5, 3, 10, 0.460, 0.128, 0.500\n",
      "0.5, 3, 100, 0.507, 0.022, 0.500\n",
      "0.5, 3, 1000, 0.501, 0.008, 0.500\n",
      "0.5, 3, 10000, 0.500, 0.006, 0.500\n",
      "0.6, 0, 10, 0.560, 0.162, 0.260\n",
      "0.6, 0, 100, 0.527, 0.064, 0.260\n",
      "0.6, 0, 1000, 0.500, 0.015, 0.260\n",
      "0.6, 0, 10000, 0.500, 0.003, 0.260\n",
      "0.6, 1, 10, 0.530, 0.110, 0.740\n",
      "0.6, 1, 100, 0.494, 0.045, 0.740\n",
      "0.6, 1, 1000, 0.500, 0.012, 0.740\n",
      "0.6, 1, 10000, 0.498, 0.005, 0.740\n",
      "0.6, 2, 10, 0.620, 0.147, 0.500\n",
      "0.6, 2, 100, 0.515, 0.043, 0.500\n",
      "0.6, 2, 1000, 0.494, 0.013, 0.500\n",
      "0.6, 2, 10000, 0.498, 0.005, 0.500\n",
      "0.6, 3, 10, 0.440, 0.169, 0.500\n",
      "0.6, 3, 100, 0.484, 0.045, 0.500\n",
      "0.6, 3, 1000, 0.498, 0.012, 0.500\n",
      "0.6, 3, 10000, 0.498, 0.008, 0.500\n"
     ]
    }
   ],
   "source": [
    "print('x_t,rule,N,mean,std,theo')\n",
    "for a in showMeanStd([0,1,2,3],[10,100,1000,10000],[0.2,0.5,0.6]):\n",
    "    print('%.1f, %i, %i, %.3f, %.3f, %.3f'%(*a,))"
   ]
  },
  {
   "cell_type": "code",
   "execution_count": 239,
   "metadata": {
    "collapsed": true
   },
   "outputs": [],
   "source": [
    "def errorStd(rules,Nlist,X_t):\n",
    "    data = np.transpose(showMeanStd(rules,Nlist,X_t))\n",
    "    Stds = data[4]\n",
    "    solution = []\n",
    "    setlenght = len(X_t)*len(rules)\n",
    "    for i in range(0,len(Nlist)*setlenght,len(Nlist)):\n",
    "        solution.append(Stds[i:i+len(Nlist)])\n",
    "    return solution"
   ]
  },
  {
   "cell_type": "code",
   "execution_count": 240,
   "metadata": {
    "collapsed": true
   },
   "outputs": [],
   "source": [
    "#loglog line function\n",
    "def logline(x,a,b):\n",
    "    return a*x**b"
   ]
  },
  {
   "cell_type": "code",
   "execution_count": 241,
   "metadata": {
    "scrolled": true
   },
   "outputs": [
    {
     "name": "stdout",
     "output_type": "stream",
     "text": [
      "probportional to x^b with b=-0.518 +/- 0.117\n"
     ]
    },
    {
     "data": {
      "image/png": "[encoded data removed]",
      "text/plain": [
       "<matplotlib.figure.Figure at 0xab0df28>"
      ]
     },
     "metadata": {},
     "output_type": "display_data"
    }
   ],
   "source": [
    "#plot the stds against M\n",
    "M,rul,xts = [10,100,1000,10000],[0,1,2],[0.2,0.5,0.6] #define variables\n",
    "stds = errorStd(rul,M,xts)\n",
    "plt.title('error standard deviation decrease with increasing M')\n",
    "plt.xlabel('$M$')\n",
    "plt.ylabel('error std')\n",
    "#plt.yscale('log')\n",
    "b=[]\n",
    "for s in range(len(stds)):\n",
    "    popt,pcov=curve_fit(logline,M,stds[s])\n",
    "    plt.loglog(M,stds[s],label='$x_t=$%.1f, %c'%(xts[int(s/len(rul))],ALPH[rul[s%len(rul)]]))\n",
    "    b.append(popt[1])\n",
    "plt.legend(loc=(1.02,0))\n",
    "print('probportional to x^b with b=%.3f +/- %.3f'%(np.mean(b),np.std(b)))\n",
    "plt.show()"
   ]
  },
  {
   "cell_type": "markdown",
   "metadata": {},
   "source": [
    "How does the error standard deviation decrease with increasing M?\n",
    "we noticed that the error std decreases according to $a \\cdot x^b$ so we fitted this function to our data. The result let's us belive that the std is proportional to $\\dfrac1{\\sqrt x}$."
   ]
  },
  {
   "cell_type": "markdown",
   "metadata": {
    "collapsed": true
   },
   "source": [
    "### 1.3 Nearest Neighbor Classification"
   ]
  },
  {
   "cell_type": "code",
   "execution_count": 329,
   "metadata": {
    "collapsed": true
   },
   "outputs": [],
   "source": [
    "#create training set with two elements of a different class\n",
    "def create_TS():\n",
    "    z1,z2 = rd.random(2)\n",
    "    x1,y1,x2,y2 = invF0(z1),0,invF1(z2),1\n",
    "    return np.array([[x1,y1],[x2,y2]])"
   ]
  },
  {
   "cell_type": "code",
   "execution_count": 330,
   "metadata": {
    "collapsed": true
   },
   "outputs": [],
   "source": [
    "#creates data set and uses NNC to evaluate a Y_hat value \n",
    "def decisionNN(N,TS):\n",
    "    X,Y = create_data(N)\n",
    "    Y_hat = []\n",
    "    for x in X:\n",
    "        if abs(x-TS[0][0]) < abs(x-TS[1][0]):\n",
    "            Y_hat.append(int(TS[0][1]))\n",
    "        else:\n",
    "            Y_hat.append(int(TS[1][1]))\n",
    "    return X,Y,np.array(Y_hat)\n",
    "\n",
    "#calulate average error of M training sets tested on test sets of size N\n",
    "def errorNN(N,M):\n",
    "    Err = []\n",
    "    for i in range (M):\n",
    "        X,Y,Y_hat = decisionNN(N,create_TS())\n",
    "        del_Y = abs(Y - Y_hat)\n",
    "        Err.append(np.mean(del_Y))\n",
    "    return np.mean(Err)"
   ]
  },
  {
   "cell_type": "code",
   "execution_count": 371,
   "metadata": {
    "collapsed": true
   },
   "outputs": [],
   "source": [
    "#create training set of size N with at least one element of each class\n",
    "def create_TS3(N):\n",
    "    Z0 = rd.random(N)\n",
    "    Z1 = rd.random(N)\n",
    "    TS = []\n",
    "    i = -1\n",
    "    for z in Z0:\n",
    "        i += 1\n",
    "        if z < .5:\n",
    "            x = invF0(Z1[i])\n",
    "            y = 0\n",
    "        else:\n",
    "            x = invF1(Z1[i])\n",
    "            y = 1\n",
    "        TS.append([x,y])\n",
    "    return np.array(TS)\n",
    "\n",
    "def decisionNN3(N,TS):\n",
    "    X,Y = create_data(N)\n",
    "    Y_hat = []\n",
    "    TSt = TS.T\n",
    "    X_TS = TSt[0]\n",
    "    for x in X:\n",
    "        i = np.argmin(abs(X_TS-x))\n",
    "        Y_hat.append(TS[i][1])\n",
    "    return X,Y,np.array(Y_hat)\n",
    "\n",
    "def errorNN3(N,M,K):\n",
    "    Err = []\n",
    "    for i in range (M):\n",
    "        TS = create_TS()\n",
    "        print(TS)\n",
    "        X,Y,Y_hat = decisionNN3(N,TS)\n",
    "        del_Y = abs(Y - Y_hat)\n",
    "        Err.append(np.mean(del_Y))\n",
    "    return np.mean(Err)"
   ]
  },
  {
   "cell_type": "code",
   "execution_count": 368,
   "metadata": {},
   "outputs": [
    {
     "data": {
      "text/plain": [
       "array([[ 0.19594168,  0.        ],\n",
       "       [ 0.94271921,  1.        ]])"
      ]
     },
     "execution_count": 368,
     "metadata": {},
     "output_type": "execute_result"
    }
   ],
   "source": [
    "create_TS()"
   ]
  },
  {
   "cell_type": "code",
   "execution_count": 372,
   "metadata": {},
   "outputs": [
    {
     "name": "stdout",
     "output_type": "stream",
     "text": [
      "[[ 0.2381074   0.        ]\n",
      " [ 0.80551254  1.        ]]\n",
      "[[ 0.35287969  0.        ]\n",
      " [ 0.95098545  1.        ]]\n",
      "[[ 0.66514214  0.        ]\n",
      " [ 0.45111656  1.        ]]\n",
      "[[ 0.04283179  0.        ]\n",
      " [ 0.66673572  1.        ]]\n",
      "[[ 0.3914396  0.       ]\n",
      " [ 0.9553183  1.       ]]\n",
      "[[ 0.05369292  0.        ]\n",
      " [ 0.84498887  1.        ]]\n",
      "[[ 0.10896169  0.        ]\n",
      " [ 0.79390843  1.        ]]\n",
      "[[ 0.2740838   0.        ]\n",
      " [ 0.53780926  1.        ]]\n",
      "[[ 0.14813927  0.        ]\n",
      " [ 0.72288148  1.        ]]\n",
      "[[ 0.32469609  0.        ]\n",
      " [ 0.67266324  1.        ]]\n"
     ]
    },
    {
     "data": {
      "text/plain": [
       "0.51899999999999991"
      ]
     },
     "execution_count": 372,
     "metadata": {},
     "output_type": "execute_result"
    }
   ],
   "source": [
    "errorNN3(100,10,2)"
   ]
  },
  {
   "cell_type": "code",
   "execution_count": null,
   "metadata": {
    "collapsed": true
   },
   "outputs": [],
   "source": []
  }
 ],
 "metadata": {
  "kernelspec": {
   "display_name": "Python 3",
   "language": "python",
   "name": "python3"
  },
  "language_info": {
   "codemirror_mode": {
    "name": "ipython",
    "version": 3
   },
   "file_extension": ".py",
   "mimetype": "text/x-python",
   "name": "python",
   "nbconvert_exporter": "python",
   "pygments_lexer": "ipython3",
   "version": "3.6.3"
  }
 },
 "nbformat": 4,
 "nbformat_minor": 2
}
