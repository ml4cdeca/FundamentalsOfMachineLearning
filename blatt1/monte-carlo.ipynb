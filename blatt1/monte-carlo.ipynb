<<<<<<< HEAD






<!DOCTYPE html>
<html lang="en">
  <head>
    <meta charset="utf-8">
  <link rel="dns-prefetch" href="https://assets-cdn.github.com">
  <link rel="dns-prefetch" href="https://avatars0.githubusercontent.com">
  <link rel="dns-prefetch" href="https://avatars1.githubusercontent.com">
  <link rel="dns-prefetch" href="https://avatars2.githubusercontent.com">
  <link rel="dns-prefetch" href="https://avatars3.githubusercontent.com">
  <link rel="dns-prefetch" href="https://github-cloud.s3.amazonaws.com">
  <link rel="dns-prefetch" href="https://user-images.githubusercontent.com/">



  <link crossorigin="anonymous" media="all" integrity="sha512-FCg44VGg5ax/5MpZ8otwiPE+/tG1/Sq67mKkl6agbqgoScZtJyXhQSFQMIJfOHMZZ+yXDINb8nEiws60SiLohg==" rel="stylesheet" href="https://assets-cdn.github.com/assets/frameworks-5aa6d9885579bb2359f66266aee26f3b.css" />
  <link crossorigin="anonymous" media="all" integrity="sha512-57B1/u8hPZmZ1VZDgsTj3398brAST9KDu9LFbhOjwXTfrz15sjyxcScwUdkgHK9MEZlOM4e4ScJeEXhYJ66IXg==" rel="stylesheet" href="https://assets-cdn.github.com/assets/github-a293861d7523c471be7783b3b5ffb601.css" />
  
  
  
  

  <meta name="viewport" content="width=device-width">
  
  <title>FundamentalsOfMachineLearningHD/monte-carlo.ipynb at edc38ef8bad8aef150903d60b2ce374c62d41004 · chrislbie/FundamentalsOfMachineLearningHD</title>
    <meta name="description" content="Exercise to the lecture Fundamentals of Machine Learning - chrislbie/FundamentalsOfMachineLearningHD">
    <link rel="search" type="application/opensearchdescription+xml" href="/opensearch.xml" title="GitHub">
  <link rel="fluid-icon" href="https://github.com/fluidicon.png" title="GitHub">
  <meta property="fb:app_id" content="1401488693436528">

    
    <meta property="og:image" content="https://avatars3.githubusercontent.com/u/44505007?s=400&amp;v=4" /><meta property="og:site_name" content="GitHub" /><meta property="og:type" content="object" /><meta property="og:title" content="chrislbie/FundamentalsOfMachineLearningHD" /><meta property="og:url" content="https://github.com/chrislbie/FundamentalsOfMachineLearningHD" /><meta property="og:description" content="Exercise to the lecture Fundamentals of Machine Learning - chrislbie/FundamentalsOfMachineLearningHD" />

  <link rel="assets" href="https://assets-cdn.github.com/">
  <link rel="web-socket" href="wss://live.github.com/_sockets/VjI6MzMzMzY3NTM5OjhmMmUzMGQ3MTQ4ODAwYWUyYTU2OTVlMjlmODI1M2YyZTA3ZTZiNTFmNjA4NTRjNTJiNDlhNzY2OGZkZmMxYTQ=--d47395e6227e87e880f5ecb0b61adcbf413f3218">
  <meta name="pjax-timeout" content="1000">
  <link rel="sudo-modal" href="/sessions/sudo_modal">
  <meta name="request-id" content="6A57:12A5:3246DE:660784:5BD4548B" data-pjax-transient>


  

  <meta name="selected-link" value="repo_source" data-pjax-transient>

      <meta name="google-site-verification" content="KT5gs8h0wvaagLKAVWq8bbeNwnZZK1r1XQysX3xurLU">
    <meta name="google-site-verification" content="ZzhVyEFwb7w3e0-uOTltm8Jsck2F5StVihD0exw2fsA">
    <meta name="google-site-verification" content="GXs5KoUUkNCoaAZn7wPN-t01Pywp9M3sEjnt_3_ZWPc">

  <meta name="octolytics-host" content="collector.githubapp.com" /><meta name="octolytics-app-id" content="github" /><meta name="octolytics-event-url" content="https://collector.githubapp.com/github-external/browser_event" /><meta name="octolytics-dimension-request_id" content="6A57:12A5:3246DE:660784:5BD4548B" /><meta name="octolytics-dimension-region_edge" content="iad" /><meta name="octolytics-dimension-region_render" content="iad" /><meta name="octolytics-actor-id" content="44505007" /><meta name="octolytics-actor-login" content="chrislbie" /><meta name="octolytics-actor-hash" content="a39dd2fb3f7f5314ddd00baa098e596323f2e311218d11122f03d5b18bd860c6" />
<meta name="analytics-location" content="/&lt;user-name&gt;/&lt;repo-name&gt;/blob/show" data-pjax-transient="true" />




  <meta class="js-ga-set" name="userId" content="f3c10f1ac85eea039952376dd270eeca" %>

<meta class="js-ga-set" name="dimension1" content="Logged In">



  

      <meta name="hostname" content="github.com">
    <meta name="user-login" content="chrislbie">

      <meta name="expected-hostname" content="github.com">
    <meta name="js-proxy-site-detection-payload" content="ZDI4N2VjMTc4OWY4ZDBlYzliMzM5ZDdlNTY1NjNiOGNhOGNjMjZhN2UyOTFiY2VhMTMyZWM2ODYyZTM0Nzg2Nnx7InJlbW90ZV9hZGRyZXNzIjoiOTUuMjIyLjMxLjY1IiwicmVxdWVzdF9pZCI6IjZBNTc6MTJBNTozMjQ2REU6NjYwNzg0OjVCRDQ1NDhCIiwidGltZXN0YW1wIjoxNTQwNjQxOTM0LCJob3N0IjoiZ2l0aHViLmNvbSJ9">

    <meta name="enabled-features" content="DASHBOARD_V2_LAYOUT_OPT_IN,EXPLORE_DISCOVER_REPOSITORIES,UNIVERSE_BANNER,MARKETPLACE_PLAN_RESTRICTION_EDITOR,NOTIFY_ON_BLOCK,SUGGESTED_CHANGES_UX_TEST">

  <meta name="html-safe-nonce" content="e4a76288c9a39cef5de0dc1a7bfaba6cd1c14cdc">

  <meta http-equiv="x-pjax-version" content="3ccd987877829de97461fb1b8bdbe9bf">
  

      <link href="https://github.com/chrislbie/FundamentalsOfMachineLearningHD/commits/edc38ef8bad8aef150903d60b2ce374c62d41004.atom" rel="alternate" title="Recent Commits to FundamentalsOfMachineLearningHD:edc38ef8bad8aef150903d60b2ce374c62d41004" type="application/atom+xml">

  <meta name="go-import" content="github.com/chrislbie/FundamentalsOfMachineLearningHD git https://github.com/chrislbie/FundamentalsOfMachineLearningHD.git">

  <meta name="octolytics-dimension-user_id" content="44505007" /><meta name="octolytics-dimension-user_login" content="chrislbie" /><meta name="octolytics-dimension-repository_id" content="154959773" /><meta name="octolytics-dimension-repository_nwo" content="chrislbie/FundamentalsOfMachineLearningHD" /><meta name="octolytics-dimension-repository_public" content="true" /><meta name="octolytics-dimension-repository_is_fork" content="true" /><meta name="octolytics-dimension-repository_parent_id" content="154679856" /><meta name="octolytics-dimension-repository_parent_nwo" content="ml4cdeca/FundamentalsOfMachineLearningHD" /><meta name="octolytics-dimension-repository_network_root_id" content="154679856" /><meta name="octolytics-dimension-repository_network_root_nwo" content="ml4cdeca/FundamentalsOfMachineLearningHD" /><meta name="octolytics-dimension-repository_explore_github_marketplace_ci_cta_shown" content="true" />


    <link rel="canonical" href="https://github.com/chrislbie/FundamentalsOfMachineLearningHD/blob/edc38ef8bad8aef150903d60b2ce374c62d41004/blatt1/monte-carlo.ipynb" data-pjax-transient>


  <meta name="browser-stats-url" content="https://api.github.com/_private/browser/stats">

  <meta name="browser-errors-url" content="https://api.github.com/_private/browser/errors">

  <link rel="mask-icon" href="https://assets-cdn.github.com/pinned-octocat.svg" color="#000000">
  <link rel="icon" type="image/x-icon" class="js-site-favicon" href="https://assets-cdn.github.com/favicon.ico">

<meta name="theme-color" content="#1e2327">


  <meta name="u2f-support" content="true">

  <link rel="manifest" href="/manifest.json" crossOrigin="use-credentials">

  </head>

  <body class="logged-in env-production page-blob">
    

  <div class="position-relative js-header-wrapper ">
    <a href="#start-of-content" tabindex="1" class="p-3 bg-blue text-white show-on-focus js-skip-to-content">Skip to content</a>
    <div id="js-pjax-loader-bar" class="pjax-loader-bar"><div class="progress"></div></div>

    
    
    



        
<header class="Header  f5" role="banner">
  <div class="d-flex flex-justify-between px-3 ">
    <div class="d-flex flex-justify-between ">
      <div class="">
        <a class="header-logo-invertocat" href="https://github.com/" data-hotkey="g d" aria-label="Homepage" data-ga-click="Header, go to dashboard, icon:logo">
  <svg height="32" class="octicon octicon-mark-github" viewBox="0 0 16 16" version="1.1" width="32" aria-hidden="true"><path fill-rule="evenodd" d="M8 0C3.58 0 0 3.58 0 8c0 3.54 2.29 6.53 5.47 7.59.4.07.55-.17.55-.38 0-.19-.01-.82-.01-1.49-2.01.37-2.53-.49-2.69-.94-.09-.23-.48-.94-.82-1.13-.28-.15-.68-.52-.01-.53.63-.01 1.08.58 1.23.82.72 1.21 1.87.87 2.33.66.07-.52.28-.87.51-1.07-1.78-.2-3.64-.89-3.64-3.95 0-.87.31-1.59.82-2.15-.08-.2-.36-1.02.08-2.12 0 0 .67-.21 2.2.82.64-.18 1.32-.27 2-.27.68 0 1.36.09 2 .27 1.53-1.04 2.2-.82 2.2-.82.44 1.1.16 1.92.08 2.12.51.56.82 1.27.82 2.15 0 3.07-1.87 3.75-3.65 3.95.29.25.54.73.54 1.48 0 1.07-.01 1.93-.01 2.2 0 .21.15.46.55.38A8.013 8.013 0 0 0 16 8c0-4.42-3.58-8-8-8z"/></svg>
</a>

      </div>

    </div>

    <div class="HeaderMenu d-flex flex-justify-between flex-auto">
      <div class="d-flex">
            <div class="">
              <div class="header-search scoped-search site-scoped-search js-site-search position-relative js-jump-to"
  role="combobox"
  aria-owns="jump-to-results"
  aria-label="Search or jump to"
  aria-haspopup="listbox"
  aria-expanded="false"
>
  <div class="position-relative">
    <!-- '"` --><!-- </textarea></xmp> --></option></form><form class="js-site-search-form" data-scope-type="Repository" data-scope-id="154959773" data-scoped-search-url="/chrislbie/FundamentalsOfMachineLearningHD/search" data-unscoped-search-url="/search" action="/chrislbie/FundamentalsOfMachineLearningHD/search" accept-charset="UTF-8" method="get"><input name="utf8" type="hidden" value="&#x2713;" />
      <label class="form-control header-search-wrapper header-search-wrapper-jump-to position-relative d-flex flex-justify-between flex-items-center js-chromeless-input-container">
        <input type="text"
          class="form-control header-search-input jump-to-field js-jump-to-field js-site-search-focus js-site-search-field is-clearable"
          data-hotkey="s,/"
          name="q"
          value=""
          placeholder="Search or jump to…"
          data-unscoped-placeholder="Search or jump to…"
          data-scoped-placeholder="Search or jump to…"
          autocapitalize="off"
          aria-autocomplete="list"
          aria-controls="jump-to-results"
          data-jump-to-suggestions-path="/_graphql/GetSuggestedNavigationDestinations#csrf-token=S+Fy0gYus+y8wL+g4nNwRaOeSnd7OfSPvh5tHPDobfv1q7hmKQ85vX+L73uM0YtArqjX+HyN0gDGD0MRFFQHwQ=="
          spellcheck="false"
          autocomplete="off"
          >
          <input type="hidden" class="js-site-search-type-field" name="type" >
            <img src="https://assets-cdn.github.com/images/search-shortcut-hint.svg" alt="" class="mr-2 header-search-key-slash">

            <div class="Box position-absolute overflow-hidden d-none jump-to-suggestions js-jump-to-suggestions-container">
              <ul class="d-none js-jump-to-suggestions-template-container">
                <li class="d-flex flex-justify-start flex-items-center p-0 f5 navigation-item js-navigation-item" role="option">
                  <a tabindex="-1" class="no-underline d-flex flex-auto flex-items-center p-2 jump-to-suggestions-path js-jump-to-suggestion-path js-navigation-open" href="">
                    <div class="jump-to-octicon js-jump-to-octicon flex-shrink-0 mr-2 text-center d-none">
                      <svg height="16" width="16" class="octicon octicon-repo flex-shrink-0 js-jump-to-octicon-repo d-none" title="Repository" aria-label="Repository" viewBox="0 0 12 16" version="1.1" role="img"><path fill-rule="evenodd" d="M4 9H3V8h1v1zm0-3H3v1h1V6zm0-2H3v1h1V4zm0-2H3v1h1V2zm8-1v12c0 .55-.45 1-1 1H6v2l-1.5-1.5L3 16v-2H1c-.55 0-1-.45-1-1V1c0-.55.45-1 1-1h10c.55 0 1 .45 1 1zm-1 10H1v2h2v-1h3v1h5v-2zm0-10H2v9h9V1z"/></svg>
                      <svg height="16" width="16" class="octicon octicon-project flex-shrink-0 js-jump-to-octicon-project d-none" title="Project" aria-label="Project" viewBox="0 0 15 16" version="1.1" role="img"><path fill-rule="evenodd" d="M10 12h3V2h-3v10zm-4-2h3V2H6v8zm-4 4h3V2H2v12zm-1 1h13V1H1v14zM14 0H1a1 1 0 0 0-1 1v14a1 1 0 0 0 1 1h13a1 1 0 0 0 1-1V1a1 1 0 0 0-1-1z"/></svg>
                      <svg height="16" width="16" class="octicon octicon-search flex-shrink-0 js-jump-to-octicon-search d-none" title="Search" aria-label="Search" viewBox="0 0 16 16" version="1.1" role="img"><path fill-rule="evenodd" d="M15.7 13.3l-3.81-3.83A5.93 5.93 0 0 0 13 6c0-3.31-2.69-6-6-6S1 2.69 1 6s2.69 6 6 6c1.3 0 2.48-.41 3.47-1.11l3.83 3.81c.19.2.45.3.7.3.25 0 .52-.09.7-.3a.996.996 0 0 0 0-1.41v.01zM7 10.7c-2.59 0-4.7-2.11-4.7-4.7 0-2.59 2.11-4.7 4.7-4.7 2.59 0 4.7 2.11 4.7 4.7 0 2.59-2.11 4.7-4.7 4.7z"/></svg>
                    </div>

                    <img class="avatar mr-2 flex-shrink-0 js-jump-to-suggestion-avatar d-none" alt="" aria-label="Team" src="" width="28" height="28">

                    <div class="jump-to-suggestion-name js-jump-to-suggestion-name flex-auto overflow-hidden text-left no-wrap css-truncate css-truncate-target">
                    </div>

                    <div class="border rounded-1 flex-shrink-0 bg-gray px-1 text-gray-light ml-1 f6 d-none js-jump-to-badge-search">
                      <span class="js-jump-to-badge-search-text-default d-none" aria-label="in this repository">
                        In this repository
                      </span>
                      <span class="js-jump-to-badge-search-text-global d-none" aria-label="in all of GitHub">
                        All GitHub
                      </span>
                      <span aria-hidden="true" class="d-inline-block ml-1 v-align-middle">↵</span>
                    </div>

                    <div aria-hidden="true" class="border rounded-1 flex-shrink-0 bg-gray px-1 text-gray-light ml-1 f6 d-none d-on-nav-focus js-jump-to-badge-jump">
                      Jump to
                      <span class="d-inline-block ml-1 v-align-middle">↵</span>
                    </div>
                  </a>
                </li>
              </ul>
              <ul class="d-none js-jump-to-no-results-template-container">
                <li class="d-flex flex-justify-center flex-items-center p-3 f5 d-none">
                  <span class="text-gray">No suggested jump to results</span>
                </li>
              </ul>

              <ul id="jump-to-results" role="listbox" class="js-navigation-container jump-to-suggestions-results-container js-jump-to-suggestions-results-container" >
                <li class="d-flex flex-justify-center flex-items-center p-0 f5">
                  <img src="https://assets-cdn.github.com/images/spinners/octocat-spinner-128.gif" alt="Octocat Spinner Icon" class="m-2" width="28">
                </li>
              </ul>
            </div>
      </label>
</form>  </div>
</div>

            </div>

          <ul class="d-flex pl-2 flex-items-center text-bold list-style-none" role="navigation">
            <li>
              <a class="js-selected-navigation-item HeaderNavlink px-2" data-hotkey="g p" data-ga-click="Header, click, Nav menu - item:pulls context:user" aria-label="Pull requests you created" data-selected-links="/pulls /pulls/assigned /pulls/mentioned /pulls" href="/pulls">
                Pull requests
</a>            </li>
            <li>
              <a class="js-selected-navigation-item HeaderNavlink px-2" data-hotkey="g i" data-ga-click="Header, click, Nav menu - item:issues context:user" aria-label="Issues you created" data-selected-links="/issues /issues/assigned /issues/mentioned /issues" href="/issues">
                Issues
</a>            </li>
              <li class="position-relative">
                <a class="js-selected-navigation-item HeaderNavlink px-2" data-ga-click="Header, click, Nav menu - item:marketplace context:user" data-octo-click="marketplace_click" data-octo-dimensions="location:nav_bar" data-selected-links=" /marketplace" href="/marketplace">
                   Marketplace
</a>                  
              </li>
            <li>
              <a class="js-selected-navigation-item HeaderNavlink px-2" data-ga-click="Header, click, Nav menu - item:explore" data-selected-links="/explore /trending /trending/developers /integrations /integrations/feature/code /integrations/feature/collaborate /integrations/feature/ship showcases showcases_search showcases_landing /explore" href="/explore">
                Explore
</a>            </li>
          </ul>
      </div>

      <div class="d-flex">
        
<ul class="user-nav d-flex flex-items-center list-style-none" id="user-links">
  <li class="dropdown">
    <span class="d-inline-block  px-2">
      
    <a aria-label="You have no unread notifications" class="notification-indicator tooltipped tooltipped-s  js-socket-channel js-notification-indicator" data-hotkey="g n" data-ga-click="Header, go to notifications, icon:read" data-channel="notification-changed:44505007" href="/notifications">
        <span class="mail-status "></span>
        <svg class="octicon octicon-bell" viewBox="0 0 14 16" version="1.1" width="14" height="16" aria-hidden="true"><path fill-rule="evenodd" d="M13.99 11.991v1H0v-1l.73-.58c.769-.769.809-2.547 1.189-4.416.77-3.767 4.077-4.996 4.077-4.996 0-.55.45-1 .999-1 .55 0 1 .45 1 1 0 0 3.387 1.229 4.156 4.996.38 1.879.42 3.657 1.19 4.417l.659.58h-.01zM6.995 15.99c1.11 0 1.999-.89 1.999-1.999H4.996c0 1.11.89 1.999 1.999 1.999z"/></svg>
</a>
    </span>
  </li>

  <li class="dropdown">
    <details class="details-overlay details-reset d-flex px-2 flex-items-center">
      <summary class="HeaderNavlink"
         aria-label="Create new…"
         data-ga-click="Header, create new, icon:add">
        <svg class="octicon octicon-plus float-left mr-1 mt-1" viewBox="0 0 12 16" version="1.1" width="12" height="16" aria-hidden="true"><path fill-rule="evenodd" d="M12 9H7v5H5V9H0V7h5V2h2v5h5v2z"/></svg>
        <span class="dropdown-caret mt-1"></span>
      </summary>
      <details-menu class="dropdown-menu dropdown-menu-sw">
        
<a role="menuitem" class="dropdown-item" href="/new" data-ga-click="Header, create new repository">
  New repository
</a>

  <a role="menuitem" class="dropdown-item" href="/new/import" data-ga-click="Header, import a repository">
    Import repository
  </a>

<a role="menuitem" class="dropdown-item" href="https://gist.github.com/" data-ga-click="Header, create new gist">
  New gist
</a>

  <a role="menuitem" class="dropdown-item" href="/organizations/new" data-ga-click="Header, create new organization">
    New organization
  </a>




      </details-menu>
    </details>
  </li>

  <li class="dropdown">

    <details class="details-overlay details-reset d-flex pl-2 flex-items-center">
      <summary class="HeaderNavlink name mt-1"
        aria-label="View profile and more"
        data-ga-click="Header, show menu, icon:avatar">
        <img alt="@chrislbie" class="avatar float-left mr-1" src="https://avatars0.githubusercontent.com/u/44505007?s=40&amp;v=4" height="20" width="20">
        <span class="dropdown-caret"></span>
      </summary>
      <details-menu class="dropdown-menu dropdown-menu-sw">
        <ul>
          <li class="header-nav-current-user css-truncate"><a role="menuitem" class="no-underline user-profile-link px-3 pt-2 pb-2 mb-n2 mt-n1 d-block" href="/chrislbie" data-ga-click="Header, go to profile, text:Signed in as">Signed in as <strong class="css-truncate-target">chrislbie</strong></a></li>
          <li class="dropdown-divider"></li>
          <li><a role="menuitem" class="dropdown-item" href="/chrislbie" data-ga-click="Header, go to profile, text:your profile">Your profile</a></li>
          <li><a role="menuitem" class="dropdown-item" href="/chrislbie?tab=repositories" data-ga-click="Header, go to repositories, text:your repositories">Your repositories</a></li>


          <li><a role="menuitem" class="dropdown-item" href="/chrislbie?tab=stars" data-ga-click="Header, go to starred repos, text:your stars">Your stars</a></li>
            <li><a role="menuitem" class="dropdown-item" href="https://gist.github.com/" data-ga-click="Header, your gists, text:your gists">Your gists</a></li>
          <li class="dropdown-divider"></li>
          <li><a role="menuitem" class="dropdown-item" href="https://help.github.com" data-ga-click="Header, go to help, text:help">Help</a></li>
          <li><a role="menuitem" class="dropdown-item" href="/settings/profile" data-ga-click="Header, go to settings, icon:settings">Settings</a></li>
          <li>
            <!-- '"` --><!-- </textarea></xmp> --></option></form><form class="logout-form" action="/logout" accept-charset="UTF-8" method="post"><input name="utf8" type="hidden" value="&#x2713;" /><input type="hidden" name="authenticity_token" value="irMGjzJi9GTFDnMil3BwfD9D82oLkL1xsAEo8Uc3AJncy5dbocYUAZEdDOjZez3IR3RC5JOiWYeaQAKZrDpPwA==" />
              <button type="submit" class="dropdown-item dropdown-signout" data-ga-click="Header, sign out, icon:logout" role="menuitem">
                Sign out
              </button>
</form>          </li>
        </ul>
      </details-menu>
    </details>
  </li>
</ul>



        <!-- '"` --><!-- </textarea></xmp> --></option></form><form class="sr-only right-0" action="/logout" accept-charset="UTF-8" method="post"><input name="utf8" type="hidden" value="&#x2713;" /><input type="hidden" name="authenticity_token" value="9y3jutSj+tPU3Ypse+DDpITYNjyxPUvGEWy4TFNc+AehVXJuRwcatoDO9aY1644Q/O+HsikPrzA7LZIkuFG3Xg==" />
          <button type="submit" class="dropdown-item dropdown-signout" data-ga-click="Header, sign out, icon:logout">
            Sign out
          </button>
</form>      </div>
    </div>
  </div>
</header>

      

  </div>

  <div id="start-of-content" class="show-on-focus"></div>

    <div id="js-flash-container">


</div>



  <div role="main" class="application-main ">
        <div itemscope itemtype="http://schema.org/SoftwareSourceCode" class="">
    <div id="js-repo-pjax-container" data-pjax-container >
      







  <div class="pagehead repohead instapaper_ignore readability-menu experiment-repo-nav  ">
    <div class="repohead-details-container clearfix container">

      <ul class="pagehead-actions">
  <li>
        <!-- '"` --><!-- </textarea></xmp> --></option></form><form data-remote="true" class="js-social-form js-social-container" action="/notifications/subscribe" accept-charset="UTF-8" method="post"><input name="utf8" type="hidden" value="&#x2713;" /><input type="hidden" name="authenticity_token" value="8vHCHVZ3TpEHMgOGNDQS+m/L/uisNfcM0QG1zyQKhKxzA/3T7pWYFX8cFhsU2+xQy/SzdQ4WUi77c4ATmb015A==" />      <input type="hidden" name="repository_id" id="repository_id" value="154959773" class="form-control" />

      <details class="details-reset details-overlay select-menu float-left">
        <summary class="btn btn-sm btn-with-count select-menu-button" data-ga-click="Repository, click Watch settings, action:blob#show">
          <span data-menu-button>
              <svg class="octicon octicon-eye v-align-text-bottom" viewBox="0 0 16 16" version="1.1" width="16" height="16" aria-hidden="true"><path fill-rule="evenodd" d="M8.06 2C3 2 0 8 0 8s3 6 8.06 6C13 14 16 8 16 8s-3-6-7.94-6zM8 12c-2.2 0-4-1.78-4-4 0-2.2 1.8-4 4-4 2.22 0 4 1.8 4 4 0 2.22-1.78 4-4 4zm2-4c0 1.11-.89 2-2 2-1.11 0-2-.89-2-2 0-1.11.89-2 2-2 1.11 0 2 .89 2 2z"/></svg>
              Watch
          </span>
        </summary>
        <details-menu class="select-menu-modal position-absolute mt-5" style="z-index: 99;">
          <div class="select-menu-header">
            <span class="select-menu-title">Notifications</span>
          </div>
          <div class="select-menu-list">
            <button type="submit" name="do" value="included" class="select-menu-item width-full" aria-checked="true" role="menuitemradio">
              <svg class="octicon octicon-check select-menu-item-icon" viewBox="0 0 12 16" version="1.1" width="12" height="16" aria-hidden="true"><path fill-rule="evenodd" d="M12 5l-8 8-4-4 1.5-1.5L4 10l6.5-6.5L12 5z"/></svg>
              <div class="select-menu-item-text">
                <span class="select-menu-item-heading">Not watching</span>
                <span class="description">Be notified when participating or @mentioned.</span>
                <span class="hidden-select-button-text" data-menu-button-contents>
                  <svg class="octicon octicon-eye v-align-text-bottom" viewBox="0 0 16 16" version="1.1" width="16" height="16" aria-hidden="true"><path fill-rule="evenodd" d="M8.06 2C3 2 0 8 0 8s3 6 8.06 6C13 14 16 8 16 8s-3-6-7.94-6zM8 12c-2.2 0-4-1.78-4-4 0-2.2 1.8-4 4-4 2.22 0 4 1.8 4 4 0 2.22-1.78 4-4 4zm2-4c0 1.11-.89 2-2 2-1.11 0-2-.89-2-2 0-1.11.89-2 2-2 1.11 0 2 .89 2 2z"/></svg>
                  Watch
                </span>
              </div>
            </button>

            <button type="submit" name="do" value="subscribed" class="select-menu-item width-full" aria-checked="false" role="menuitemradio">
              <svg class="octicon octicon-check select-menu-item-icon" viewBox="0 0 12 16" version="1.1" width="12" height="16" aria-hidden="true"><path fill-rule="evenodd" d="M12 5l-8 8-4-4 1.5-1.5L4 10l6.5-6.5L12 5z"/></svg>
              <div class="select-menu-item-text">
                <span class="select-menu-item-heading">Watching</span>
                <span class="description">Be notified of all conversations.</span>
                <span class="hidden-select-button-text" data-menu-button-contents>
                  <svg class="octicon octicon-eye v-align-text-bottom" viewBox="0 0 16 16" version="1.1" width="16" height="16" aria-hidden="true"><path fill-rule="evenodd" d="M8.06 2C3 2 0 8 0 8s3 6 8.06 6C13 14 16 8 16 8s-3-6-7.94-6zM8 12c-2.2 0-4-1.78-4-4 0-2.2 1.8-4 4-4 2.22 0 4 1.8 4 4 0 2.22-1.78 4-4 4zm2-4c0 1.11-.89 2-2 2-1.11 0-2-.89-2-2 0-1.11.89-2 2-2 1.11 0 2 .89 2 2z"/></svg>
                  Unwatch
                </span>
              </div>
            </button>

            <button type="submit" name="do" value="ignore" class="select-menu-item width-full" aria-checked="false" role="menuitemradio">
              <svg class="octicon octicon-check select-menu-item-icon" viewBox="0 0 12 16" version="1.1" width="12" height="16" aria-hidden="true"><path fill-rule="evenodd" d="M12 5l-8 8-4-4 1.5-1.5L4 10l6.5-6.5L12 5z"/></svg>
              <div class="select-menu-item-text">
                <span class="select-menu-item-heading">Ignoring</span>
                <span class="description">Never be notified.</span>
                <span class="hidden-select-button-text" data-menu-button-contents>
                  <svg class="octicon octicon-mute v-align-text-bottom" viewBox="0 0 16 16" version="1.1" width="16" height="16" aria-hidden="true"><path fill-rule="evenodd" d="M8 2.81v10.38c0 .67-.81 1-1.28.53L3 10H1c-.55 0-1-.45-1-1V7c0-.55.45-1 1-1h2l3.72-3.72C7.19 1.81 8 2.14 8 2.81zm7.53 3.22l-1.06-1.06-1.97 1.97-1.97-1.97-1.06 1.06L11.44 8 9.47 9.97l1.06 1.06 1.97-1.97 1.97 1.97 1.06-1.06L13.56 8l1.97-1.97z"/></svg>
                  Stop ignoring
                </span>
              </div>
            </button>
          </div>
        </details-menu>
      </details>
      <a class="social-count js-social-count"
        href="/chrislbie/FundamentalsOfMachineLearningHD/watchers"
        aria-label="0 users are watching this repository">
        0
      </a>
</form>
  </li>

  <li>
    
  <div class="js-toggler-container js-social-container starring-container ">
    <!-- '"` --><!-- </textarea></xmp> --></option></form><form class="starred js-social-form" action="/chrislbie/FundamentalsOfMachineLearningHD/unstar" accept-charset="UTF-8" method="post"><input name="utf8" type="hidden" value="&#x2713;" /><input type="hidden" name="authenticity_token" value="FZo4ZUJfwB47VzH18EGVS6tITcOZNUdZxTHUFSoy8hfc5/7cTUcKxUn2o4d7FbVsIr6gzktzaUWApDJT+SvmeQ==" />
      <input type="hidden" name="context" value="repository"></input>
      <button
        type="submit"
        class="btn btn-sm btn-with-count js-toggler-target"
        aria-label="Unstar this repository" title="Unstar chrislbie/FundamentalsOfMachineLearningHD"
        data-ga-click="Repository, click unstar button, action:blob#show; text:Unstar">
        <svg class="octicon octicon-star v-align-text-bottom" viewBox="0 0 14 16" version="1.1" width="14" height="16" aria-hidden="true"><path fill-rule="evenodd" d="M14 6l-4.9-.64L7 1 4.9 5.36 0 6l3.6 3.26L2.67 14 7 11.67 11.33 14l-.93-4.74L14 6z"/></svg>
        Unstar
      </button>
        <a class="social-count js-social-count" href="/chrislbie/FundamentalsOfMachineLearningHD/stargazers"
           aria-label="0 users starred this repository">
          0
        </a>
</form>
    <!-- '"` --><!-- </textarea></xmp> --></option></form><form class="unstarred js-social-form" action="/chrislbie/FundamentalsOfMachineLearningHD/star" accept-charset="UTF-8" method="post"><input name="utf8" type="hidden" value="&#x2713;" /><input type="hidden" name="authenticity_token" value="d589lFuquqv7LpxP4hQuKKnBFjxKn8DJ1U8nJqkVxAfLKfweiTFph3uTIJkKa0WxvBSnyXd4VldLU/iz3vNeTQ==" />
      <input type="hidden" name="context" value="repository"></input>
      <button
        type="submit"
        class="btn btn-sm btn-with-count js-toggler-target"
        aria-label="Star this repository" title="Star chrislbie/FundamentalsOfMachineLearningHD"
        data-ga-click="Repository, click star button, action:blob#show; text:Star">
        <svg class="octicon octicon-star v-align-text-bottom" viewBox="0 0 14 16" version="1.1" width="14" height="16" aria-hidden="true"><path fill-rule="evenodd" d="M14 6l-4.9-.64L7 1 4.9 5.36 0 6l3.6 3.26L2.67 14 7 11.67 11.33 14l-.93-4.74L14 6z"/></svg>
        Star
      </button>
        <a class="social-count js-social-count" href="/chrislbie/FundamentalsOfMachineLearningHD/stargazers"
           aria-label="0 users starred this repository">
          0
        </a>
</form>  </div>

  </li>

  <li>
        <span class="btn btn-sm btn-with-count disabled tooltipped tooltipped-sw" aria-label="Cannot fork because you own this repository and are not a member of any organizations.">
          <svg class="octicon octicon-repo-forked v-align-text-bottom" viewBox="0 0 10 16" version="1.1" width="10" height="16" aria-hidden="true"><path fill-rule="evenodd" d="M8 1a1.993 1.993 0 0 0-1 3.72V6L5 8 3 6V4.72A1.993 1.993 0 0 0 2 1a1.993 1.993 0 0 0-1 3.72V6.5l3 3v1.78A1.993 1.993 0 0 0 5 15a1.993 1.993 0 0 0 1-3.72V9.5l3-3V4.72A1.993 1.993 0 0 0 8 1zM2 4.2C1.34 4.2.8 3.65.8 3c0-.65.55-1.2 1.2-1.2.65 0 1.2.55 1.2 1.2 0 .65-.55 1.2-1.2 1.2zm3 10c-.66 0-1.2-.55-1.2-1.2 0-.65.55-1.2 1.2-1.2.65 0 1.2.55 1.2 1.2 0 .65-.55 1.2-1.2 1.2zm3-10c-.66 0-1.2-.55-1.2-1.2 0-.65.55-1.2 1.2-1.2.65 0 1.2.55 1.2 1.2 0 .65-.55 1.2-1.2 1.2z"/></svg>
          Fork
</span>
    <a href="/chrislbie/FundamentalsOfMachineLearningHD/network/members" class="social-count"
       aria-label="1 user forked this repository">
      1
    </a>
  </li>
</ul>

      <h1 class="public ">
  <svg class="octicon octicon-repo-forked" viewBox="0 0 10 16" version="1.1" width="10" height="16" aria-hidden="true"><path fill-rule="evenodd" d="M8 1a1.993 1.993 0 0 0-1 3.72V6L5 8 3 6V4.72A1.993 1.993 0 0 0 2 1a1.993 1.993 0 0 0-1 3.72V6.5l3 3v1.78A1.993 1.993 0 0 0 5 15a1.993 1.993 0 0 0 1-3.72V9.5l3-3V4.72A1.993 1.993 0 0 0 8 1zM2 4.2C1.34 4.2.8 3.65.8 3c0-.65.55-1.2 1.2-1.2.65 0 1.2.55 1.2 1.2 0 .65-.55 1.2-1.2 1.2zm3 10c-.66 0-1.2-.55-1.2-1.2 0-.65.55-1.2 1.2-1.2.65 0 1.2.55 1.2 1.2 0 .65-.55 1.2-1.2 1.2zm3-10c-.66 0-1.2-.55-1.2-1.2 0-.65.55-1.2 1.2-1.2.65 0 1.2.55 1.2 1.2 0 .65-.55 1.2-1.2 1.2z"/></svg>
  <span class="author" itemprop="author"><a class="url fn" rel="author" href="/chrislbie">chrislbie</a></span><!--
--><span class="path-divider">/</span><!--
--><strong itemprop="name"><a data-pjax="#js-repo-pjax-container" href="/chrislbie/FundamentalsOfMachineLearningHD">FundamentalsOfMachineLearningHD</a></strong>

    <span class="fork-flag">
      <span class="text">forked from <a href="/ml4cdeca/FundamentalsOfMachineLearningHD">ml4cdeca/FundamentalsOfMachineLearningHD</a></span>
    </span>
</h1>

    </div>
    
<nav class="reponav js-repo-nav js-sidenav-container-pjax container"
     itemscope
     itemtype="http://schema.org/BreadcrumbList"
     role="navigation"
     data-pjax="#js-repo-pjax-container">

  <span itemscope itemtype="http://schema.org/ListItem" itemprop="itemListElement">
    <a class="js-selected-navigation-item selected reponav-item" itemprop="url" data-hotkey="g c" data-selected-links="repo_source repo_downloads repo_commits repo_releases repo_tags repo_branches repo_packages /chrislbie/FundamentalsOfMachineLearningHD" href="/chrislbie/FundamentalsOfMachineLearningHD">
      <svg class="octicon octicon-code" viewBox="0 0 14 16" version="1.1" width="14" height="16" aria-hidden="true"><path fill-rule="evenodd" d="M9.5 3L8 4.5 11.5 8 8 11.5 9.5 13 14 8 9.5 3zm-5 0L0 8l4.5 5L6 11.5 2.5 8 6 4.5 4.5 3z"/></svg>
      <span itemprop="name">Code</span>
      <meta itemprop="position" content="1">
</a>  </span>


  <span itemscope itemtype="http://schema.org/ListItem" itemprop="itemListElement">
    <a data-hotkey="g p" itemprop="url" class="js-selected-navigation-item reponav-item" data-selected-links="repo_pulls checks /chrislbie/FundamentalsOfMachineLearningHD/pulls" href="/chrislbie/FundamentalsOfMachineLearningHD/pulls">
      <svg class="octicon octicon-git-pull-request" viewBox="0 0 12 16" version="1.1" width="12" height="16" aria-hidden="true"><path fill-rule="evenodd" d="M11 11.28V5c-.03-.78-.34-1.47-.94-2.06C9.46 2.35 8.78 2.03 8 2H7V0L4 3l3 3V4h1c.27.02.48.11.69.31.21.2.3.42.31.69v6.28A1.993 1.993 0 0 0 10 15a1.993 1.993 0 0 0 1-3.72zm-1 2.92c-.66 0-1.2-.55-1.2-1.2 0-.65.55-1.2 1.2-1.2.65 0 1.2.55 1.2 1.2 0 .65-.55 1.2-1.2 1.2zM4 3c0-1.11-.89-2-2-2a1.993 1.993 0 0 0-1 3.72v6.56A1.993 1.993 0 0 0 2 15a1.993 1.993 0 0 0 1-3.72V4.72c.59-.34 1-.98 1-1.72zm-.8 10c0 .66-.55 1.2-1.2 1.2-.65 0-1.2-.55-1.2-1.2 0-.65.55-1.2 1.2-1.2.65 0 1.2.55 1.2 1.2zM2 4.2C1.34 4.2.8 3.65.8 3c0-.65.55-1.2 1.2-1.2.65 0 1.2.55 1.2 1.2 0 .65-.55 1.2-1.2 1.2z"/></svg>
      <span itemprop="name">Pull requests</span>
      <span class="Counter">0</span>
      <meta itemprop="position" content="3">
</a>  </span>


    <a data-hotkey="g b" class="js-selected-navigation-item reponav-item" data-selected-links="repo_projects new_repo_project repo_project /chrislbie/FundamentalsOfMachineLearningHD/projects" href="/chrislbie/FundamentalsOfMachineLearningHD/projects">
      <svg class="octicon octicon-project" viewBox="0 0 15 16" version="1.1" width="15" height="16" aria-hidden="true"><path fill-rule="evenodd" d="M10 12h3V2h-3v10zm-4-2h3V2H6v8zm-4 4h3V2H2v12zm-1 1h13V1H1v14zM14 0H1a1 1 0 0 0-1 1v14a1 1 0 0 0 1 1h13a1 1 0 0 0 1-1V1a1 1 0 0 0-1-1z"/></svg>
      Projects
      <span class="Counter" >0</span>
</a>

    <a class="js-selected-navigation-item reponav-item" data-hotkey="g w" data-selected-links="repo_wiki /chrislbie/FundamentalsOfMachineLearningHD/wiki" href="/chrislbie/FundamentalsOfMachineLearningHD/wiki">
      <svg class="octicon octicon-book" viewBox="0 0 16 16" version="1.1" width="16" height="16" aria-hidden="true"><path fill-rule="evenodd" d="M3 5h4v1H3V5zm0 3h4V7H3v1zm0 2h4V9H3v1zm11-5h-4v1h4V5zm0 2h-4v1h4V7zm0 2h-4v1h4V9zm2-6v9c0 .55-.45 1-1 1H9.5l-1 1-1-1H2c-.55 0-1-.45-1-1V3c0-.55.45-1 1-1h5.5l1 1 1-1H15c.55 0 1 .45 1 1zm-8 .5L7.5 3H2v9h6V3.5zm7-.5H9.5l-.5.5V12h6V3z"/></svg>
      Wiki
</a>
  <a class="js-selected-navigation-item reponav-item" data-selected-links="repo_graphs repo_contributors dependency_graph pulse alerts /chrislbie/FundamentalsOfMachineLearningHD/pulse" href="/chrislbie/FundamentalsOfMachineLearningHD/pulse">
    <svg class="octicon octicon-graph" viewBox="0 0 16 16" version="1.1" width="16" height="16" aria-hidden="true"><path fill-rule="evenodd" d="M16 14v1H0V0h1v14h15zM5 13H3V8h2v5zm4 0H7V3h2v10zm4 0h-2V6h2v7z"/></svg>
    Insights
</a>
    <a class="js-selected-navigation-item reponav-item" data-selected-links="repo_settings repo_branch_settings hooks integration_installations repo_keys_settings issue_template_editor /chrislbie/FundamentalsOfMachineLearningHD/settings" href="/chrislbie/FundamentalsOfMachineLearningHD/settings">
      <svg class="octicon octicon-gear" viewBox="0 0 14 16" version="1.1" width="14" height="16" aria-hidden="true"><path fill-rule="evenodd" d="M14 8.77v-1.6l-1.94-.64-.45-1.09.88-1.84-1.13-1.13-1.81.91-1.09-.45-.69-1.92h-1.6l-.63 1.94-1.11.45-1.84-.88-1.13 1.13.91 1.81-.45 1.09L0 7.23v1.59l1.94.64.45 1.09-.88 1.84 1.13 1.13 1.81-.91 1.09.45.69 1.92h1.59l.63-1.94 1.11-.45 1.84.88 1.13-1.13-.92-1.81.47-1.09L14 8.75v.02zM7 11c-1.66 0-3-1.34-3-3s1.34-3 3-3 3 1.34 3 3-1.34 3-3 3z"/></svg>
      Settings
</a>
</nav>


  </div>

<div class="container new-discussion-timeline experiment-repo-nav  ">
  <div class="repository-content ">

    

  
    <a class="d-none js-permalink-shortcut" data-hotkey="y" href="/chrislbie/FundamentalsOfMachineLearningHD/blob/edc38ef8bad8aef150903d60b2ce374c62d41004/blatt1/monte-carlo.ipynb">Permalink</a>

    <!-- blob contrib key: blob_contributors:v21:8006db4caaf50b87f68d0af41a156091 -->

    

    <div class="file-navigation">
      
<div class="select-menu branch-select-menu js-menu-container js-select-menu float-left">
  <button class=" btn btn-sm select-menu-button js-menu-target css-truncate" data-hotkey="w"
    
    type="button" aria-label="Switch branches or tags" aria-expanded="false" aria-haspopup="true">
      <i>Tree:</i>
      <span class="js-select-button css-truncate-target">edc38ef8ba</span>
  </button>

  <div class="select-menu-modal-holder js-menu-content js-navigation-container" data-pjax>

    <div class="select-menu-modal">
      <div class="select-menu-header">
        <svg class="octicon octicon-x js-menu-close" role="img" aria-label="Close" viewBox="0 0 12 16" version="1.1" width="12" height="16"><path fill-rule="evenodd" d="M7.48 8l3.75 3.75-1.48 1.48L6 9.48l-3.75 3.75-1.48-1.48L4.52 8 .77 4.25l1.48-1.48L6 6.52l3.75-3.75 1.48 1.48L7.48 8z"/></svg>
        <span class="select-menu-title">Switch branches/tags</span>
      </div>

      <div class="select-menu-filters">
        <div class="select-menu-text-filter">
          <input type="text" aria-label="Find or create a branch…" id="context-commitish-filter-field" class="form-control js-filterable-field js-navigation-enable" placeholder="Find or create a branch…">
        </div>
        <div class="select-menu-tabs">
          <ul>
            <li class="select-menu-tab">
              <a href="#" data-tab-filter="branches" data-filter-placeholder="Find or create a branch…" class="js-select-menu-tab" role="tab">Branches</a>
            </li>
            <li class="select-menu-tab">
              <a href="#" data-tab-filter="tags" data-filter-placeholder="Find a tag…" class="js-select-menu-tab" role="tab">Tags</a>
            </li>
          </ul>
        </div>
      </div>

      <div class="select-menu-list select-menu-tab-bucket js-select-menu-tab-bucket" data-tab-filter="branches" role="menu">

        <div data-filterable-for="context-commitish-filter-field" data-filterable-type="substring">


            <a class="select-menu-item js-navigation-item js-navigation-open "
               href="/chrislbie/FundamentalsOfMachineLearningHD/blob/master/blatt1/monte-carlo.ipynb"
               data-name="master"
               data-skip-pjax="true"
               rel="nofollow">
              <svg class="octicon octicon-check select-menu-item-icon" viewBox="0 0 12 16" version="1.1" width="12" height="16" aria-hidden="true"><path fill-rule="evenodd" d="M12 5l-8 8-4-4 1.5-1.5L4 10l6.5-6.5L12 5z"/></svg>
              <span class="select-menu-item-text css-truncate-target js-select-menu-filter-text">
                master
              </span>
            </a>
        </div>

          <!-- '"` --><!-- </textarea></xmp> --></option></form><form class="select-menu-new-item-form js-new-item-form" action="/chrislbie/FundamentalsOfMachineLearningHD/branches" accept-charset="UTF-8" method="post"><input name="utf8" type="hidden" value="&#x2713;" /><input type="hidden" name="authenticity_token" value="rzKHmzC2F2+DNlCJak234wH+dMuhDfnI2tbONq/WzFI35vBfzBzda5S5kaueg8V5+0EFnw5euNY34/O+MfqSpw==" />
            <input type="hidden" name="name" id="name" class="js-new-item-value">
            <input type="hidden" name="branch" id="branch" value="edc38ef8bad8aef150903d60b2ce374c62d41004">
            <input type="hidden" name="path_binary" id="path_binary" value="YmxhdHQxL21vbnRlLWNhcmxvLmlweW5i">

            <button type="submit" class="width-full select-menu-item js-navigation-open js-navigation-item">
              <svg class="octicon octicon-git-branch select-menu-item-icon" viewBox="0 0 10 16" version="1.1" width="10" height="16" aria-hidden="true"><path fill-rule="evenodd" d="M10 5c0-1.11-.89-2-2-2a1.993 1.993 0 0 0-1 3.72v.3c-.02.52-.23.98-.63 1.38-.4.4-.86.61-1.38.63-.83.02-1.48.16-2 .45V4.72a1.993 1.993 0 0 0-1-3.72C.88 1 0 1.89 0 3a2 2 0 0 0 1 1.72v6.56c-.59.35-1 .99-1 1.72 0 1.11.89 2 2 2 1.11 0 2-.89 2-2 0-.53-.2-1-.53-1.36.09-.06.48-.41.59-.47.25-.11.56-.17.94-.17 1.05-.05 1.95-.45 2.75-1.25S8.95 7.77 9 6.73h-.02C9.59 6.37 10 5.73 10 5zM2 1.8c.66 0 1.2.55 1.2 1.2 0 .65-.55 1.2-1.2 1.2C1.35 4.2.8 3.65.8 3c0-.65.55-1.2 1.2-1.2zm0 12.41c-.66 0-1.2-.55-1.2-1.2 0-.65.55-1.2 1.2-1.2.65 0 1.2.55 1.2 1.2 0 .65-.55 1.2-1.2 1.2zm6-8c-.66 0-1.2-.55-1.2-1.2 0-.65.55-1.2 1.2-1.2.65 0 1.2.55 1.2 1.2 0 .65-.55 1.2-1.2 1.2z"/></svg>
              <div class="select-menu-item-text">
                <span class="select-menu-item-heading">Create branch: <span class="js-new-item-name"></span></span>
                <span class="description">from ‘edc38ef’</span>
              </div>
            </button>
</form>
      </div>

      <div class="select-menu-list select-menu-tab-bucket js-select-menu-tab-bucket" data-tab-filter="tags">
        <div data-filterable-for="context-commitish-filter-field" data-filterable-type="substring">


        </div>

        <div class="select-menu-no-results">Nothing to show</div>
      </div>

    </div>
  </div>
</div>

      <div class="BtnGroup float-right">
        <a href="/chrislbie/FundamentalsOfMachineLearningHD/find/edc38ef8bad8aef150903d60b2ce374c62d41004"
              class="js-pjax-capture-input btn btn-sm BtnGroup-item"
              data-pjax
              data-hotkey="t">
          Find file
        </a>
        <clipboard-copy for="blob-path" class="btn btn-sm BtnGroup-item">
          Copy path
        </clipboard-copy>
      </div>
      <div id="blob-path" class="breadcrumb">
        <span class="repo-root js-repo-root"><span class="js-path-segment"><a data-pjax="true" rel="nofollow" href="/chrislbie/FundamentalsOfMachineLearningHD/tree/edc38ef8bad8aef150903d60b2ce374c62d41004"><span>FundamentalsOfMachineLearningHD</span></a></span></span><span class="separator">/</span><span class="js-path-segment"><a data-pjax="true" rel="nofollow" href="/chrislbie/FundamentalsOfMachineLearningHD/tree/edc38ef8bad8aef150903d60b2ce374c62d41004/blatt1"><span>blatt1</span></a></span><span class="separator">/</span><strong class="final-path">monte-carlo.ipynb</strong>
      </div>
    </div>


    <include-fragment src="/chrislbie/FundamentalsOfMachineLearningHD/contributors/edc38ef8bad8aef150903d60b2ce374c62d41004/blatt1/monte-carlo.ipynb" class="commit-tease commit-loader">
      <div>
        Fetching contributors&hellip;
      </div>

      <div class="commit-tease-contributors">
          <img alt="" class="loader-loading float-left" src="https://assets-cdn.github.com/images/spinners/octocat-spinner-32-EAF2F5.gif" width="16" height="16" />
        <span class="loader-error">Cannot retrieve contributors at this time</span>
      </div>
</include-fragment>


    <div class="file ">
      <div class="file-header">
  <div class="file-actions">
      <div class="BtnGroup">
        <a class="btn btn-sm BtnGroup-item tooltipped tooltipped tooltipped-n source "
          href="/chrislbie/FundamentalsOfMachineLearningHD/blob/edc38ef8bad8aef150903d60b2ce374c62d41004/blatt1/monte-carlo.ipynb?short_path=be6cf67" aria-label="Display the source blob">
          <svg class="octicon octicon-code" viewBox="0 0 14 16" version="1.1" width="14" height="16" aria-hidden="true"><path fill-rule="evenodd" d="M9.5 3L8 4.5 11.5 8 8 11.5 9.5 13 14 8 9.5 3zm-5 0L0 8l4.5 5L6 11.5 2.5 8 6 4.5 4.5 3z"/></svg>
        </a>
        <a class="btn btn-sm BtnGroup-item tooltipped tooltipped-n rendered selected"
          href="/chrislbie/FundamentalsOfMachineLearningHD/blob/edc38ef8bad8aef150903d60b2ce374c62d41004/blatt1/monte-carlo.ipynb" aria-label="Display the rendered blob">
          <svg class="octicon octicon-file" viewBox="0 0 12 16" version="1.1" width="12" height="16" aria-hidden="true"><path fill-rule="evenodd" d="M6 5H2V4h4v1zM2 8h7V7H2v1zm0 2h7V9H2v1zm0 2h7v-1H2v1zm10-7.5V14c0 .55-.45 1-1 1H1c-.55 0-1-.45-1-1V2c0-.55.45-1 1-1h7.5L12 4.5zM11 5L8 2H1v12h10V5z"/></svg>
        </a>
      </div>

    <div class="BtnGroup">
      <a id="raw-url" class="btn btn-sm BtnGroup-item" href="/chrislbie/FundamentalsOfMachineLearningHD/raw/edc38ef8bad8aef150903d60b2ce374c62d41004/blatt1/monte-carlo.ipynb">Raw</a>
        <a class="btn btn-sm js-update-url-with-hash BtnGroup-item" data-hotkey="b" href="/chrislbie/FundamentalsOfMachineLearningHD/blame/edc38ef8bad8aef150903d60b2ce374c62d41004/blatt1/monte-carlo.ipynb">Blame</a>
      <a rel="nofollow" class="btn btn-sm BtnGroup-item" href="/chrislbie/FundamentalsOfMachineLearningHD/commits/edc38ef8bad8aef150903d60b2ce374c62d41004/blatt1/monte-carlo.ipynb">History</a>
    </div>

        <button class="btn-octicon disabled tooltipped tooltipped-nw"
           type="button"
           disabled
           aria-label="You must be on a branch to open this file in GitHub Desktop">
            <svg class="octicon octicon-device-desktop" viewBox="0 0 16 16" version="1.1" width="16" height="16" aria-hidden="true"><path fill-rule="evenodd" d="M15 2H1c-.55 0-1 .45-1 1v9c0 .55.45 1 1 1h5.34c-.25.61-.86 1.39-2.34 2h8c-1.48-.61-2.09-1.39-2.34-2H15c.55 0 1-.45 1-1V3c0-.55-.45-1-1-1zm0 9H1V3h14v8z"/></svg>
        </button>

        <button type="button" class="btn-octicon disabled tooltipped tooltipped-nw"
          aria-label="You must be on a branch to make or propose changes to this file">
          <svg class="octicon octicon-pencil" viewBox="0 0 14 16" version="1.1" width="14" height="16" aria-hidden="true"><path fill-rule="evenodd" d="M0 12v3h3l8-8-3-3-8 8zm3 2H1v-2h1v1h1v1zm10.3-9.3L12 6 9 3l1.3-1.3a.996.996 0 0 1 1.41 0l1.59 1.59c.39.39.39 1.02 0 1.41z"/></svg>
        </button>
        <button type="button" class="btn-octicon btn-octicon-danger disabled tooltipped tooltipped-nw"
          aria-label="You must be on a branch to make or propose changes to this file">
          <svg class="octicon octicon-trashcan" viewBox="0 0 12 16" version="1.1" width="12" height="16" aria-hidden="true"><path fill-rule="evenodd" d="M11 2H9c0-.55-.45-1-1-1H5c-.55 0-1 .45-1 1H2c-.55 0-1 .45-1 1v1c0 .55.45 1 1 1v9c0 .55.45 1 1 1h7c.55 0 1-.45 1-1V5c.55 0 1-.45 1-1V3c0-.55-.45-1-1-1zm-1 12H3V5h1v8h1V5h1v8h1V5h1v8h1V5h1v9zm1-10H2V3h9v1z"/></svg>
        </button>
  </div>

  <div class="file-info">
      72 lines (71 sloc)
      <span class="file-info-divider"></span>
    1.33 KB
  </div>
</div>

      

  <div itemprop="text" class="blob-wrapper data type-jupyter-notebook ">
      
  <div class="render-wrapper ">
    <div class="render-container is-render-pending js-render-target  "
      data-identity="3876bec2-784a-4a5c-b49d-7e9dc0f5edd6"
      data-host="https://render.githubusercontent.com"
      data-type="ipynb">
      <img class="octospinner mx-auto" alt="" src="https://assets-cdn.github.com/images/spinners/octocat-spinner-128.gif" width="64" height="64" />
      <div class="render-viewer-error">Sorry, something went wrong. <a href="https://github.com/chrislbie/FundamentalsOfMachineLearningHD/blob/edc38ef8bad8aef150903d60b2ce374c62d41004/blatt1/monte-carlo.ipynb">Reload?</a></div>
      <div class="render-viewer-fatal">Sorry, we cannot display this file.</div>
      <div class="render-viewer-invalid">Sorry, this file is invalid so it cannot be displayed.</div>
      <iframe class="render-viewer " src="https://render.githubusercontent.com/view/ipynb?commit=edc38ef8bad8aef150903d60b2ce374c62d41004&amp;enc_url=68747470733a2f2f7261772e67697468756275736572636f6e74656e742e636f6d2f63687269736c6269652f46756e64616d656e74616c734f664d616368696e654c6561726e696e6748442f656463333865663862616438616566313530393033643630623263653337346336326434313030342f626c617474312f6d6f6e74652d6361726c6f2e6970796e62&amp;nwo=chrislbie%2FFundamentalsOfMachineLearningHD&amp;path=blatt1%2Fmonte-carlo.ipynb&amp;repository_id=154959773&amp;repository_type=Repository#3876bec2-784a-4a5c-b49d-7e9dc0f5edd6" sandbox="allow-scripts allow-same-origin allow-top-navigation ">Viewer requires iframe.</iframe>
    </div>
  </div>

  </div>

    </div>

  

  <details class="details-reset details-overlay details-overlay-dark">
    <summary data-hotkey="l" aria-label="Jump to line"></summary>
    <details-dialog class="Box Box--overlay d-flex flex-column anim-fade-in fast linejump" aria-label="Jump to line">
      <!-- '"` --><!-- </textarea></xmp> --></option></form><form class="js-jump-to-line-form Box-body d-flex" action="" accept-charset="UTF-8" method="get"><input name="utf8" type="hidden" value="&#x2713;" />
        <input class="form-control flex-auto mr-3 linejump-input js-jump-to-line-field" type="text" placeholder="Jump to line&hellip;" aria-label="Jump to line" autofocus>
        <button type="submit" class="btn" data-close-dialog>Go</button>
</form>    </details-dialog>
  </details>


  </div>
  <div class="modal-backdrop js-touch-events"></div>
</div>

    </div>
  </div>

  </div>

        
<div class="footer container-lg px-3" role="contentinfo">
  <div class="position-relative d-flex flex-justify-between pt-6 pb-2 mt-6 f6 text-gray border-top border-gray-light ">
    <ul class="list-style-none d-flex flex-wrap ">
      <li class="mr-3">&copy; 2018 <span title="0.28529s from unicorn-7dd479f8d7-whm4w">GitHub</span>, Inc.</li>
        <li class="mr-3"><a data-ga-click="Footer, go to terms, text:terms" href="https://github.com/site/terms">Terms</a></li>
        <li class="mr-3"><a data-ga-click="Footer, go to privacy, text:privacy" href="https://github.com/site/privacy">Privacy</a></li>
        <li class="mr-3"><a href="https://help.github.com/articles/github-security/" data-ga-click="Footer, go to security, text:security">Security</a></li>
        <li class="mr-3"><a href="https://status.github.com/" data-ga-click="Footer, go to status, text:status">Status</a></li>
        <li><a data-ga-click="Footer, go to help, text:help" href="https://help.github.com">Help</a></li>
    </ul>

    <a aria-label="Homepage" title="GitHub" class="footer-octicon mr-lg-4" href="https://github.com">
      <svg height="24" class="octicon octicon-mark-github" viewBox="0 0 16 16" version="1.1" width="24" aria-hidden="true"><path fill-rule="evenodd" d="M8 0C3.58 0 0 3.58 0 8c0 3.54 2.29 6.53 5.47 7.59.4.07.55-.17.55-.38 0-.19-.01-.82-.01-1.49-2.01.37-2.53-.49-2.69-.94-.09-.23-.48-.94-.82-1.13-.28-.15-.68-.52-.01-.53.63-.01 1.08.58 1.23.82.72 1.21 1.87.87 2.33.66.07-.52.28-.87.51-1.07-1.78-.2-3.64-.89-3.64-3.95 0-.87.31-1.59.82-2.15-.08-.2-.36-1.02.08-2.12 0 0 .67-.21 2.2.82.64-.18 1.32-.27 2-.27.68 0 1.36.09 2 .27 1.53-1.04 2.2-.82 2.2-.82.44 1.1.16 1.92.08 2.12.51.56.82 1.27.82 2.15 0 3.07-1.87 3.75-3.65 3.95.29.25.54.73.54 1.48 0 1.07-.01 1.93-.01 2.2 0 .21.15.46.55.38A8.013 8.013 0 0 0 16 8c0-4.42-3.58-8-8-8z"/></svg>
</a>
   <ul class="list-style-none d-flex flex-wrap ">
        <li class="mr-3"><a data-ga-click="Footer, go to contact, text:contact" href="https://github.com/contact">Contact GitHub</a></li>
        <li class="mr-3"><a href="https://github.com/pricing" data-ga-click="Footer, go to Pricing, text:Pricing">Pricing</a></li>
      <li class="mr-3"><a href="https://developer.github.com" data-ga-click="Footer, go to api, text:api">API</a></li>
      <li class="mr-3"><a href="https://training.github.com" data-ga-click="Footer, go to training, text:training">Training</a></li>
        <li class="mr-3"><a href="https://blog.github.com" data-ga-click="Footer, go to blog, text:blog">Blog</a></li>
        <li><a data-ga-click="Footer, go to about, text:about" href="https://github.com/about">About</a></li>

    </ul>
  </div>
  <div class="d-flex flex-justify-center pb-6">
    <span class="f6 text-gray-light"></span>
  </div>
</div>



  <div id="ajax-error-message" class="ajax-error-message flash flash-error">
    <svg class="octicon octicon-alert" viewBox="0 0 16 16" version="1.1" width="16" height="16" aria-hidden="true"><path fill-rule="evenodd" d="M8.893 1.5c-.183-.31-.52-.5-.887-.5s-.703.19-.886.5L.138 13.499a.98.98 0 0 0 0 1.001c.193.31.53.501.886.501h13.964c.367 0 .704-.19.877-.5a1.03 1.03 0 0 0 .01-1.002L8.893 1.5zm.133 11.497H6.987v-2.003h2.039v2.003zm0-3.004H6.987V5.987h2.039v4.006z"/></svg>
    <button type="button" class="flash-close js-ajax-error-dismiss" aria-label="Dismiss error">
      <svg class="octicon octicon-x" viewBox="0 0 12 16" version="1.1" width="12" height="16" aria-hidden="true"><path fill-rule="evenodd" d="M7.48 8l3.75 3.75-1.48 1.48L6 9.48l-3.75 3.75-1.48-1.48L4.52 8 .77 4.25l1.48-1.48L6 6.52l3.75-3.75 1.48 1.48L7.48 8z"/></svg>
    </button>
    You can’t perform that action at this time.
  </div>


    
    <script crossorigin="anonymous" integrity="sha512-MvNlmXbTAwL0N0zMxw8W6vtjWLf0QFvwVzvN8rZIJNdzFy9OJp2d4LQD9WA2rDNcHewz0PB9x/0G0Z9FOuUWgw==" type="application/javascript" src="https://assets-cdn.github.com/assets/frameworks-a2f69f341e3df821fdcb56e335ef9920.js"></script>
    
    <script crossorigin="anonymous" async="async" integrity="sha512-I3M3AWMKQOl/+Fsw6kL34F+wx2fvmAJccY2PUmvIpTRqL2xNAC1GaVaTUNK+C+6XE9ISpOOMvMk4blccgZrVgg==" type="application/javascript" src="https://assets-cdn.github.com/assets/github-7f1f066185e799dd56b16502fb47c080.js"></script>
    
    
    
  <div class="js-stale-session-flash stale-session-flash flash flash-warn flash-banner d-none">
    <svg class="octicon octicon-alert" viewBox="0 0 16 16" version="1.1" width="16" height="16" aria-hidden="true"><path fill-rule="evenodd" d="M8.893 1.5c-.183-.31-.52-.5-.887-.5s-.703.19-.886.5L.138 13.499a.98.98 0 0 0 0 1.001c.193.31.53.501.886.501h13.964c.367 0 .704-.19.877-.5a1.03 1.03 0 0 0 .01-1.002L8.893 1.5zm.133 11.497H6.987v-2.003h2.039v2.003zm0-3.004H6.987V5.987h2.039v4.006z"/></svg>
    <span class="signed-in-tab-flash">You signed in with another tab or window. <a href="">Reload</a> to refresh your session.</span>
    <span class="signed-out-tab-flash">You signed out in another tab or window. <a href="">Reload</a> to refresh your session.</span>
  </div>
  <div class="facebox" id="facebox" style="display:none;">
  <div class="facebox-popup">
    <div class="facebox-content" role="dialog" aria-labelledby="facebox-header" aria-describedby="facebox-description">
    </div>
    <button type="button" class="facebox-close js-facebox-close" aria-label="Close modal">
      <svg class="octicon octicon-x" viewBox="0 0 12 16" version="1.1" width="12" height="16" aria-hidden="true"><path fill-rule="evenodd" d="M7.48 8l3.75 3.75-1.48 1.48L6 9.48l-3.75 3.75-1.48-1.48L4.52 8 .77 4.25l1.48-1.48L6 6.52l3.75-3.75 1.48 1.48L7.48 8z"/></svg>
    </button>
  </div>
</div>

  <template id="site-details-dialog">
  <details class="details-reset details-overlay details-overlay-dark lh-default text-gray-dark" open>
    <summary aria-haspopup="dialog" aria-label="Close dialog"></summary>
    <details-dialog class="Box Box--overlay d-flex flex-column anim-fade-in fast">
      <button class="Box-btn-octicon m-0 btn-octicon position-absolute right-0 top-0" type="button" aria-label="Close dialog" data-close-dialog>
        <svg class="octicon octicon-x" viewBox="0 0 12 16" version="1.1" width="12" height="16" aria-hidden="true"><path fill-rule="evenodd" d="M7.48 8l3.75 3.75-1.48 1.48L6 9.48l-3.75 3.75-1.48-1.48L4.52 8 .77 4.25l1.48-1.48L6 6.52l3.75-3.75 1.48 1.48L7.48 8z"/></svg>
      </button>
      <div class="octocat-spinner my-6 js-details-dialog-spinner"></div>
    </details-dialog>
  </details>
</template>

  <div class="Popover js-hovercard-content position-absolute" style="display: none; outline: none;" tabindex="0">
  <div class="Popover-message Popover-message--bottom-left Popover-message--large Box box-shadow-large" style="width:360px;">
  </div>
</div>

<div id="hovercard-aria-description" class="sr-only">
  Press h to open a hovercard with more details.
</div>


  </body>
</html>

=======
{
 "cells": [
  {
   "cell_type": "markdown",
   "metadata": {},
   "source": [
    "<div align=\"right\">\n",
    "  Christopher Lüken-Winkels, Lukas Blecher\n",
    "</div>\n",
    "# Exercise 1\n",
    "\n",
    "## 1. Monte-Carlo Simulation\n",
    "$X \\in \\left[ 0,1\\right], Y \\in \\{0,1\\}$\n",
    "$$p(Y = 0) = p(Y = 1) = \\frac12$$with the density functions$$ f(X = x|Y = 0) = 2 − 2x\\\\ f(X = x|Y = 1) = 2x$$\n",
    "Now we derive the CDF for both cases. In general the definition is $$F_X(x)=\\int^x_{-\\infty} f_X(t)dt$$\n",
    "Since $X\\in \\left[0,1\\right]$ we integrate form $0$. The results are:\n",
    "$$F_0=\\int_0^x (2y-y^2) dy =2x-x^2 \\\\ F_1(x)=\\int_0^x 2y dy=x^2$$\n",
    "\n",
    "Now we inverted the CDF:\n",
    "$$F_0^{-1}(y)=1-\\sqrt{1-y}\\\\ F_1^{-1}(y)=\\sqrt y$$\n",
    "In the first case we got two different solutions but the $+$-solution is greater than $1$ for almost all x."
   ]
  },
  {
   "cell_type": "markdown",
   "metadata": {},
   "source": [
    "### 1.1 Data Creation and Visualization"
   ]
  },
  {
   "cell_type": "code",
   "execution_count": 1,
   "metadata": {
    "collapsed": true
   },
   "outputs": [],
   "source": [
    "import numpy as np\n",
    "import matplotlib.pyplot as plt\n",
    "from numpy import random as rd\n",
    "from scipy.optimize import curve_fit\n",
    "from string import ascii_uppercase as ALPH\n",
    "%matplotlib inline"
   ]
  },
  {
   "cell_type": "code",
   "execution_count": 2,
   "metadata": {
    "collapsed": true
   },
   "outputs": [],
   "source": [
    "#define cumulative distribution function for f(X=x|Y=0)=2−2x (F0) and f(X=x|Y=1)=2x (F1)\n",
    "def F0(x):\n",
    "    return 2*x - x**2\n",
    "def F1(x):\n",
    "    return x**2\n",
    "\n",
    "#define inverse functions of F0 (invF0) and F1 (invF1)\n",
    "def invF0(y):\n",
    "    return 1 - np.sqrt(1 - y)\n",
    "def invF1(y):\n",
    "    return np.sqrt(y)\n",
    "\n",
    "#define function that returns vectors containing the X-values and corresponding Y-labels for N data instances\n",
    "def create_data(N):\n",
    "    Z = rd.random(N)\n",
    "    X0 = invF0(Z[:int(N/2)])          #first half of set with Y=0\n",
    "    X1 = invF1(Z[int(N/2):])          #second half of set with Y=1\n",
    "    Y0 = np.zeros(len(X0))\n",
    "    Y1 = np.ones(len(X1))\n",
    "    return np.concatenate((X0,X1),axis=None),np.concatenate((Y0,Y1),axis=None)\n",
    "\n",
    "#define function to show histogramm of X with Y=0 (second arg = 0) or Y=1 (second arg = 1)\n",
    "def test(N,k):\n",
    "    if not k in [0,1]:\n",
    "        raise ValueError('k can only be 0 or 1.')\n",
    "    X,Y = create_data(N)\n",
    "    plt.title('Distribution of $F_{%i}(x)=$%s'%(k,['$2-2x$','$2x$'][k]))\n",
    "    if k == 0:\n",
    "        plt.hist(X[:int(len(X)/2)],bins = 100)\n",
    "    if k == 1:\n",
    "        plt.hist(X[int(len(X)/2):],bins = 100)\n",
    "    plt.show()"
   ]
  },
  {
   "cell_type": "code",
   "execution_count": 3,
   "metadata": {
    "collapsed": false,
    "scrolled": false
   },
   "outputs": [
    {
     "data": {
      "image/png": "iVBORw0KGgoAAAANSUhEUgAAAXoAAAEKCAYAAAAcgp5RAAAABHNCSVQICAgIfAhkiAAAAAlwSFlz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\n/x9ZFU+O/B16WgAAAABJRU5ErkJggg==\n",
      "text/plain": [
       "<Figure size 432x288 with 1 Axes>"
      ]
     },
     "metadata": {},
     "output_type": "display_data"
    },
    {
     "data": {
      "image/png": "iVBORw0KGgoAAAANSUhEUgAAAXoAAAEKCAYAAAAcgp5RAAAABHNCSVQICAgIfAhkiAAAAAlwSFlz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\nUuNM9JLUOBO9JDXu/wMtdrIcxXv8LwAAAABJRU5ErkJggg==\n",
      "text/plain": [
       "<Figure size 432x288 with 1 Axes>"
      ]
     },
     "metadata": {},
     "output_type": "display_data"
    }
   ],
   "source": [
    "test(10000,0)\n",
    "test(10000,1)"
   ]
  },
  {
   "cell_type": "markdown",
   "metadata": {},
   "source": [
    "### 1.2 Classifcation by Thresholding"
   ]
  },
  {
   "cell_type": "code",
   "execution_count": 4,
   "metadata": {
    "collapsed": true
   },
   "outputs": [],
   "source": [
    "#set threshold to x_t\n",
    "x_t = 0.5\n",
    "\n",
    "def checkRule(rule):\n",
    "    if not rule in [0,1,2,3]:\n",
    "        raise ValueError('choose 0 (rule A), 1 (rule B), and so on for first arg')\n",
    "#define rules of the classifier: Rule A (threshold classifier)[0], Rule B (threshold anti-classifier)[1]\n",
    "#Rule C (guressing) and Rule D (contant)\n",
    "def Y_hat(rule,x,x_t):    \n",
    "    checkRule(rule)  \n",
    "    return {0:0 if x < x_t else 1,\n",
    "            1:1 if x < x_t else 0,\n",
    "            2:round(rd.random()),\n",
    "            3:1}[rule]\n",
    "    \n",
    "#define functionn to decide Y values for and array of X values\n",
    "def decide(rule,X,x_t):\n",
    "    Y_decision = []\n",
    "    for x in X:\n",
    "        Y_decision.append(Y_hat(rule,x,x_t))\n",
    "    return np.array(Y_decision)\n",
    "\n",
    "#define function to evaluate mean of abs(Y_hat-Y_star)\n",
    "def error(rule,N,x_t):\n",
    "    X,Y_star = create_data(N)\n",
    "    Y = decide(rule,X,x_t)\n",
    "    del_Y = abs(Y_star - Y)\n",
    "    return np.mean(del_Y)\n",
    "\n",
    "#evaluate error for x_t element of environment(0.5)\n",
    "def minerror(N):\n",
    "    X_t = np.linspace(0.4,0.6,100)\n",
    "    Error = []\n",
    "    for x_t in X_t:\n",
    "        Error.append(error(0,N,x_t))\n",
    "    Error = np.array(Error)\n",
    "    \n",
    "    return X_t,Error\n",
    "\n",
    "#calculate error for x_t in {0.2,0.5,0.6}\n",
    "def errorArray(rule,N,X_t):\n",
    "    Err = []\n",
    "    for x_t in X_t:\n",
    "        Err.append(error(rule,N,x_t))\n",
    "    return Err\n",
    "\n",
    "#analytical solution\n",
    "def theoError(rule,x_t):\n",
    "    checkRule(rule)\n",
    "    return {0:.25+(x_t-.5)**2, #Rule A\n",
    "            1:.75-(x_t-.5)**2, #Rule B\n",
    "            2:.5,              #Rule C\n",
    "            3:.5}[rule]        #Rule D\n",
    "\n",
    "#evaluate error for x_t element of environment(0.5)\n",
    "def minerror(N):\n",
    "    X_t = np.linspace(0.4,0.6,100)\n",
    "    Error = []\n",
    "    for x_t in X_t:\n",
    "        Error.append(error(0,N,x_t))\n",
    "    Error = np.array(Error)\n",
    "    return X_t,Error\n",
    "\n",
    "#gerneral parabola\n",
    "def parabola(x,u,a,c):\n",
    "    return a*(x-u)**2+c"
   ]
  },
  {
   "cell_type": "code",
   "execution_count": 5,
   "metadata": {
    "collapsed": false
   },
   "outputs": [
    {
     "data": {
      "text/plain": [
       "array([ 0.0031, -0.0045, -0.0017])"
      ]
     },
     "execution_count": 5,
     "metadata": {},
     "output_type": "execute_result"
    }
   ],
   "source": [
    "X_t = np.array([0.2,0.5,0.6])\n",
    "errorArray(0,10000,X_t) - theoError(0,X_t)"
   ]
  },
  {
   "cell_type": "markdown",
   "metadata": {},
   "source": [
    "low values in the difference of numerical and theoretical solution indicate a correct theoratical error analysis"
   ]
  },
  {
   "cell_type": "code",
   "execution_count": 6,
   "metadata": {
    "collapsed": true
   },
   "outputs": [],
   "source": [
    "x,err=minerror(100000)"
   ]
  },
  {
   "cell_type": "code",
   "execution_count": 7,
   "metadata": {
    "collapsed": false
   },
   "outputs": [
    {
     "data": {
      "image/png": "iVBORw0KGgoAAAANSUhEUgAAAZIAAAEYCAYAAAB2qXBEAAAABHNCSVQICAgIfAhkiAAAAAlwSFlz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\n3fjypZwuAAAAAElFTkSuQmCC\n",
      "text/plain": [
       "<Figure size 432x288 with 1 Axes>"
      ]
     },
     "metadata": {},
     "output_type": "display_data"
    },
    {
     "name": "stdout",
     "output_type": "stream",
     "text": [
      "0.250395\n"
     ]
    }
   ],
   "source": [
    "popt,pcov=curve_fit(parabola,x,err)\n",
    "plt.title('Comparing numerical with analytical solutions')\n",
    "plt.plot(x,err,'.',label='numerical')\n",
    "plt.plot(x,parabola(x,*popt),label='parabola fit')\n",
    "plt.plot(x,theoError(0,x),label='analytical')\n",
    "plt.xlabel('$x_t$')\n",
    "plt.ylabel('error')\n",
    "plt.legend()\n",
    "plt.show()\n",
    "print(error(0,1000000,0.5)) #not the value of the plot"
   ]
  },
  {
   "cell_type": "markdown",
   "metadata": {
    "collapsed": true
   },
   "source": [
    "as one can see the minimum error rate is located at about x_t = 0.5 with an error propability of about 25% as expected"
   ]
  },
  {
   "cell_type": "code",
   "execution_count": 8,
   "metadata": {
    "collapsed": true
   },
   "outputs": [],
   "source": [
    "#define function to evaluate mean and std for a set (size 10) of errors with same rule, N and x_t\n",
    "def errorMeanStd(rule,N,x_t):\n",
    "    Err = []\n",
    "    for i in range (10):\n",
    "        Err.append(error(rule,N,x_t))\n",
    "    return np.mean(Err),np.std(Err)"
   ]
  },
  {
   "cell_type": "code",
   "execution_count": 9,
   "metadata": {
    "collapsed": true
   },
   "outputs": [],
   "source": [
    "#calculate mean and std for every combination of rule,N and x_t\n",
    "#solution represented in form: [[x_t,rule,N,mean,std,theoretical value],[x_t,...],[...],...]\n",
    "def showMeanStd(rules,Nlist,X_t):\n",
    "    solution = []\n",
    "    for x_t in X_t:\n",
    "        for rule in rules:\n",
    "            for N in Nlist:\n",
    "                solution.append([x_t,rule,N,*errorMeanStd(rule,N,x_t),theoError(rule,x_t)])\n",
    "    return solution"
   ]
  },
  {
   "cell_type": "code",
   "execution_count": 104,
   "metadata": {
    "collapsed": false
   },
   "outputs": [
    {
     "name": "stdout",
     "output_type": "stream",
     "text": [
      "x_t,rule,N,mean,std,theo\n",
      "0.2, 0, 10, 0.270, 0.119, 0.340\n",
      "0.2, 0, 100, 0.356, 0.033, 0.340\n",
      "0.2, 0, 1000, 0.342, 0.010, 0.340\n",
      "0.2, 0, 10000, 0.340, 0.004, 0.340\n",
      "0.2, 1, 10, 0.670, 0.100, 0.660\n",
      "0.2, 1, 100, 0.656, 0.033, 0.660\n",
      "0.2, 1, 1000, 0.663, 0.011, 0.660\n",
      "0.2, 1, 10000, 0.660, 0.003, 0.660\n",
      "0.2, 2, 10, 0.510, 0.170, 0.500\n",
      "0.2, 2, 100, 0.491, 0.051, 0.500\n",
      "0.2, 2, 1000, 0.499, 0.014, 0.500\n",
      "0.2, 2, 10000, 0.498, 0.005, 0.500\n",
      "0.2, 3, 10, 0.500, 0.000, 0.500\n",
      "0.2, 3, 100, 0.500, 0.000, 0.500\n",
      "0.2, 3, 1000, 0.500, 0.000, 0.500\n",
      "0.2, 3, 10000, 0.500, 0.000, 0.500\n",
      "0.5, 0, 10, 0.250, 0.136, 0.250\n",
      "0.5, 0, 100, 0.234, 0.036, 0.250\n",
      "0.5, 0, 1000, 0.251, 0.009, 0.250\n",
      "0.5, 0, 10000, 0.248, 0.002, 0.250\n",
      "0.5, 1, 10, 0.690, 0.176, 0.750\n",
      "0.5, 1, 100, 0.726, 0.039, 0.750\n",
      "0.5, 1, 1000, 0.750, 0.013, 0.750\n",
      "0.5, 1, 10000, 0.751, 0.005, 0.750\n",
      "0.5, 2, 10, 0.530, 0.155, 0.500\n",
      "0.5, 2, 100, 0.521, 0.056, 0.500\n",
      "0.5, 2, 1000, 0.505, 0.013, 0.500\n",
      "0.5, 2, 10000, 0.500, 0.004, 0.500\n",
      "0.5, 3, 10, 0.500, 0.000, 0.500\n",
      "0.5, 3, 100, 0.500, 0.000, 0.500\n",
      "0.5, 3, 1000, 0.500, 0.000, 0.500\n",
      "0.5, 3, 10000, 0.500, 0.000, 0.500\n",
      "0.6, 0, 10, 0.190, 0.114, 0.260\n",
      "0.6, 0, 100, 0.253, 0.046, 0.260\n",
      "0.6, 0, 1000, 0.261, 0.012, 0.260\n",
      "0.6, 0, 10000, 0.261, 0.004, 0.260\n",
      "0.6, 1, 10, 0.770, 0.110, 0.740\n",
      "0.6, 1, 100, 0.731, 0.044, 0.740\n",
      "0.6, 1, 1000, 0.739, 0.014, 0.740\n",
      "0.6, 1, 10000, 0.739, 0.003, 0.740\n",
      "0.6, 2, 10, 0.520, 0.125, 0.500\n",
      "0.6, 2, 100, 0.501, 0.039, 0.500\n",
      "0.6, 2, 1000, 0.501, 0.024, 0.500\n",
      "0.6, 2, 10000, 0.499, 0.004, 0.500\n",
      "0.6, 3, 10, 0.500, 0.000, 0.500\n",
      "0.6, 3, 100, 0.500, 0.000, 0.500\n",
      "0.6, 3, 1000, 0.500, 0.000, 0.500\n",
      "0.6, 3, 10000, 0.500, 0.000, 0.500\n"
     ]
    }
   ],
   "source": [
    "print('x_t,rule,N,mean,std,theo')\n",
    "for a in showMeanStd([0,1,2,3],[10,100,1000,10000],[0.2,0.5,0.6]):\n",
    "    print('%.1f, %i, %i, %.3f, %.3f, %.3f'%(*a,))"
   ]
  },
  {
   "cell_type": "code",
   "execution_count": 10,
   "metadata": {
    "collapsed": true
   },
   "outputs": [],
   "source": [
    "def errorStd(rules,Nlist,X_t):\n",
    "    data = np.transpose(showMeanStd(rules,Nlist,X_t))\n",
    "    Stds = data[4]\n",
    "    solution = []\n",
    "    setlenght = len(X_t)*len(rules)\n",
    "    for i in range(0,len(Nlist)*setlenght,len(Nlist)):\n",
    "        solution.append(Stds[i:i+len(Nlist)])\n",
    "    return solution"
   ]
  },
  {
   "cell_type": "code",
   "execution_count": 11,
   "metadata": {
    "collapsed": true
   },
   "outputs": [],
   "source": [
    "#loglog line function\n",
    "def logline(x,a,b):\n",
    "    return a*x**b"
   ]
  },
  {
   "cell_type": "code",
   "execution_count": 21,
   "metadata": {
    "collapsed": false
   },
   "outputs": [
    {
     "name": "stdout",
     "output_type": "stream",
     "text": [
      "probportional to x^b with b=-0.492 +/- 0.086\n"
     ]
    },
    {
     "data": {
      "image/png": "iVBORw0KGgoAAAANSUhEUgAAAekAAAEcCAYAAADjkUw9AAAABHNCSVQICAgIfAhkiAAAAAlwSFlz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\n",
      "text/plain": [
       "<Figure size 432x288 with 1 Axes>"
      ]
     },
     "metadata": {},
     "output_type": "display_data"
    }
   ],
   "source": [
    "#plot the stds against M\n",
    "M,rul,xts = [10,100,1000,10000],[0,1,2],[0.2,0.5,0.6] #define variables\n",
    "stds = errorStd(rul,M,xts)\n",
    "plt.title('error standard deviation decrease with increasing M')\n",
    "plt.xlabel('$M$')\n",
    "plt.ylabel('error std')\n",
    "#plt.yscale('log')\n",
    "b=[]\n",
    "for s in range(len(stds)):\n",
    "    popt,pcov=curve_fit(logline,M,stds[s])\n",
    "    plt.loglog(M,stds[s],label='$x_t=$%.1f, %c'%(xts[int(s/len(rul))],ALPH[rul[s%len(rul)]]))\n",
    "    b.append(popt[1])\n",
    "plt.legend(loc=(1.02,0))\n",
    "print('probportional to x^b with b=%.3f +/- %.3f'%(np.mean(b),np.std(b)))\n",
    "plt.show()"
   ]
  },
  {
   "cell_type": "markdown",
   "metadata": {},
   "source": [
    "How does the error standard deviation decrease with increasing M?\n",
    "we noticed that the error std decreases according to $a \\cdot x^b$ so we fitted this function to our data. The result let's us belive that the std is proportional to $\\dfrac1{\\sqrt x}$."
   ]
  },
  {
   "cell_type": "code",
   "execution_count": null,
   "metadata": {
    "collapsed": true
   },
   "outputs": [],
   "source": []
  }
 ],
 "metadata": {
  "kernelspec": {
   "display_name": "Python 3",
   "language": "python",
   "name": "python3"
  },
  "language_info": {
   "codemirror_mode": {
    "name": "ipython",
    "version": 3
   },
   "file_extension": ".py",
   "mimetype": "text/x-python",
   "name": "python",
   "nbconvert_exporter": "python",
   "pygments_lexer": "ipython3",
   "version": "3.6.0"
  }
 },
 "nbformat": 4,
 "nbformat_minor": 2
}
>>>>>>> fe7a3eef50cf79f083a2bbd5750296a95838f1e0
