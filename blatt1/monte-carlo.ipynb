{
 "cells": [
  {
   "cell_type": "markdown",
   "metadata": {},
   "source": [
    "<div align=\"right\">\n",
    "  Christopher Lüken-Winkels, Lukas Blecher\n",
    "</div>\n",
    "# Exercise 1\n",
    "\n",
    "## 1. Monte-Carlo Simulation\n",
    "$X \\in \\left[ 0,1\\right], Y \\in \\{0,1\\}$\n",
    "$$p(Y = 0) = p(Y = 1) = \\frac12$$with the density functions$$ f(X = x|Y = 0) = 2 − 2x\\\\ f(X = x|Y = 1) = 2x$$\n",
    "Now we derive the CDF for both cases. In general the definition is $$F_X(x)=\\int^x_{-\\infty} f_X(t)dt$$\n",
    "Since $X\\in \\left[0,1\\right]$ we integrate form $0$. The results are:\n",
    "$$F_0=\\int_0^x (2y-y^2) dy =2x-x^2 \\\\ F_1(x)=\\int_0^x 2y dy=x^2$$\n",
    "\n",
    "Now we inverted the CDF:\n",
    "$$F_0^{-1}(y)=1-\\sqrt{1-y}\\\\ F_1^{-1}(y)=\\sqrt y$$\n",
    "In the first case we got two different solutions but the $+$-solution is greater than $1$ for almost all x."
   ]
  },
  {
   "cell_type": "code",
   "execution_count": 3,
   "metadata": {
    "collapsed": true
   },
   "outputs": [],
   "source": [
    "import numpy as np\n",
    "import matplotlib.pyplot as plt\n",
    "from numpy import random as rd\n",
    "%matplotlib inline"
   ]
  },
  {
   "cell_type": "code",
   "execution_count": 27,
   "metadata": {
    "collapsed": true
   },
   "outputs": [],
   "source": [
    "#define cumulative distribution function for f(X=x|Y=0)=2−2x (F0) and f(X=x|Y=1)=2x (F1)\n",
    "def F0(x):\n",
    "    return 2*x - x**2\n",
    "def F1(x):\n",
    "    return x**2\n",
    "\n",
    "#define inverse functions of F0 (invF0) and F1 (invF1)\n",
    "def invF0(y):\n",
    "    return 1 - np.sqrt(1 - y)\n",
    "def invF1(y):\n",
    "    return np.sqrt(y)\n",
    "\n",
    "#define function that returns vectors containing the X-values and corresponding Y-labels for N data instances\n",
    "def create_data(N):\n",
    "    Z = rd.random(N)\n",
    "    X0 = invF0(Z[:int(N/2)])          #first half of set with Y=0\n",
    "    X1 = invF1(Z[int(N/2):])          #second half of set with Y=1\n",
    "    Y0 = np.zeros(len(X0))\n",
    "    Y1 = np.ones(len(X1))\n",
    "    return np.concatenate((X0,X1),axis=None),np.concatenate((Y0,Y1),axis=None)\n",
    "\n",
    "#define function to show histogramm of X with Y=0 (second arg = 0) or Y=1 (second arg = 1)\n",
    "def test(N,k):    \n",
    "    X,Y = create_data(N)\n",
    "    if k == 0:\n",
    "        plt.hist(X[:int(len(X)/2)],bins = 100) \n",
    "    if k == 1:\n",
    "        plt.hist(X[int(len(X)/2):],bins = 100)\n",
    "    plt.show()\n",
    "    "
   ]
  },
  {
   "cell_type": "code",
   "execution_count": 28,
   "metadata": {
    "collapsed": false
   },
   "outputs": [
    {
     "data": {
      "image/png": "[encoded data removed]",
      "text/plain": [
       "<matplotlib.figure.Figure at 0xaa664e0>"
      ]
     },
     "metadata": {},
     "output_type": "display_data"
    },
    {
     "data": {
      "image/png": "[encoded data removed]",
      "text/plain": [
       "<matplotlib.figure.Figure at 0xab09278>"
      ]
     },
     "metadata": {},
     "output_type": "display_data"
    }
   ],
   "source": [
    "test(10000,0)\n",
    "test(10000,1)"
   ]
  },
  {
   "cell_type": "code",
   "execution_count": 26,
   "metadata": {
    "collapsed": false
   },
   "outputs": [],
   "source": [
    "#set threshold to x_t\n",
    "x_t = 0.5\n",
    "\n",
    "#define rules of the classifier: Rule A (threshold classifier)[0], Rule B (threshold anti-classifier)[1]\n",
    "def Y_hat(rule,x,x_t):    \n",
    "    if not rule in [0,1]:\n",
    "        raise ValueError('choose 0 (rule A) or 1 (rule B) for first arg')   \n",
    "    return rule if x < x_t else (rule + 1)%2\n",
    "\n",
    "#define functionn to decide Y values for and array of X values\n",
    "def dicide(rule,X,x_t):\n",
    "    Y_hat = []\n",
    "    for x in X:\n",
    "        Y_hat.append()\n"
   ]
  },
  {
   "cell_type": "code",
   "execution_count": null,
   "metadata": {
    "collapsed": true
   },
   "outputs": [],
   "source": []
  }
 ],
 "metadata": {
  "kernelspec": {
   "display_name": "Python 3",
   "language": "python",
   "name": "python3"
  },
  "language_info": {
   "codemirror_mode": {
    "name": "ipython",
    "version": 3
   },
   "file_extension": ".py",
   "mimetype": "text/x-python",
   "name": "python",
   "nbconvert_exporter": "python",
   "pygments_lexer": "ipython3",
   "version": "3.6.0"
  }
 },
 "nbformat": 4,
 "nbformat_minor": 2
}
