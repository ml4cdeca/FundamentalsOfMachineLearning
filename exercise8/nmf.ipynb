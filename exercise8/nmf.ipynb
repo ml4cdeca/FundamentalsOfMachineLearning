{
 "cells": [
  {
   "cell_type": "markdown",
   "metadata": {},
   "source": [
    "# Exercise 8\n",
    "## 2  Non-negative matrix factorization\n",
    "### Setup"
   ]
  },
  {
   "cell_type": "code",
   "execution_count": 2,
   "metadata": {},
   "outputs": [],
   "source": [
    "import math\n",
    "import matplotlib.pyplot as plt\n",
    "%matplotlib inline\n",
    "import numpy as np\n",
    "from sklearn.datasets import load_digits\n",
    "from sklearn import decomposition\n",
    "from scipy import sparse as sp\n",
    "digits = load_digits ()\n",
    "X = digits [\"data\" ]/255.\n",
    "Y = digits [\"target\"]"
   ]
  },
  {
   "cell_type": "markdown",
   "metadata": {},
   "source": [
    "### 2.1 Comparison of scikit-learn's NMF with SVD"
   ]
  },
  {
   "cell_type": "code",
   "execution_count": 3,
   "metadata": {},
   "outputs": [],
   "source": [
    "def largestNIndices(a,n,axis=1):\n",
    "    ind=np.unravel_index(a.flatten().argsort()[::-1],a.shape)[axis]\n",
    "    return np.argsort(np.unique(ind,return_index=True)[1])[:n]"
   ]
  },
  {
   "cell_type": "code",
   "execution_count": 4,
   "metadata": {},
   "outputs": [],
   "source": [
    "def plotEigVec(v):\n",
    "    fig=plt.figure(figsize=(9,6))\n",
    "    for i in range(6):\n",
    "        plt.subplot(2,3,i+1)\n",
    "        plt.imshow(v[i].reshape(8,8),cmap='gray')\n",
    "        plt.title(i+1)\n",
    "        plt.axis('off')"
   ]
  },
  {
   "cell_type": "code",
   "execution_count": 5,
   "metadata": {},
   "outputs": [],
   "source": [
    "#SVD\n",
    "Xmean=np.mean(X,axis=0)\n",
    "X_tilde=X-Xmean\n",
    "u,s,vh=np.linalg.svd(X_tilde)\n",
    "#row indices for the 6 largest values in vh\n",
    "#save in SVD_mir (most important rows)\n",
    "SVD_mir=largestNIndices(vh,6,1)\n",
    "svdBasis=vh.T[SVD_mir]+Xmean"
   ]
  },
  {
   "cell_type": "code",
   "execution_count": 6,
   "metadata": {},
   "outputs": [
    {
     "data": {
      "image/png": "[encoded data removed]",
      "text/plain": [
       "<Figure size 648x432 with 6 Axes>"
      ]
     },
     "metadata": {
      "needs_background": "light"
     },
     "output_type": "display_data"
    }
   ],
   "source": [
    "plotEigVec(svdBasis)"
   ]
  },
  {
   "cell_type": "code",
   "execution_count": 7,
   "metadata": {},
   "outputs": [],
   "source": [
    "#sklearn's NMF\n",
    "nmf=decomposition.NMF(n_components=10, init='random',random_state=0)\n",
    "Z=nmf.fit_transform(X)\n",
    "H=nmf.components_\n",
    "NMF_mir=largestNIndices(H,6,0)"
   ]
  },
  {
   "cell_type": "code",
   "execution_count": 8,
   "metadata": {},
   "outputs": [
    {
     "data": {
      "image/png": "[encoded data removed]",
      "text/plain": [
       "<Figure size 648x432 with 6 Axes>"
      ]
     },
     "metadata": {
      "needs_background": "light"
     },
     "output_type": "display_data"
    }
   ],
   "source": [
    "plotEigVec(H[NMF_mir])"
   ]
  },
  {
   "cell_type": "markdown",
   "metadata": {},
   "source": [
    "The results of the SVT implementantion are hard to interpret since it highlights features which we considered to be rather unimportant. In contrast NMF returned basis vectors which at least show lines that resemble parts of numbers. "
   ]
  },
  {
   "cell_type": "markdown",
   "metadata": {},
   "source": [
    "### 2.2 Implementation"
   ]
  },
  {
   "cell_type": "code",
   "execution_count": 9,
   "metadata": {},
   "outputs": [],
   "source": [
    "def non_negative(data,num_components,T=1000,returnLoss=False,update=False):\n",
    "    X=data\n",
    "    a,b=X.shape\n",
    "    #initialize  H,Z:\n",
    "    H_t,Z_t=np.abs(np.random.normal(size=(num_components,b))),np.abs(np.random.normal(size=(a,num_components)))\n",
    "    #initialize updated H,Z\n",
    "    H,Z=None,None\n",
    "    #squared loss\n",
    "    loss=[]\n",
    "    for t in range(T):\n",
    "        H=np.multiply(H_t,np.divide(Z_t.T@X,np.clip(Z_t.T@Z_t@H_t,1e-6,None)))\n",
    "        Z=np.multiply(Z_t,np.divide(X@H.T,np.clip(Z_t@H@H.T,1e-6,None)))\n",
    "        H_t,Z_t=H,Z\n",
    "        loss.append(np.linalg.norm(X-Z_t@H_t)**2)\n",
    "        if update:\n",
    "            print('%i/%i'%(t+1,T),end='\\r')\n",
    "    return (H_t,Z_t,loss) if returnLoss else (H_t,Z_t)"
   ]
  },
  {
   "cell_type": "code",
   "execution_count": 10,
   "metadata": {},
   "outputs": [],
   "source": [
    "h,z,l=non_negative(X,6,returnLoss=True)"
   ]
  },
  {
   "cell_type": "code",
   "execution_count": 11,
   "metadata": {},
   "outputs": [
    {
     "data": {
      "image/png": "[encoded data removed]",
      "text/plain": [
       "<Figure size 432x288 with 1 Axes>"
      ]
     },
     "metadata": {
      "needs_background": "light"
     },
     "output_type": "display_data"
    }
   ],
   "source": [
    "plt.plot(l)\n",
    "plt.title('squared loss as function of t')\n",
    "plt.xlabel('t')\n",
    "plt.ylabel('$||X-Z_t\\cdot H_t||^2_2$')\n",
    "plt.show()"
   ]
  },
  {
   "cell_type": "code",
   "execution_count": 12,
   "metadata": {},
   "outputs": [
    {
     "data": {
      "text/plain": [
       "0"
      ]
     },
     "execution_count": 12,
     "metadata": {},
     "output_type": "execute_result"
    }
   ],
   "source": [
    "np.count_nonzero(np.gradient(l)>0)"
   ]
  },
  {
   "cell_type": "markdown",
   "metadata": {},
   "source": [
    "That shows that the squared loss is non-increasing with $t$."
   ]
  },
  {
   "cell_type": "code",
   "execution_count": 13,
   "metadata": {},
   "outputs": [
    {
     "data": {
      "image/png": "[encoded data removed]",
      "text/plain": [
       "<Figure size 648x432 with 6 Axes>"
      ]
     },
     "metadata": {
      "needs_background": "light"
     },
     "output_type": "display_data"
    }
   ],
   "source": [
    "plotEigVec(h[largestNIndices(h,6,0)])"
   ]
  },
  {
   "cell_type": "markdown",
   "metadata": {},
   "source": [
    "looks similar to the NMF result using <tt>scikit-learn</tt>"
   ]
  },
  {
   "cell_type": "markdown",
   "metadata": {},
   "source": [
    "## 3 Recommender system"
   ]
  },
  {
   "cell_type": "code",
   "execution_count": 14,
   "metadata": {},
   "outputs": [
    {
     "data": {
      "text/html": [
       "<div>\n",
       "<style scoped>\n",
       "    .dataframe tbody tr th:only-of-type {\n",
       "        vertical-align: middle;\n",
       "    }\n",
       "\n",
       "    .dataframe tbody tr th {\n",
       "        vertical-align: top;\n",
       "    }\n",
       "\n",
       "    .dataframe thead th {\n",
       "        text-align: right;\n",
       "    }\n",
       "</style>\n",
       "<table border=\"1\" class=\"dataframe\">\n",
       "  <thead>\n",
       "    <tr style=\"text-align: right;\">\n",
       "      <th>movie id</th>\n",
       "      <th>1</th>\n",
       "      <th>2</th>\n",
       "      <th>3</th>\n",
       "      <th>4</th>\n",
       "      <th>5</th>\n",
       "      <th>6</th>\n",
       "      <th>7</th>\n",
       "      <th>8</th>\n",
       "      <th>9</th>\n",
       "      <th>10</th>\n",
       "      <th>...</th>\n",
       "      <th>1673</th>\n",
       "      <th>1674</th>\n",
       "      <th>1675</th>\n",
       "      <th>1676</th>\n",
       "      <th>1677</th>\n",
       "      <th>1678</th>\n",
       "      <th>1679</th>\n",
       "      <th>1680</th>\n",
       "      <th>1681</th>\n",
       "      <th>1682</th>\n",
       "    </tr>\n",
       "    <tr>\n",
       "      <th>user id</th>\n",
       "      <th></th>\n",
       "      <th></th>\n",
       "      <th></th>\n",
       "      <th></th>\n",
       "      <th></th>\n",
       "      <th></th>\n",
       "      <th></th>\n",
       "      <th></th>\n",
       "      <th></th>\n",
       "      <th></th>\n",
       "      <th></th>\n",
       "      <th></th>\n",
       "      <th></th>\n",
       "      <th></th>\n",
       "      <th></th>\n",
       "      <th></th>\n",
       "      <th></th>\n",
       "      <th></th>\n",
       "      <th></th>\n",
       "      <th></th>\n",
       "      <th></th>\n",
       "    </tr>\n",
       "  </thead>\n",
       "  <tbody>\n",
       "    <tr>\n",
       "      <th>1</th>\n",
       "      <td>5.0</td>\n",
       "      <td>3.0</td>\n",
       "      <td>4.0</td>\n",
       "      <td>3.0</td>\n",
       "      <td>3.0</td>\n",
       "      <td>5.0</td>\n",
       "      <td>4.0</td>\n",
       "      <td>1.0</td>\n",
       "      <td>5.0</td>\n",
       "      <td>3.0</td>\n",
       "      <td>...</td>\n",
       "      <td>0.0</td>\n",
       "      <td>0.0</td>\n",
       "      <td>0.0</td>\n",
       "      <td>0.0</td>\n",
       "      <td>0.0</td>\n",
       "      <td>0.0</td>\n",
       "      <td>0.0</td>\n",
       "      <td>0.0</td>\n",
       "      <td>0.0</td>\n",
       "      <td>0.0</td>\n",
       "    </tr>\n",
       "    <tr>\n",
       "      <th>2</th>\n",
       "      <td>4.0</td>\n",
       "      <td>0.0</td>\n",
       "      <td>0.0</td>\n",
       "      <td>0.0</td>\n",
       "      <td>0.0</td>\n",
       "      <td>0.0</td>\n",
       "      <td>0.0</td>\n",
       "      <td>0.0</td>\n",
       "      <td>0.0</td>\n",
       "      <td>2.0</td>\n",
       "      <td>...</td>\n",
       "      <td>0.0</td>\n",
       "      <td>0.0</td>\n",
       "      <td>0.0</td>\n",
       "      <td>0.0</td>\n",
       "      <td>0.0</td>\n",
       "      <td>0.0</td>\n",
       "      <td>0.0</td>\n",
       "      <td>0.0</td>\n",
       "      <td>0.0</td>\n",
       "      <td>0.0</td>\n",
       "    </tr>\n",
       "    <tr>\n",
       "      <th>3</th>\n",
       "      <td>0.0</td>\n",
       "      <td>0.0</td>\n",
       "      <td>0.0</td>\n",
       "      <td>0.0</td>\n",
       "      <td>0.0</td>\n",
       "      <td>0.0</td>\n",
       "      <td>0.0</td>\n",
       "      <td>0.0</td>\n",
       "      <td>0.0</td>\n",
       "      <td>0.0</td>\n",
       "      <td>...</td>\n",
       "      <td>0.0</td>\n",
       "      <td>0.0</td>\n",
       "      <td>0.0</td>\n",
       "      <td>0.0</td>\n",
       "      <td>0.0</td>\n",
       "      <td>0.0</td>\n",
       "      <td>0.0</td>\n",
       "      <td>0.0</td>\n",
       "      <td>0.0</td>\n",
       "      <td>0.0</td>\n",
       "    </tr>\n",
       "    <tr>\n",
       "      <th>4</th>\n",
       "      <td>0.0</td>\n",
       "      <td>0.0</td>\n",
       "      <td>0.0</td>\n",
       "      <td>0.0</td>\n",
       "      <td>0.0</td>\n",
       "      <td>0.0</td>\n",
       "      <td>0.0</td>\n",
       "      <td>0.0</td>\n",
       "      <td>0.0</td>\n",
       "      <td>0.0</td>\n",
       "      <td>...</td>\n",
       "      <td>0.0</td>\n",
       "      <td>0.0</td>\n",
       "      <td>0.0</td>\n",
       "      <td>0.0</td>\n",
       "      <td>0.0</td>\n",
       "      <td>0.0</td>\n",
       "      <td>0.0</td>\n",
       "      <td>0.0</td>\n",
       "      <td>0.0</td>\n",
       "      <td>0.0</td>\n",
       "    </tr>\n",
       "    <tr>\n",
       "      <th>5</th>\n",
       "      <td>4.0</td>\n",
       "      <td>3.0</td>\n",
       "      <td>0.0</td>\n",
       "      <td>0.0</td>\n",
       "      <td>0.0</td>\n",
       "      <td>0.0</td>\n",
       "      <td>0.0</td>\n",
       "      <td>0.0</td>\n",
       "      <td>0.0</td>\n",
       "      <td>0.0</td>\n",
       "      <td>...</td>\n",
       "      <td>0.0</td>\n",
       "      <td>0.0</td>\n",
       "      <td>0.0</td>\n",
       "      <td>0.0</td>\n",
       "      <td>0.0</td>\n",
       "      <td>0.0</td>\n",
       "      <td>0.0</td>\n",
       "      <td>0.0</td>\n",
       "      <td>0.0</td>\n",
       "      <td>0.0</td>\n",
       "    </tr>\n",
       "  </tbody>\n",
       "</table>\n",
       "<p>5 rows × 1682 columns</p>\n",
       "</div>"
      ],
      "text/plain": [
       "movie id  1     2     3     4     5     6     7     8     9     10    ...   \\\n",
       "user id                                                               ...    \n",
       "1          5.0   3.0   4.0   3.0   3.0   5.0   4.0   1.0   5.0   3.0  ...    \n",
       "2          4.0   0.0   0.0   0.0   0.0   0.0   0.0   0.0   0.0   2.0  ...    \n",
       "3          0.0   0.0   0.0   0.0   0.0   0.0   0.0   0.0   0.0   0.0  ...    \n",
       "4          0.0   0.0   0.0   0.0   0.0   0.0   0.0   0.0   0.0   0.0  ...    \n",
       "5          4.0   3.0   0.0   0.0   0.0   0.0   0.0   0.0   0.0   0.0  ...    \n",
       "\n",
       "movie id  1673  1674  1675  1676  1677  1678  1679  1680  1681  1682  \n",
       "user id                                                               \n",
       "1          0.0   0.0   0.0   0.0   0.0   0.0   0.0   0.0   0.0   0.0  \n",
       "2          0.0   0.0   0.0   0.0   0.0   0.0   0.0   0.0   0.0   0.0  \n",
       "3          0.0   0.0   0.0   0.0   0.0   0.0   0.0   0.0   0.0   0.0  \n",
       "4          0.0   0.0   0.0   0.0   0.0   0.0   0.0   0.0   0.0   0.0  \n",
       "5          0.0   0.0   0.0   0.0   0.0   0.0   0.0   0.0   0.0   0.0  \n",
       "\n",
       "[5 rows x 1682 columns]"
      ]
     },
     "execution_count": 14,
     "metadata": {},
     "output_type": "execute_result"
    }
   ],
   "source": [
    "import pandas as pd # install pandas via conda\n",
    "# column headers for the dataset\n",
    "ratings_cols = ['user id','movie id','rating','timestamp']\n",
    "movies_cols = ['movie id','movie title','release date',\n",
    "'video release date','IMDb URL','unknown','Action',\n",
    "'Adventure','Animation','Childrens','Comedy','Crime',\n",
    "' Documentary','Drama','Fantasy','Film-Noir','Horror',\n",
    "'Musical','Mystery','Romance','Sci-Fi','Thriller',\n",
    "'War' ,'Western']\n",
    "users_cols = ['user id','age','gender','occupation','zip code']\n",
    "users = pd.read_csv('ml-100k/u.user', sep ='|',names = users_cols , encoding ='latin-1')\n",
    "movies = pd.read_csv('ml-100k/u.item', sep='|',names = movies_cols , encoding ='latin-1')\n",
    "\n",
    "ratings = pd.read_csv('ml-100k/u.data', sep ='\\t',names = ratings_cols , encoding ='latin-1')\n",
    "\n",
    "# create a joint ratings dataframe for the matrix\n",
    "\n",
    "rat_df = ratings.pivot(index ='user id',columns ='movie id', values ='rating')\n",
    "fill_value = 0#rat_df.mean()\n",
    "rat_df.fillna(fill_value,inplace=True)\n",
    "rat_df.head()"
   ]
  },
  {
   "cell_type": "code",
   "execution_count": 15,
   "metadata": {},
   "outputs": [
    {
     "name": "stdout",
     "output_type": "stream",
     "text": [
      "1000/1000\r"
     ]
    }
   ],
   "source": [
    "H,Z=non_negative(rat_df,15,update=True)"
   ]
  },
  {
   "cell_type": "code",
   "execution_count": 16,
   "metadata": {},
   "outputs": [
    {
     "data": {
      "text/plain": [
       "93.69533063577546"
      ]
     },
     "execution_count": 16,
     "metadata": {},
     "output_type": "execute_result"
    }
   ],
   "source": [
    "#percent of nonrated movies in total:\n",
    "100-100*sp.coo_matrix(rat_df).nnz/np.prod(rat_df.shape)"
   ]
  },
  {
   "cell_type": "code",
   "execution_count": 17,
   "metadata": {},
   "outputs": [
    {
     "data": {
      "text/plain": [
       "0.11587982291445087"
      ]
     },
     "execution_count": 17,
     "metadata": {},
     "output_type": "execute_result"
    }
   ],
   "source": [
    "100-100*sp.coo_matrix(Z@H).nnz/np.prod(rat_df.shape)"
   ]
  },
  {
   "cell_type": "code",
   "execution_count": 86,
   "metadata": {},
   "outputs": [],
   "source": [
    "reconstruction=pd.DataFrame(Z@H,columns=rat_df.columns)"
   ]
  },
  {
   "cell_type": "code",
   "execution_count": 138,
   "metadata": {},
   "outputs": [],
   "source": [
    "def recommend_movies(reconstruction , user_id , movies , ratings):\n",
    "    possibleRatings=reconstruction.ix[user_id] #1...\n",
    "    #find all already rated movies of this user\n",
    "    ratedMovies=ratings.loc[ratings['user id']==user_id].T.ix['movie id'] #1...\n",
    "    #remove those movies from the list\n",
    "    movieIndices=np.delete(possibleRatings.index,ratedMovies-1) #1 indexing\n",
    "    #rec=reconstruction.ix[user_id][movieIndices].sort_values(ascending=False).index\n",
    "    rec=possibleRatings[movieIndices].sort_values(ascending=False).index\n",
    "    #retrun only movies with a recommendation of 2.5 or higher\n",
    "    #rec=np.where(possibleRatings[movieIndices]>2.5)[0]#rec[possibleRatings[movieIndices]>=2.5]\n",
    "    #now return the names of all movies listed by rating\n",
    "    return movies.ix[rec][:20]"
   ]
  },
  {
   "cell_type": "code",
   "execution_count": 45,
   "metadata": {
    "scrolled": true
   },
   "outputs": [
    {
     "name": "stderr",
     "output_type": "stream",
     "text": [
      "C:\\Users\\user\\Anaconda3\\lib\\site-packages\\ipykernel_launcher.py:2: DeprecationWarning: \n",
      ".ix is deprecated. Please use\n",
      ".loc for label based indexing or\n",
      ".iloc for positional indexing\n",
      "\n",
      "See the documentation here:\n",
      "http://pandas.pydata.org/pandas-docs/stable/indexing.html#ix-indexer-is-deprecated\n",
      "  \n",
      "C:\\Users\\user\\Anaconda3\\lib\\site-packages\\ipykernel_launcher.py:4: DeprecationWarning: \n",
      ".ix is deprecated. Please use\n",
      ".loc for label based indexing or\n",
      ".iloc for positional indexing\n",
      "\n",
      "See the documentation here:\n",
      "http://pandas.pydata.org/pandas-docs/stable/indexing.html#ix-indexer-is-deprecated\n",
      "  after removing the cwd from sys.path.\n",
      "C:\\Users\\user\\Anaconda3\\lib\\site-packages\\ipykernel_launcher.py:7: DeprecationWarning: \n",
      ".ix is deprecated. Please use\n",
      ".loc for label based indexing or\n",
      ".iloc for positional indexing\n",
      "\n",
      "See the documentation here:\n",
      "http://pandas.pydata.org/pandas-docs/stable/indexing.html#ix-indexer-is-deprecated\n",
      "  import sys\n",
      "C:\\Users\\user\\Anaconda3\\lib\\site-packages\\ipykernel_launcher.py:11: DeprecationWarning: \n",
      ".ix is deprecated. Please use\n",
      ".loc for label based indexing or\n",
      ".iloc for positional indexing\n",
      "\n",
      "See the documentation here:\n",
      "http://pandas.pydata.org/pandas-docs/stable/indexing.html#ix-indexer-is-deprecated\n",
      "  # This is added back by InteractiveShellApp.init_path()\n",
      "C:\\Users\\user\\Anaconda3\\lib\\site-packages\\ipykernel_launcher.py:11: FutureWarning: \n",
      "Passing list-likes to .loc or [] with any missing label will raise\n",
      "KeyError in the future, you can use .reindex() as an alternative.\n",
      "\n",
      "See the documentation here:\n",
      "https://pandas.pydata.org/pandas-docs/stable/indexing.html#deprecate-loc-reindex-listlike\n",
      "  # This is added back by InteractiveShellApp.init_path()\n"
     ]
    },
    {
     "data": {
      "text/plain": [
       "movie id\n",
       "273                                     Sabrina (1995)\n",
       "274                       Sense and Sensibility (1995)\n",
       "275                           Leaving Las Vegas (1995)\n",
       "276                                 Restoration (1995)\n",
       "277                                Bed of Roses (1996)\n",
       "278    Once Upon a Time... When We Were Colored (1995)\n",
       "279                       Up Close and Personal (1996)\n",
       "280                             River Wild, The (1994)\n",
       "281                             Time to Kill, A (1996)\n",
       "282                                        Emma (1996)\n",
       "283                                     Tin Cup (1996)\n",
       "284                              Secrets & Lies (1996)\n",
       "285                        English Patient, The (1996)\n",
       "286                               Marvin's Room (1996)\n",
       "287                                      Scream (1996)\n",
       "288                                       Evita (1996)\n",
       "289                            Fierce Creatures (1997)\n",
       "290                              Absolute Power (1997)\n",
       "291                                    Rosewood (1997)\n",
       "292                               Donnie Brasco (1997)\n",
       "Name: movie title, dtype: object"
      ]
     },
     "execution_count": 45,
     "metadata": {},
     "output_type": "execute_result"
    }
   ],
   "source": [
    "recommend_movies(reconstruction,1,movies,ratings)['movie title']"
   ]
  },
  {
   "cell_type": "code",
   "execution_count": 46,
   "metadata": {
    "scrolled": true
   },
   "outputs": [
    {
     "name": "stderr",
     "output_type": "stream",
     "text": [
      "C:\\Users\\user\\Anaconda3\\lib\\site-packages\\ipykernel_launcher.py:1: DeprecationWarning: \n",
      ".ix is deprecated. Please use\n",
      ".loc for label based indexing or\n",
      ".iloc for positional indexing\n",
      "\n",
      "See the documentation here:\n",
      "http://pandas.pydata.org/pandas-docs/stable/indexing.html#ix-indexer-is-deprecated\n",
      "  \"\"\"Entry point for launching an IPython kernel.\n"
     ]
    },
    {
     "data": {
      "text/plain": [
       "0                                       Toy Story (1995)\n",
       "1                                       GoldenEye (1995)\n",
       "2                                      Four Rooms (1995)\n",
       "3                                      Get Shorty (1995)\n",
       "4                                         Copycat (1995)\n",
       "5      Shanghai Triad (Yao a yao yao dao waipo qiao) ...\n",
       "6                                  Twelve Monkeys (1995)\n",
       "7                                            Babe (1995)\n",
       "8                                Dead Man Walking (1995)\n",
       "9                                     Richard III (1995)\n",
       "10                                  Seven (Se7en) (1995)\n",
       "11                            Usual Suspects, The (1995)\n",
       "12                               Mighty Aphrodite (1995)\n",
       "13                                    Postino, Il (1994)\n",
       "14                             Mr. Holland's Opus (1995)\n",
       "15                    French Twist (Gazon maudit) (1995)\n",
       "16                            From Dusk Till Dawn (1996)\n",
       "17                             White Balloon, The (1995)\n",
       "18                                 Antonia's Line (1995)\n",
       "19                             Angels and Insects (1995)\n",
       "20                         Muppet Treasure Island (1996)\n",
       "21                                     Braveheart (1995)\n",
       "22                                    Taxi Driver (1976)\n",
       "23                            Rumble in the Bronx (1995)\n",
       "24                                  Birdcage, The (1996)\n",
       "25                         Brothers McMullen, The (1995)\n",
       "26                                       Bad Boys (1995)\n",
       "27                                      Apollo 13 (1995)\n",
       "28                                 Batman Forever (1995)\n",
       "29                                  Belle de jour (1967)\n",
       "                             ...                        \n",
       "242                                 Jungle2Jungle (1997)\n",
       "243                        Smilla's Sense of Snow (1997)\n",
       "244                              Devil's Own, The (1997)\n",
       "245                                   Chasing Amy (1997)\n",
       "246                  Turbo: A Power Rangers Movie (1997)\n",
       "247                           Grosse Pointe Blank (1997)\n",
       "248    Austin Powers: International Man of Mystery (1...\n",
       "249                            Fifth Element, The (1997)\n",
       "250                               Shall We Dance? (1996)\n",
       "251                Lost World: Jurassic Park, The (1997)\n",
       "252                              Pillow Book, The (1995)\n",
       "253                                Batman & Robin (1997)\n",
       "254                      My Best Friend's Wedding (1997)\n",
       "255    When the Cats Away (Chacun cherche son chat) (...\n",
       "256                                  Men in Black (1997)\n",
       "257                                       Contact (1997)\n",
       "258                          George of the Jungle (1997)\n",
       "259                                 Event Horizon (1997)\n",
       "260                                       Air Bud (1997)\n",
       "261                         In the Company of Men (1997)\n",
       "262                                         Steel (1997)\n",
       "263                                         Mimic (1997)\n",
       "264                     Hunt for Red October, The (1990)\n",
       "265                            Kull the Conqueror (1997)\n",
       "266                                              unknown\n",
       "267                                   Chasing Amy (1997)\n",
       "268                               Full Monty, The (1997)\n",
       "269                                       Gattaca (1997)\n",
       "270                             Starship Troopers (1997)\n",
       "271                             Good Will Hunting (1997)\n",
       "Name: movie title, Length: 272, dtype: object"
      ]
     },
     "execution_count": 46,
     "metadata": {},
     "output_type": "execute_result"
    }
   ],
   "source": [
    "movies['movie title'][np.where(rat_df.ix[1]>.5)[0]]"
   ]
  },
  {
   "cell_type": "code",
   "execution_count": 87,
   "metadata": {
    "scrolled": true
   },
   "outputs": [
    {
     "name": "stdout",
     "output_type": "stream",
     "text": [
      "1000/1000\r"
     ]
    }
   ],
   "source": [
    "ownRating=np.zeros(1682)\n",
    "ratingIndex = np.array([0,21,49,55,63,68,70,81,90,134,153,171,178,180,200,209,248,249,287,383,454,549,553,598,664]) \n",
    "ratingValue = np.array([4,4,5,4,5,5,4,3,4,4,4,4,4,5,5,4,5,3,4,5,5,5,4,4,4])\n",
    "ownRating[ratingIndex] = ratingValue\n",
    "newrat_df = rat_df.append(pd.DataFrame([ownRating],columns=np.arange(1,1683),index=[944],dtype=np.float64))\n",
    "\n",
    "newratings = ratings.append(pd.DataFrame(np.transpose([[944]*len(ratingIndex),ratingIndex + 1, ratingValue, np.zeros(len(ratingIndex))]),\n",
    "                            columns=ratings_cols,index=np.arange(10000,10000 + len(ratingIndex)),dtype=np.float64))\n",
    "\n",
    "newusers = users.append(pd.DataFrame([[944,20,'M','student',55107]],columns=users_cols,dtype=object,index=[943]))\n",
    "\n",
    "Hnew,Znew = non_negative(newrat_df,15,update=True)\n",
    "newreconstruction=pd.DataFrame(Znew@Hnew,columns=newrat_df.columns)\n"
   ]
  },
  {
   "cell_type": "code",
   "execution_count": 139,
   "metadata": {},
   "outputs": [
    {
     "name": "stderr",
     "output_type": "stream",
     "text": [
      "C:\\Users\\user\\Anaconda3\\lib\\site-packages\\ipykernel_launcher.py:2: DeprecationWarning: \n",
      ".ix is deprecated. Please use\n",
      ".loc for label based indexing or\n",
      ".iloc for positional indexing\n",
      "\n",
      "See the documentation here:\n",
      "http://pandas.pydata.org/pandas-docs/stable/indexing.html#ix-indexer-is-deprecated\n",
      "  \n",
      "C:\\Users\\user\\Anaconda3\\lib\\site-packages\\ipykernel_launcher.py:4: DeprecationWarning: \n",
      ".ix is deprecated. Please use\n",
      ".loc for label based indexing or\n",
      ".iloc for positional indexing\n",
      "\n",
      "See the documentation here:\n",
      "http://pandas.pydata.org/pandas-docs/stable/indexing.html#ix-indexer-is-deprecated\n",
      "  after removing the cwd from sys.path.\n",
      "C:\\Users\\user\\Anaconda3\\lib\\site-packages\\ipykernel_launcher.py:6: DeprecationWarning: using a non-integer array as obj in delete will result in an error in the future\n",
      "  \n",
      "C:\\Users\\user\\Anaconda3\\lib\\site-packages\\ipykernel_launcher.py:12: DeprecationWarning: \n",
      ".ix is deprecated. Please use\n",
      ".loc for label based indexing or\n",
      ".iloc for positional indexing\n",
      "\n",
      "See the documentation here:\n",
      "http://pandas.pydata.org/pandas-docs/stable/indexing.html#ix-indexer-is-deprecated\n",
      "  if sys.path[0] == '':\n",
      "C:\\Users\\user\\Anaconda3\\lib\\site-packages\\ipykernel_launcher.py:12: FutureWarning: \n",
      "Passing list-likes to .loc or [] with any missing label will raise\n",
      "KeyError in the future, you can use .reindex() as an alternative.\n",
      "\n",
      "See the documentation here:\n",
      "https://pandas.pydata.org/pandas-docs/stable/indexing.html#deprecate-loc-reindex-listlike\n",
      "  if sys.path[0] == '':\n"
     ]
    },
    {
     "data": {
      "text/plain": [
       "movie id\n",
       "174                             Brazil (1985)\n",
       "98     Snow White and the Seven Dwarfs (1937)\n",
       "100                        Heavy Metal (1981)\n",
       "79                Hot Shots! Part Deux (1993)\n",
       "96                  Dances with Wolves (1990)\n",
       "173            Raiders of the Lost Ark (1981)\n",
       "7                                 Babe (1995)\n",
       "195                 Dead Poets Society (1989)\n",
       "258               George of the Jungle (1997)\n",
       "127                           Supercop (1992)\n",
       "12                    Mighty Aphrodite (1995)\n",
       "222                        Sling Blade (1996)\n",
       "318           Everyone Says I Love You (1996)\n",
       "257                            Contact (1997)\n",
       "144                 Lawnmower Man, The (1992)\n",
       "176    Good, The Bad and The Ugly, The (1966)\n",
       "183                   Army of Darkness (1993)\n",
       "168                Wrong Trousers, The (1993)\n",
       "204                             Patton (1970)\n",
       "11                 Usual Suspects, The (1995)\n",
       "Name: movie title, dtype: object"
      ]
     },
     "execution_count": 139,
     "metadata": {},
     "output_type": "execute_result"
    }
   ],
   "source": [
    "recommend_movies(newreconstruction,944,movies,newratings)['movie title']"
   ]
  },
  {
   "cell_type": "markdown",
   "metadata": {},
   "source": [
    "We looked through the first 700 movies and rated every movie we knew. Since we didn't know all the english names me missed some. We have seen some of the recommended films and enjoyed them. Additionally some of the films look interesting shows that code produced reasonable results."
   ]
  },
  {
   "cell_type": "code",
   "execution_count": null,
   "metadata": {},
   "outputs": [],
   "source": []
  }
 ],
 "metadata": {
  "kernelspec": {
   "display_name": "Python 3",
   "language": "python",
   "name": "python3"
  },
  "language_info": {
   "codemirror_mode": {
    "name": "ipython",
    "version": 3
   },
   "file_extension": ".py",
   "mimetype": "text/x-python",
   "name": "python",
   "nbconvert_exporter": "python",
   "pygments_lexer": "ipython3",
   "version": "3.7.0"
  }
 },
 "nbformat": 4,
 "nbformat_minor": 2
}
